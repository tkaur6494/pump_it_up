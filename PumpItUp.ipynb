{
 "cells": [
  {
   "cell_type": "markdown",
   "metadata": {},
   "source": [
    "# INFO-F-422 -  Statistical Foundations of Machine Learning \n",
    "\n",
    "### Abhisheik Krishnagiri Tupil Ravikanth - __[abhisheik.krishnagiri.tupil.ravikanth@vub.ac.be](mailto:student1@ulb.ac.be) - Student ID 0575002__\n",
    "### Sajjad Mahmoudi - __[sajjad.mahmoudi@vub.be](mailto:student2@ulb.ac.be) - Student ID 0573106__\n",
    "### Tripat Kaur - __[tripat.kaur@vub.be](mailto:student3@ulb.ac.be) - Student ID 0572962__\n",
    "\n",
    "### Video presentation: https://youtu.be/Q164qI5EOVQ\n",
    "\n",
    "## Data Driven - Pump It Up\n"
   ]
  },
  {
   "cell_type": "markdown",
   "metadata": {},
   "source": [
    "# Introduction"
   ]
  },
  {
   "cell_type": "markdown",
   "metadata": {},
   "source": [
    "----\n",
    "Installing the required packages for the code execution."
   ]
  },
  {
   "cell_type": "code",
   "execution_count": 1,
   "metadata": {},
   "outputs": [
    {
     "name": "stderr",
     "output_type": "stream",
     "text": [
      "Installing package into 'C:/Users/HP/Documents/R/win-library/4.0'\n",
      "(as 'lib' is unspecified)\n",
      "\n"
     ]
    },
    {
     "name": "stdout",
     "output_type": "stream",
     "text": [
      "package 'randomForest' successfully unpacked and MD5 sums checked\n",
      "\n",
      "The downloaded binary packages are in\n",
      "\tC:\\Users\\HP\\AppData\\Local\\Temp\\RtmpaOmOn0\\downloaded_packages\n"
     ]
    },
    {
     "name": "stderr",
     "output_type": "stream",
     "text": [
      "randomForest 4.6-14\n",
      "\n",
      "Type rfNews() to see new features/changes/bug fixes.\n",
      "\n",
      "Installing package into 'C:/Users/HP/Documents/R/win-library/4.0'\n",
      "(as 'lib' is unspecified)\n",
      "\n"
     ]
    },
    {
     "name": "stdout",
     "output_type": "stream",
     "text": [
      "package 'tidyverse' successfully unpacked and MD5 sums checked\n",
      "\n",
      "The downloaded binary packages are in\n",
      "\tC:\\Users\\HP\\AppData\\Local\\Temp\\RtmpaOmOn0\\downloaded_packages\n"
     ]
    },
    {
     "name": "stderr",
     "output_type": "stream",
     "text": [
      "-- \u001b[1mAttaching packages\u001b[22m ------------------------------------------------------------------------------- tidyverse 1.3.1 --\n",
      "\n",
      "\u001b[32mv\u001b[39m \u001b[34mggplot2\u001b[39m 3.3.3     \u001b[32mv\u001b[39m \u001b[34mpurrr  \u001b[39m 0.3.4\n",
      "\u001b[32mv\u001b[39m \u001b[34mtibble \u001b[39m 3.1.0     \u001b[32mv\u001b[39m \u001b[34mdplyr  \u001b[39m 1.0.5\n",
      "\u001b[32mv\u001b[39m \u001b[34mtidyr  \u001b[39m 1.1.3     \u001b[32mv\u001b[39m \u001b[34mstringr\u001b[39m 1.4.0\n",
      "\u001b[32mv\u001b[39m \u001b[34mreadr  \u001b[39m 1.4.0     \u001b[32mv\u001b[39m \u001b[34mforcats\u001b[39m 0.5.1\n",
      "\n",
      "-- \u001b[1mConflicts\u001b[22m ---------------------------------------------------------------------------------- tidyverse_conflicts() --\n",
      "\u001b[31mx\u001b[39m \u001b[34mdplyr\u001b[39m::\u001b[32mcombine()\u001b[39m  masks \u001b[34mrandomForest\u001b[39m::combine()\n",
      "\u001b[31mx\u001b[39m \u001b[34mdplyr\u001b[39m::\u001b[32mfilter()\u001b[39m   masks \u001b[34mstats\u001b[39m::filter()\n",
      "\u001b[31mx\u001b[39m \u001b[34mdplyr\u001b[39m::\u001b[32mlag()\u001b[39m      masks \u001b[34mstats\u001b[39m::lag()\n",
      "\u001b[31mx\u001b[39m \u001b[34mggplot2\u001b[39m::\u001b[32mmargin()\u001b[39m masks \u001b[34mrandomForest\u001b[39m::margin()\n",
      "\n",
      "Installing package into 'C:/Users/HP/Documents/R/win-library/4.0'\n",
      "(as 'lib' is unspecified)\n",
      "\n"
     ]
    },
    {
     "name": "stdout",
     "output_type": "stream",
     "text": [
      "\n",
      "  There is a binary version available but the source version is later:\n",
      "      binary source needs_compilation\n",
      "caret 6.0-86 6.0-88              TRUE\n",
      "\n",
      "  Binaries will be installed\n",
      "package 'caret' successfully unpacked and MD5 sums checked\n",
      "\n",
      "The downloaded binary packages are in\n",
      "\tC:\\Users\\HP\\AppData\\Local\\Temp\\RtmpaOmOn0\\downloaded_packages\n"
     ]
    },
    {
     "name": "stderr",
     "output_type": "stream",
     "text": [
      "Loading required package: lattice\n",
      "\n",
      "\n",
      "Attaching package: 'caret'\n",
      "\n",
      "\n",
      "The following object is masked from 'package:purrr':\n",
      "\n",
      "    lift\n",
      "\n",
      "\n",
      "Installing package into 'C:/Users/HP/Documents/R/win-library/4.0'\n",
      "(as 'lib' is unspecified)\n",
      "\n"
     ]
    },
    {
     "name": "stdout",
     "output_type": "stream",
     "text": [
      "package 'class' successfully unpacked and MD5 sums checked\n"
     ]
    },
    {
     "name": "stderr",
     "output_type": "stream",
     "text": [
      "Warning message:\n",
      "\"cannot remove prior installation of package 'class'\"\n",
      "Warning message in file.copy(savedcopy, lib, recursive = TRUE):\n",
      "\"problem copying C:\\Users\\HP\\Documents\\R\\win-library\\4.0\\00LOCK\\class\\libs\\x64\\class.dll to C:\\Users\\HP\\Documents\\R\\win-library\\4.0\\class\\libs\\x64\\class.dll: Permission denied\"\n",
      "Warning message:\n",
      "\"restored 'class'\"\n"
     ]
    },
    {
     "name": "stdout",
     "output_type": "stream",
     "text": [
      "\n",
      "The downloaded binary packages are in\n",
      "\tC:\\Users\\HP\\AppData\\Local\\Temp\\RtmpaOmOn0\\downloaded_packages\n"
     ]
    },
    {
     "name": "stderr",
     "output_type": "stream",
     "text": [
      "Installing package into 'C:/Users/HP/Documents/R/win-library/4.0'\n",
      "(as 'lib' is unspecified)\n",
      "\n"
     ]
    },
    {
     "name": "stdout",
     "output_type": "stream",
     "text": [
      "package 'rpart.plot' successfully unpacked and MD5 sums checked\n",
      "\n",
      "The downloaded binary packages are in\n",
      "\tC:\\Users\\HP\\AppData\\Local\\Temp\\RtmpaOmOn0\\downloaded_packages\n"
     ]
    },
    {
     "name": "stderr",
     "output_type": "stream",
     "text": [
      "Installing package into 'C:/Users/HP/Documents/R/win-library/4.0'\n",
      "(as 'lib' is unspecified)\n",
      "\n"
     ]
    },
    {
     "name": "stdout",
     "output_type": "stream",
     "text": [
      "package 'corrplot' successfully unpacked and MD5 sums checked\n",
      "\n",
      "The downloaded binary packages are in\n",
      "\tC:\\Users\\HP\\AppData\\Local\\Temp\\RtmpaOmOn0\\downloaded_packages\n"
     ]
    },
    {
     "name": "stderr",
     "output_type": "stream",
     "text": [
      "corrplot 0.88 loaded\n",
      "\n"
     ]
    }
   ],
   "source": [
    "install.packages('randomForest')\n",
    "library(randomForest)\n",
    "install.packages('tidyverse')\n",
    "library(tidyverse)\n",
    "install.packages(\"caret\")\n",
    "library(caret)\n",
    "install.packages(\"class\")\n",
    "library(class)\n",
    "install.packages(\"rpart.plot\")\n",
    "library(rpart)\n",
    "library(rpart.plot)\n",
    "install.packages(\"corrplot\")\n",
    "library(corrplot)"
   ]
  },
  {
   "cell_type": "code",
   "execution_count": 2,
   "metadata": {},
   "outputs": [],
   "source": [
    "#defining functions for caluclating precision, recall, and f1-score\n",
    "calc_precision <- function(confusion_matrix){\n",
    "    precision <- rep(0,length(confusion_matrix[,1]))\n",
    "    for (col in seq(1,length(confusion_matrix[,1]))){\n",
    "       precision[col] <-confusion_matrix[col,col]/sum(confusion_matrix[1:3,col])*100\n",
    "    }\n",
    "    return (precision)\n",
    "}\n",
    "\n",
    "calc_recall <- function(confusion_matrix){\n",
    "    recall <- rep(0,length(confusion_matrix[,1]))\n",
    "    for (row in seq(1,length(confusion_matrix[,1]))){\n",
    "       recall[row] <- confusion_matrix[row,row]/sum(confusion_matrix[row,1:3])*100\n",
    "    }\n",
    "    return (recall)\n",
    "}\n",
    "\n",
    "calc_f1 <- function(precision,recall){\n",
    "    f1 <- rep(0,length(precision))\n",
    "    for (i in seq(1, length(precision))){\n",
    "        f1[i] <- (2*((precision[i]*recall[i])/(precision[i]+recall[i])))\n",
    "    }\n",
    "    return (f1)\n",
    "}"
   ]
  },
  {
   "cell_type": "markdown",
   "metadata": {},
   "source": [
    "### Reading the training input and output data and combining them into one drataframe and getting summary"
   ]
  },
  {
   "cell_type": "code",
   "execution_count": 3,
   "metadata": {},
   "outputs": [
    {
     "data": {
      "text/html": [
       "<dl>\n",
       "\t<dt>$id</dt>\n",
       "\t\t<dd><table class=\"dataframe\">\n",
       "<caption>A matrix: 6 × 1 of type dbl</caption>\n",
       "<tbody>\n",
       "\t<tr><th scope=row>Min.</th><td>    0.00</td></tr>\n",
       "\t<tr><th scope=row>1st Qu.</th><td>18519.75</td></tr>\n",
       "\t<tr><th scope=row>Median</th><td>37061.50</td></tr>\n",
       "\t<tr><th scope=row>Mean</th><td>37115.13</td></tr>\n",
       "\t<tr><th scope=row>3rd Qu.</th><td>55656.50</td></tr>\n",
       "\t<tr><th scope=row>Max.</th><td>74247.00</td></tr>\n",
       "</tbody>\n",
       "</table>\n",
       "</dd>\n",
       "\t<dt>$amount_tsh</dt>\n",
       "\t\t<dd><table class=\"dataframe\">\n",
       "<caption>A matrix: 6 × 1 of type dbl</caption>\n",
       "<tbody>\n",
       "\t<tr><th scope=row>Min.</th><td>     0.0000</td></tr>\n",
       "\t<tr><th scope=row>1st Qu.</th><td>     0.0000</td></tr>\n",
       "\t<tr><th scope=row>Median</th><td>     0.0000</td></tr>\n",
       "\t<tr><th scope=row>Mean</th><td>   317.6504</td></tr>\n",
       "\t<tr><th scope=row>3rd Qu.</th><td>    20.0000</td></tr>\n",
       "\t<tr><th scope=row>Max.</th><td>350000.0000</td></tr>\n",
       "</tbody>\n",
       "</table>\n",
       "</dd>\n",
       "\t<dt>$date_recorded</dt>\n",
       "\t\t<dd><table class=\"dataframe\">\n",
       "<caption>A matrix: 3 × 1 of type chr</caption>\n",
       "<tbody>\n",
       "\t<tr><th scope=row>Length</th><td>59400    </td></tr>\n",
       "\t<tr><th scope=row>Class</th><td>character</td></tr>\n",
       "\t<tr><th scope=row>Mode</th><td>character</td></tr>\n",
       "</tbody>\n",
       "</table>\n",
       "</dd>\n",
       "\t<dt>$funder</dt>\n",
       "\t\t<dd><table class=\"dataframe\">\n",
       "<caption>A matrix: 3 × 1 of type chr</caption>\n",
       "<tbody>\n",
       "\t<tr><th scope=row>Length</th><td>59400    </td></tr>\n",
       "\t<tr><th scope=row>Class</th><td>character</td></tr>\n",
       "\t<tr><th scope=row>Mode</th><td>character</td></tr>\n",
       "</tbody>\n",
       "</table>\n",
       "</dd>\n",
       "\t<dt>$gps_height</dt>\n",
       "\t\t<dd><table class=\"dataframe\">\n",
       "<caption>A matrix: 6 × 1 of type dbl</caption>\n",
       "<tbody>\n",
       "\t<tr><th scope=row>Min.</th><td> -90.0000</td></tr>\n",
       "\t<tr><th scope=row>1st Qu.</th><td>   0.0000</td></tr>\n",
       "\t<tr><th scope=row>Median</th><td> 369.0000</td></tr>\n",
       "\t<tr><th scope=row>Mean</th><td> 668.2972</td></tr>\n",
       "\t<tr><th scope=row>3rd Qu.</th><td>1319.2500</td></tr>\n",
       "\t<tr><th scope=row>Max.</th><td>2770.0000</td></tr>\n",
       "</tbody>\n",
       "</table>\n",
       "</dd>\n",
       "\t<dt>$installer</dt>\n",
       "\t\t<dd><table class=\"dataframe\">\n",
       "<caption>A matrix: 3 × 1 of type chr</caption>\n",
       "<tbody>\n",
       "\t<tr><th scope=row>Length</th><td>59400    </td></tr>\n",
       "\t<tr><th scope=row>Class</th><td>character</td></tr>\n",
       "\t<tr><th scope=row>Mode</th><td>character</td></tr>\n",
       "</tbody>\n",
       "</table>\n",
       "</dd>\n",
       "\t<dt>$longitude</dt>\n",
       "\t\t<dd><table class=\"dataframe\">\n",
       "<caption>A matrix: 6 × 1 of type dbl</caption>\n",
       "<tbody>\n",
       "\t<tr><th scope=row>Min.</th><td> 0.00000</td></tr>\n",
       "\t<tr><th scope=row>1st Qu.</th><td>33.09035</td></tr>\n",
       "\t<tr><th scope=row>Median</th><td>34.90874</td></tr>\n",
       "\t<tr><th scope=row>Mean</th><td>34.07743</td></tr>\n",
       "\t<tr><th scope=row>3rd Qu.</th><td>37.17839</td></tr>\n",
       "\t<tr><th scope=row>Max.</th><td>40.34519</td></tr>\n",
       "</tbody>\n",
       "</table>\n",
       "</dd>\n",
       "\t<dt>$latitude</dt>\n",
       "\t\t<dd><table class=\"dataframe\">\n",
       "<caption>A matrix: 6 × 1 of type dbl</caption>\n",
       "<tbody>\n",
       "\t<tr><th scope=row>Min.</th><td>-11.64944018</td></tr>\n",
       "\t<tr><th scope=row>1st Qu.</th><td> -8.54062131</td></tr>\n",
       "\t<tr><th scope=row>Median</th><td> -5.02159665</td></tr>\n",
       "\t<tr><th scope=row>Mean</th><td> -5.70603266</td></tr>\n",
       "\t<tr><th scope=row>3rd Qu.</th><td> -3.32615564</td></tr>\n",
       "\t<tr><th scope=row>Max.</th><td> -0.00000002</td></tr>\n",
       "</tbody>\n",
       "</table>\n",
       "</dd>\n",
       "\t<dt>$wpt_name</dt>\n",
       "\t\t<dd><table class=\"dataframe\">\n",
       "<caption>A matrix: 3 × 1 of type chr</caption>\n",
       "<tbody>\n",
       "\t<tr><th scope=row>Length</th><td>59400    </td></tr>\n",
       "\t<tr><th scope=row>Class</th><td>character</td></tr>\n",
       "\t<tr><th scope=row>Mode</th><td>character</td></tr>\n",
       "</tbody>\n",
       "</table>\n",
       "</dd>\n",
       "\t<dt>$num_private</dt>\n",
       "\t\t<dd><table class=\"dataframe\">\n",
       "<caption>A matrix: 6 × 1 of type dbl</caption>\n",
       "<tbody>\n",
       "\t<tr><th scope=row>Min.</th><td>   0.0000000</td></tr>\n",
       "\t<tr><th scope=row>1st Qu.</th><td>   0.0000000</td></tr>\n",
       "\t<tr><th scope=row>Median</th><td>   0.0000000</td></tr>\n",
       "\t<tr><th scope=row>Mean</th><td>   0.4741414</td></tr>\n",
       "\t<tr><th scope=row>3rd Qu.</th><td>   0.0000000</td></tr>\n",
       "\t<tr><th scope=row>Max.</th><td>1776.0000000</td></tr>\n",
       "</tbody>\n",
       "</table>\n",
       "</dd>\n",
       "\t<dt>$basin</dt>\n",
       "\t\t<dd><table class=\"dataframe\">\n",
       "<caption>A matrix: 3 × 1 of type chr</caption>\n",
       "<tbody>\n",
       "\t<tr><th scope=row>Length</th><td>59400    </td></tr>\n",
       "\t<tr><th scope=row>Class</th><td>character</td></tr>\n",
       "\t<tr><th scope=row>Mode</th><td>character</td></tr>\n",
       "</tbody>\n",
       "</table>\n",
       "</dd>\n",
       "\t<dt>$subvillage</dt>\n",
       "\t\t<dd><table class=\"dataframe\">\n",
       "<caption>A matrix: 3 × 1 of type chr</caption>\n",
       "<tbody>\n",
       "\t<tr><th scope=row>Length</th><td>59400    </td></tr>\n",
       "\t<tr><th scope=row>Class</th><td>character</td></tr>\n",
       "\t<tr><th scope=row>Mode</th><td>character</td></tr>\n",
       "</tbody>\n",
       "</table>\n",
       "</dd>\n",
       "\t<dt>$region</dt>\n",
       "\t\t<dd><table class=\"dataframe\">\n",
       "<caption>A matrix: 3 × 1 of type chr</caption>\n",
       "<tbody>\n",
       "\t<tr><th scope=row>Length</th><td>59400    </td></tr>\n",
       "\t<tr><th scope=row>Class</th><td>character</td></tr>\n",
       "\t<tr><th scope=row>Mode</th><td>character</td></tr>\n",
       "</tbody>\n",
       "</table>\n",
       "</dd>\n",
       "\t<dt>$region_code</dt>\n",
       "\t\t<dd><table class=\"dataframe\">\n",
       "<caption>A matrix: 6 × 1 of type dbl</caption>\n",
       "<tbody>\n",
       "\t<tr><th scope=row>Min.</th><td> 1.000</td></tr>\n",
       "\t<tr><th scope=row>1st Qu.</th><td> 5.000</td></tr>\n",
       "\t<tr><th scope=row>Median</th><td>12.000</td></tr>\n",
       "\t<tr><th scope=row>Mean</th><td>15.297</td></tr>\n",
       "\t<tr><th scope=row>3rd Qu.</th><td>17.000</td></tr>\n",
       "\t<tr><th scope=row>Max.</th><td>99.000</td></tr>\n",
       "</tbody>\n",
       "</table>\n",
       "</dd>\n",
       "\t<dt>$district_code</dt>\n",
       "\t\t<dd><table class=\"dataframe\">\n",
       "<caption>A matrix: 6 × 1 of type dbl</caption>\n",
       "<tbody>\n",
       "\t<tr><th scope=row>Min.</th><td> 0.000000</td></tr>\n",
       "\t<tr><th scope=row>1st Qu.</th><td> 2.000000</td></tr>\n",
       "\t<tr><th scope=row>Median</th><td> 3.000000</td></tr>\n",
       "\t<tr><th scope=row>Mean</th><td> 5.629747</td></tr>\n",
       "\t<tr><th scope=row>3rd Qu.</th><td> 5.000000</td></tr>\n",
       "\t<tr><th scope=row>Max.</th><td>80.000000</td></tr>\n",
       "</tbody>\n",
       "</table>\n",
       "</dd>\n",
       "\t<dt>$lga</dt>\n",
       "\t\t<dd><table class=\"dataframe\">\n",
       "<caption>A matrix: 3 × 1 of type chr</caption>\n",
       "<tbody>\n",
       "\t<tr><th scope=row>Length</th><td>59400    </td></tr>\n",
       "\t<tr><th scope=row>Class</th><td>character</td></tr>\n",
       "\t<tr><th scope=row>Mode</th><td>character</td></tr>\n",
       "</tbody>\n",
       "</table>\n",
       "</dd>\n",
       "\t<dt>$ward</dt>\n",
       "\t\t<dd><table class=\"dataframe\">\n",
       "<caption>A matrix: 3 × 1 of type chr</caption>\n",
       "<tbody>\n",
       "\t<tr><th scope=row>Length</th><td>59400    </td></tr>\n",
       "\t<tr><th scope=row>Class</th><td>character</td></tr>\n",
       "\t<tr><th scope=row>Mode</th><td>character</td></tr>\n",
       "</tbody>\n",
       "</table>\n",
       "</dd>\n",
       "\t<dt>$population</dt>\n",
       "\t\t<dd><table class=\"dataframe\">\n",
       "<caption>A matrix: 6 × 1 of type dbl</caption>\n",
       "<tbody>\n",
       "\t<tr><th scope=row>Min.</th><td>    0.00</td></tr>\n",
       "\t<tr><th scope=row>1st Qu.</th><td>    0.00</td></tr>\n",
       "\t<tr><th scope=row>Median</th><td>   25.00</td></tr>\n",
       "\t<tr><th scope=row>Mean</th><td>  179.91</td></tr>\n",
       "\t<tr><th scope=row>3rd Qu.</th><td>  215.00</td></tr>\n",
       "\t<tr><th scope=row>Max.</th><td>30500.00</td></tr>\n",
       "</tbody>\n",
       "</table>\n",
       "</dd>\n",
       "\t<dt>$public_meeting</dt>\n",
       "\t\t<dd><table class=\"dataframe\">\n",
       "<caption>A matrix: 3 × 1 of type chr</caption>\n",
       "<tbody>\n",
       "\t<tr><th scope=row>Length</th><td>59400    </td></tr>\n",
       "\t<tr><th scope=row>Class</th><td>character</td></tr>\n",
       "\t<tr><th scope=row>Mode</th><td>character</td></tr>\n",
       "</tbody>\n",
       "</table>\n",
       "</dd>\n",
       "\t<dt>$recorded_by</dt>\n",
       "\t\t<dd><table class=\"dataframe\">\n",
       "<caption>A matrix: 3 × 1 of type chr</caption>\n",
       "<tbody>\n",
       "\t<tr><th scope=row>Length</th><td>59400    </td></tr>\n",
       "\t<tr><th scope=row>Class</th><td>character</td></tr>\n",
       "\t<tr><th scope=row>Mode</th><td>character</td></tr>\n",
       "</tbody>\n",
       "</table>\n",
       "</dd>\n",
       "\t<dt>$scheme_management</dt>\n",
       "\t\t<dd><table class=\"dataframe\">\n",
       "<caption>A matrix: 3 × 1 of type chr</caption>\n",
       "<tbody>\n",
       "\t<tr><th scope=row>Length</th><td>59400    </td></tr>\n",
       "\t<tr><th scope=row>Class</th><td>character</td></tr>\n",
       "\t<tr><th scope=row>Mode</th><td>character</td></tr>\n",
       "</tbody>\n",
       "</table>\n",
       "</dd>\n",
       "\t<dt>$scheme_name</dt>\n",
       "\t\t<dd><table class=\"dataframe\">\n",
       "<caption>A matrix: 3 × 1 of type chr</caption>\n",
       "<tbody>\n",
       "\t<tr><th scope=row>Length</th><td>59400    </td></tr>\n",
       "\t<tr><th scope=row>Class</th><td>character</td></tr>\n",
       "\t<tr><th scope=row>Mode</th><td>character</td></tr>\n",
       "</tbody>\n",
       "</table>\n",
       "</dd>\n",
       "\t<dt>$permit</dt>\n",
       "\t\t<dd><table class=\"dataframe\">\n",
       "<caption>A matrix: 3 × 1 of type chr</caption>\n",
       "<tbody>\n",
       "\t<tr><th scope=row>Length</th><td>59400    </td></tr>\n",
       "\t<tr><th scope=row>Class</th><td>character</td></tr>\n",
       "\t<tr><th scope=row>Mode</th><td>character</td></tr>\n",
       "</tbody>\n",
       "</table>\n",
       "</dd>\n",
       "\t<dt>$construction_year</dt>\n",
       "\t\t<dd><table class=\"dataframe\">\n",
       "<caption>A matrix: 6 × 1 of type dbl</caption>\n",
       "<tbody>\n",
       "\t<tr><th scope=row>Min.</th><td>   0.000</td></tr>\n",
       "\t<tr><th scope=row>1st Qu.</th><td>   0.000</td></tr>\n",
       "\t<tr><th scope=row>Median</th><td>1986.000</td></tr>\n",
       "\t<tr><th scope=row>Mean</th><td>1300.652</td></tr>\n",
       "\t<tr><th scope=row>3rd Qu.</th><td>2004.000</td></tr>\n",
       "\t<tr><th scope=row>Max.</th><td>2013.000</td></tr>\n",
       "</tbody>\n",
       "</table>\n",
       "</dd>\n",
       "\t<dt>$extraction_type</dt>\n",
       "\t\t<dd><table class=\"dataframe\">\n",
       "<caption>A matrix: 3 × 1 of type chr</caption>\n",
       "<tbody>\n",
       "\t<tr><th scope=row>Length</th><td>59400    </td></tr>\n",
       "\t<tr><th scope=row>Class</th><td>character</td></tr>\n",
       "\t<tr><th scope=row>Mode</th><td>character</td></tr>\n",
       "</tbody>\n",
       "</table>\n",
       "</dd>\n",
       "\t<dt>$extraction_type_group</dt>\n",
       "\t\t<dd><table class=\"dataframe\">\n",
       "<caption>A matrix: 3 × 1 of type chr</caption>\n",
       "<tbody>\n",
       "\t<tr><th scope=row>Length</th><td>59400    </td></tr>\n",
       "\t<tr><th scope=row>Class</th><td>character</td></tr>\n",
       "\t<tr><th scope=row>Mode</th><td>character</td></tr>\n",
       "</tbody>\n",
       "</table>\n",
       "</dd>\n",
       "\t<dt>$extraction_type_class</dt>\n",
       "\t\t<dd><table class=\"dataframe\">\n",
       "<caption>A matrix: 3 × 1 of type chr</caption>\n",
       "<tbody>\n",
       "\t<tr><th scope=row>Length</th><td>59400    </td></tr>\n",
       "\t<tr><th scope=row>Class</th><td>character</td></tr>\n",
       "\t<tr><th scope=row>Mode</th><td>character</td></tr>\n",
       "</tbody>\n",
       "</table>\n",
       "</dd>\n",
       "\t<dt>$management</dt>\n",
       "\t\t<dd><table class=\"dataframe\">\n",
       "<caption>A matrix: 3 × 1 of type chr</caption>\n",
       "<tbody>\n",
       "\t<tr><th scope=row>Length</th><td>59400    </td></tr>\n",
       "\t<tr><th scope=row>Class</th><td>character</td></tr>\n",
       "\t<tr><th scope=row>Mode</th><td>character</td></tr>\n",
       "</tbody>\n",
       "</table>\n",
       "</dd>\n",
       "\t<dt>$management_group</dt>\n",
       "\t\t<dd><table class=\"dataframe\">\n",
       "<caption>A matrix: 3 × 1 of type chr</caption>\n",
       "<tbody>\n",
       "\t<tr><th scope=row>Length</th><td>59400    </td></tr>\n",
       "\t<tr><th scope=row>Class</th><td>character</td></tr>\n",
       "\t<tr><th scope=row>Mode</th><td>character</td></tr>\n",
       "</tbody>\n",
       "</table>\n",
       "</dd>\n",
       "\t<dt>$payment</dt>\n",
       "\t\t<dd><table class=\"dataframe\">\n",
       "<caption>A matrix: 3 × 1 of type chr</caption>\n",
       "<tbody>\n",
       "\t<tr><th scope=row>Length</th><td>59400    </td></tr>\n",
       "\t<tr><th scope=row>Class</th><td>character</td></tr>\n",
       "\t<tr><th scope=row>Mode</th><td>character</td></tr>\n",
       "</tbody>\n",
       "</table>\n",
       "</dd>\n",
       "\t<dt>$payment_type</dt>\n",
       "\t\t<dd><table class=\"dataframe\">\n",
       "<caption>A matrix: 3 × 1 of type chr</caption>\n",
       "<tbody>\n",
       "\t<tr><th scope=row>Length</th><td>59400    </td></tr>\n",
       "\t<tr><th scope=row>Class</th><td>character</td></tr>\n",
       "\t<tr><th scope=row>Mode</th><td>character</td></tr>\n",
       "</tbody>\n",
       "</table>\n",
       "</dd>\n",
       "\t<dt>$water_quality</dt>\n",
       "\t\t<dd><table class=\"dataframe\">\n",
       "<caption>A matrix: 3 × 1 of type chr</caption>\n",
       "<tbody>\n",
       "\t<tr><th scope=row>Length</th><td>59400    </td></tr>\n",
       "\t<tr><th scope=row>Class</th><td>character</td></tr>\n",
       "\t<tr><th scope=row>Mode</th><td>character</td></tr>\n",
       "</tbody>\n",
       "</table>\n",
       "</dd>\n",
       "\t<dt>$quality_group</dt>\n",
       "\t\t<dd><table class=\"dataframe\">\n",
       "<caption>A matrix: 3 × 1 of type chr</caption>\n",
       "<tbody>\n",
       "\t<tr><th scope=row>Length</th><td>59400    </td></tr>\n",
       "\t<tr><th scope=row>Class</th><td>character</td></tr>\n",
       "\t<tr><th scope=row>Mode</th><td>character</td></tr>\n",
       "</tbody>\n",
       "</table>\n",
       "</dd>\n",
       "\t<dt>$quantity</dt>\n",
       "\t\t<dd><table class=\"dataframe\">\n",
       "<caption>A matrix: 3 × 1 of type chr</caption>\n",
       "<tbody>\n",
       "\t<tr><th scope=row>Length</th><td>59400    </td></tr>\n",
       "\t<tr><th scope=row>Class</th><td>character</td></tr>\n",
       "\t<tr><th scope=row>Mode</th><td>character</td></tr>\n",
       "</tbody>\n",
       "</table>\n",
       "</dd>\n",
       "\t<dt>$quantity_group</dt>\n",
       "\t\t<dd><table class=\"dataframe\">\n",
       "<caption>A matrix: 3 × 1 of type chr</caption>\n",
       "<tbody>\n",
       "\t<tr><th scope=row>Length</th><td>59400    </td></tr>\n",
       "\t<tr><th scope=row>Class</th><td>character</td></tr>\n",
       "\t<tr><th scope=row>Mode</th><td>character</td></tr>\n",
       "</tbody>\n",
       "</table>\n",
       "</dd>\n",
       "\t<dt>$source</dt>\n",
       "\t\t<dd><table class=\"dataframe\">\n",
       "<caption>A matrix: 3 × 1 of type chr</caption>\n",
       "<tbody>\n",
       "\t<tr><th scope=row>Length</th><td>59400    </td></tr>\n",
       "\t<tr><th scope=row>Class</th><td>character</td></tr>\n",
       "\t<tr><th scope=row>Mode</th><td>character</td></tr>\n",
       "</tbody>\n",
       "</table>\n",
       "</dd>\n",
       "\t<dt>$source_type</dt>\n",
       "\t\t<dd><table class=\"dataframe\">\n",
       "<caption>A matrix: 3 × 1 of type chr</caption>\n",
       "<tbody>\n",
       "\t<tr><th scope=row>Length</th><td>59400    </td></tr>\n",
       "\t<tr><th scope=row>Class</th><td>character</td></tr>\n",
       "\t<tr><th scope=row>Mode</th><td>character</td></tr>\n",
       "</tbody>\n",
       "</table>\n",
       "</dd>\n",
       "\t<dt>$source_class</dt>\n",
       "\t\t<dd><table class=\"dataframe\">\n",
       "<caption>A matrix: 3 × 1 of type chr</caption>\n",
       "<tbody>\n",
       "\t<tr><th scope=row>Length</th><td>59400    </td></tr>\n",
       "\t<tr><th scope=row>Class</th><td>character</td></tr>\n",
       "\t<tr><th scope=row>Mode</th><td>character</td></tr>\n",
       "</tbody>\n",
       "</table>\n",
       "</dd>\n",
       "\t<dt>$waterpoint_type</dt>\n",
       "\t\t<dd><table class=\"dataframe\">\n",
       "<caption>A matrix: 3 × 1 of type chr</caption>\n",
       "<tbody>\n",
       "\t<tr><th scope=row>Length</th><td>59400    </td></tr>\n",
       "\t<tr><th scope=row>Class</th><td>character</td></tr>\n",
       "\t<tr><th scope=row>Mode</th><td>character</td></tr>\n",
       "</tbody>\n",
       "</table>\n",
       "</dd>\n",
       "\t<dt>$waterpoint_type_group</dt>\n",
       "\t\t<dd><table class=\"dataframe\">\n",
       "<caption>A matrix: 3 × 1 of type chr</caption>\n",
       "<tbody>\n",
       "\t<tr><th scope=row>Length</th><td>59400    </td></tr>\n",
       "\t<tr><th scope=row>Class</th><td>character</td></tr>\n",
       "\t<tr><th scope=row>Mode</th><td>character</td></tr>\n",
       "</tbody>\n",
       "</table>\n",
       "</dd>\n",
       "\t<dt>$status_group</dt>\n",
       "\t\t<dd><table class=\"dataframe\">\n",
       "<caption>A matrix: 3 × 1 of type chr</caption>\n",
       "<tbody>\n",
       "\t<tr><th scope=row>Length</th><td>59400    </td></tr>\n",
       "\t<tr><th scope=row>Class</th><td>character</td></tr>\n",
       "\t<tr><th scope=row>Mode</th><td>character</td></tr>\n",
       "</tbody>\n",
       "</table>\n",
       "</dd>\n",
       "</dl>\n"
      ],
      "text/latex": [
       "\\begin{description}\n",
       "\\item[\\$id] A matrix: 6 × 1 of type dbl\n",
       "\\begin{tabular}{r|l}\n",
       "\tMin. &     0.00\\\\\n",
       "\t1st Qu. & 18519.75\\\\\n",
       "\tMedian & 37061.50\\\\\n",
       "\tMean & 37115.13\\\\\n",
       "\t3rd Qu. & 55656.50\\\\\n",
       "\tMax. & 74247.00\\\\\n",
       "\\end{tabular}\n",
       "\n",
       "\\item[\\$amount\\_tsh] A matrix: 6 × 1 of type dbl\n",
       "\\begin{tabular}{r|l}\n",
       "\tMin. &      0.0000\\\\\n",
       "\t1st Qu. &      0.0000\\\\\n",
       "\tMedian &      0.0000\\\\\n",
       "\tMean &    317.6504\\\\\n",
       "\t3rd Qu. &     20.0000\\\\\n",
       "\tMax. & 350000.0000\\\\\n",
       "\\end{tabular}\n",
       "\n",
       "\\item[\\$date\\_recorded] A matrix: 3 × 1 of type chr\n",
       "\\begin{tabular}{r|l}\n",
       "\tLength & 59400    \\\\\n",
       "\tClass & character\\\\\n",
       "\tMode & character\\\\\n",
       "\\end{tabular}\n",
       "\n",
       "\\item[\\$funder] A matrix: 3 × 1 of type chr\n",
       "\\begin{tabular}{r|l}\n",
       "\tLength & 59400    \\\\\n",
       "\tClass & character\\\\\n",
       "\tMode & character\\\\\n",
       "\\end{tabular}\n",
       "\n",
       "\\item[\\$gps\\_height] A matrix: 6 × 1 of type dbl\n",
       "\\begin{tabular}{r|l}\n",
       "\tMin. &  -90.0000\\\\\n",
       "\t1st Qu. &    0.0000\\\\\n",
       "\tMedian &  369.0000\\\\\n",
       "\tMean &  668.2972\\\\\n",
       "\t3rd Qu. & 1319.2500\\\\\n",
       "\tMax. & 2770.0000\\\\\n",
       "\\end{tabular}\n",
       "\n",
       "\\item[\\$installer] A matrix: 3 × 1 of type chr\n",
       "\\begin{tabular}{r|l}\n",
       "\tLength & 59400    \\\\\n",
       "\tClass & character\\\\\n",
       "\tMode & character\\\\\n",
       "\\end{tabular}\n",
       "\n",
       "\\item[\\$longitude] A matrix: 6 × 1 of type dbl\n",
       "\\begin{tabular}{r|l}\n",
       "\tMin. &  0.00000\\\\\n",
       "\t1st Qu. & 33.09035\\\\\n",
       "\tMedian & 34.90874\\\\\n",
       "\tMean & 34.07743\\\\\n",
       "\t3rd Qu. & 37.17839\\\\\n",
       "\tMax. & 40.34519\\\\\n",
       "\\end{tabular}\n",
       "\n",
       "\\item[\\$latitude] A matrix: 6 × 1 of type dbl\n",
       "\\begin{tabular}{r|l}\n",
       "\tMin. & -11.64944018\\\\\n",
       "\t1st Qu. &  -8.54062131\\\\\n",
       "\tMedian &  -5.02159665\\\\\n",
       "\tMean &  -5.70603266\\\\\n",
       "\t3rd Qu. &  -3.32615564\\\\\n",
       "\tMax. &  -0.00000002\\\\\n",
       "\\end{tabular}\n",
       "\n",
       "\\item[\\$wpt\\_name] A matrix: 3 × 1 of type chr\n",
       "\\begin{tabular}{r|l}\n",
       "\tLength & 59400    \\\\\n",
       "\tClass & character\\\\\n",
       "\tMode & character\\\\\n",
       "\\end{tabular}\n",
       "\n",
       "\\item[\\$num\\_private] A matrix: 6 × 1 of type dbl\n",
       "\\begin{tabular}{r|l}\n",
       "\tMin. &    0.0000000\\\\\n",
       "\t1st Qu. &    0.0000000\\\\\n",
       "\tMedian &    0.0000000\\\\\n",
       "\tMean &    0.4741414\\\\\n",
       "\t3rd Qu. &    0.0000000\\\\\n",
       "\tMax. & 1776.0000000\\\\\n",
       "\\end{tabular}\n",
       "\n",
       "\\item[\\$basin] A matrix: 3 × 1 of type chr\n",
       "\\begin{tabular}{r|l}\n",
       "\tLength & 59400    \\\\\n",
       "\tClass & character\\\\\n",
       "\tMode & character\\\\\n",
       "\\end{tabular}\n",
       "\n",
       "\\item[\\$subvillage] A matrix: 3 × 1 of type chr\n",
       "\\begin{tabular}{r|l}\n",
       "\tLength & 59400    \\\\\n",
       "\tClass & character\\\\\n",
       "\tMode & character\\\\\n",
       "\\end{tabular}\n",
       "\n",
       "\\item[\\$region] A matrix: 3 × 1 of type chr\n",
       "\\begin{tabular}{r|l}\n",
       "\tLength & 59400    \\\\\n",
       "\tClass & character\\\\\n",
       "\tMode & character\\\\\n",
       "\\end{tabular}\n",
       "\n",
       "\\item[\\$region\\_code] A matrix: 6 × 1 of type dbl\n",
       "\\begin{tabular}{r|l}\n",
       "\tMin. &  1.000\\\\\n",
       "\t1st Qu. &  5.000\\\\\n",
       "\tMedian & 12.000\\\\\n",
       "\tMean & 15.297\\\\\n",
       "\t3rd Qu. & 17.000\\\\\n",
       "\tMax. & 99.000\\\\\n",
       "\\end{tabular}\n",
       "\n",
       "\\item[\\$district\\_code] A matrix: 6 × 1 of type dbl\n",
       "\\begin{tabular}{r|l}\n",
       "\tMin. &  0.000000\\\\\n",
       "\t1st Qu. &  2.000000\\\\\n",
       "\tMedian &  3.000000\\\\\n",
       "\tMean &  5.629747\\\\\n",
       "\t3rd Qu. &  5.000000\\\\\n",
       "\tMax. & 80.000000\\\\\n",
       "\\end{tabular}\n",
       "\n",
       "\\item[\\$lga] A matrix: 3 × 1 of type chr\n",
       "\\begin{tabular}{r|l}\n",
       "\tLength & 59400    \\\\\n",
       "\tClass & character\\\\\n",
       "\tMode & character\\\\\n",
       "\\end{tabular}\n",
       "\n",
       "\\item[\\$ward] A matrix: 3 × 1 of type chr\n",
       "\\begin{tabular}{r|l}\n",
       "\tLength & 59400    \\\\\n",
       "\tClass & character\\\\\n",
       "\tMode & character\\\\\n",
       "\\end{tabular}\n",
       "\n",
       "\\item[\\$population] A matrix: 6 × 1 of type dbl\n",
       "\\begin{tabular}{r|l}\n",
       "\tMin. &     0.00\\\\\n",
       "\t1st Qu. &     0.00\\\\\n",
       "\tMedian &    25.00\\\\\n",
       "\tMean &   179.91\\\\\n",
       "\t3rd Qu. &   215.00\\\\\n",
       "\tMax. & 30500.00\\\\\n",
       "\\end{tabular}\n",
       "\n",
       "\\item[\\$public\\_meeting] A matrix: 3 × 1 of type chr\n",
       "\\begin{tabular}{r|l}\n",
       "\tLength & 59400    \\\\\n",
       "\tClass & character\\\\\n",
       "\tMode & character\\\\\n",
       "\\end{tabular}\n",
       "\n",
       "\\item[\\$recorded\\_by] A matrix: 3 × 1 of type chr\n",
       "\\begin{tabular}{r|l}\n",
       "\tLength & 59400    \\\\\n",
       "\tClass & character\\\\\n",
       "\tMode & character\\\\\n",
       "\\end{tabular}\n",
       "\n",
       "\\item[\\$scheme\\_management] A matrix: 3 × 1 of type chr\n",
       "\\begin{tabular}{r|l}\n",
       "\tLength & 59400    \\\\\n",
       "\tClass & character\\\\\n",
       "\tMode & character\\\\\n",
       "\\end{tabular}\n",
       "\n",
       "\\item[\\$scheme\\_name] A matrix: 3 × 1 of type chr\n",
       "\\begin{tabular}{r|l}\n",
       "\tLength & 59400    \\\\\n",
       "\tClass & character\\\\\n",
       "\tMode & character\\\\\n",
       "\\end{tabular}\n",
       "\n",
       "\\item[\\$permit] A matrix: 3 × 1 of type chr\n",
       "\\begin{tabular}{r|l}\n",
       "\tLength & 59400    \\\\\n",
       "\tClass & character\\\\\n",
       "\tMode & character\\\\\n",
       "\\end{tabular}\n",
       "\n",
       "\\item[\\$construction\\_year] A matrix: 6 × 1 of type dbl\n",
       "\\begin{tabular}{r|l}\n",
       "\tMin. &    0.000\\\\\n",
       "\t1st Qu. &    0.000\\\\\n",
       "\tMedian & 1986.000\\\\\n",
       "\tMean & 1300.652\\\\\n",
       "\t3rd Qu. & 2004.000\\\\\n",
       "\tMax. & 2013.000\\\\\n",
       "\\end{tabular}\n",
       "\n",
       "\\item[\\$extraction\\_type] A matrix: 3 × 1 of type chr\n",
       "\\begin{tabular}{r|l}\n",
       "\tLength & 59400    \\\\\n",
       "\tClass & character\\\\\n",
       "\tMode & character\\\\\n",
       "\\end{tabular}\n",
       "\n",
       "\\item[\\$extraction\\_type\\_group] A matrix: 3 × 1 of type chr\n",
       "\\begin{tabular}{r|l}\n",
       "\tLength & 59400    \\\\\n",
       "\tClass & character\\\\\n",
       "\tMode & character\\\\\n",
       "\\end{tabular}\n",
       "\n",
       "\\item[\\$extraction\\_type\\_class] A matrix: 3 × 1 of type chr\n",
       "\\begin{tabular}{r|l}\n",
       "\tLength & 59400    \\\\\n",
       "\tClass & character\\\\\n",
       "\tMode & character\\\\\n",
       "\\end{tabular}\n",
       "\n",
       "\\item[\\$management] A matrix: 3 × 1 of type chr\n",
       "\\begin{tabular}{r|l}\n",
       "\tLength & 59400    \\\\\n",
       "\tClass & character\\\\\n",
       "\tMode & character\\\\\n",
       "\\end{tabular}\n",
       "\n",
       "\\item[\\$management\\_group] A matrix: 3 × 1 of type chr\n",
       "\\begin{tabular}{r|l}\n",
       "\tLength & 59400    \\\\\n",
       "\tClass & character\\\\\n",
       "\tMode & character\\\\\n",
       "\\end{tabular}\n",
       "\n",
       "\\item[\\$payment] A matrix: 3 × 1 of type chr\n",
       "\\begin{tabular}{r|l}\n",
       "\tLength & 59400    \\\\\n",
       "\tClass & character\\\\\n",
       "\tMode & character\\\\\n",
       "\\end{tabular}\n",
       "\n",
       "\\item[\\$payment\\_type] A matrix: 3 × 1 of type chr\n",
       "\\begin{tabular}{r|l}\n",
       "\tLength & 59400    \\\\\n",
       "\tClass & character\\\\\n",
       "\tMode & character\\\\\n",
       "\\end{tabular}\n",
       "\n",
       "\\item[\\$water\\_quality] A matrix: 3 × 1 of type chr\n",
       "\\begin{tabular}{r|l}\n",
       "\tLength & 59400    \\\\\n",
       "\tClass & character\\\\\n",
       "\tMode & character\\\\\n",
       "\\end{tabular}\n",
       "\n",
       "\\item[\\$quality\\_group] A matrix: 3 × 1 of type chr\n",
       "\\begin{tabular}{r|l}\n",
       "\tLength & 59400    \\\\\n",
       "\tClass & character\\\\\n",
       "\tMode & character\\\\\n",
       "\\end{tabular}\n",
       "\n",
       "\\item[\\$quantity] A matrix: 3 × 1 of type chr\n",
       "\\begin{tabular}{r|l}\n",
       "\tLength & 59400    \\\\\n",
       "\tClass & character\\\\\n",
       "\tMode & character\\\\\n",
       "\\end{tabular}\n",
       "\n",
       "\\item[\\$quantity\\_group] A matrix: 3 × 1 of type chr\n",
       "\\begin{tabular}{r|l}\n",
       "\tLength & 59400    \\\\\n",
       "\tClass & character\\\\\n",
       "\tMode & character\\\\\n",
       "\\end{tabular}\n",
       "\n",
       "\\item[\\$source] A matrix: 3 × 1 of type chr\n",
       "\\begin{tabular}{r|l}\n",
       "\tLength & 59400    \\\\\n",
       "\tClass & character\\\\\n",
       "\tMode & character\\\\\n",
       "\\end{tabular}\n",
       "\n",
       "\\item[\\$source\\_type] A matrix: 3 × 1 of type chr\n",
       "\\begin{tabular}{r|l}\n",
       "\tLength & 59400    \\\\\n",
       "\tClass & character\\\\\n",
       "\tMode & character\\\\\n",
       "\\end{tabular}\n",
       "\n",
       "\\item[\\$source\\_class] A matrix: 3 × 1 of type chr\n",
       "\\begin{tabular}{r|l}\n",
       "\tLength & 59400    \\\\\n",
       "\tClass & character\\\\\n",
       "\tMode & character\\\\\n",
       "\\end{tabular}\n",
       "\n",
       "\\item[\\$waterpoint\\_type] A matrix: 3 × 1 of type chr\n",
       "\\begin{tabular}{r|l}\n",
       "\tLength & 59400    \\\\\n",
       "\tClass & character\\\\\n",
       "\tMode & character\\\\\n",
       "\\end{tabular}\n",
       "\n",
       "\\item[\\$waterpoint\\_type\\_group] A matrix: 3 × 1 of type chr\n",
       "\\begin{tabular}{r|l}\n",
       "\tLength & 59400    \\\\\n",
       "\tClass & character\\\\\n",
       "\tMode & character\\\\\n",
       "\\end{tabular}\n",
       "\n",
       "\\item[\\$status\\_group] A matrix: 3 × 1 of type chr\n",
       "\\begin{tabular}{r|l}\n",
       "\tLength & 59400    \\\\\n",
       "\tClass & character\\\\\n",
       "\tMode & character\\\\\n",
       "\\end{tabular}\n",
       "\n",
       "\\end{description}\n"
      ],
      "text/markdown": [
       "$id\n",
       ":   \n",
       "A matrix: 6 × 1 of type dbl\n",
       "\n",
       "| Min. |     0.00 |\n",
       "| 1st Qu. | 18519.75 |\n",
       "| Median | 37061.50 |\n",
       "| Mean | 37115.13 |\n",
       "| 3rd Qu. | 55656.50 |\n",
       "| Max. | 74247.00 |\n",
       "\n",
       "\n",
       "$amount_tsh\n",
       ":   \n",
       "A matrix: 6 × 1 of type dbl\n",
       "\n",
       "| Min. |      0.0000 |\n",
       "| 1st Qu. |      0.0000 |\n",
       "| Median |      0.0000 |\n",
       "| Mean |    317.6504 |\n",
       "| 3rd Qu. |     20.0000 |\n",
       "| Max. | 350000.0000 |\n",
       "\n",
       "\n",
       "$date_recorded\n",
       ":   \n",
       "A matrix: 3 × 1 of type chr\n",
       "\n",
       "| Length | 59400     |\n",
       "| Class | character |\n",
       "| Mode | character |\n",
       "\n",
       "\n",
       "$funder\n",
       ":   \n",
       "A matrix: 3 × 1 of type chr\n",
       "\n",
       "| Length | 59400     |\n",
       "| Class | character |\n",
       "| Mode | character |\n",
       "\n",
       "\n",
       "$gps_height\n",
       ":   \n",
       "A matrix: 6 × 1 of type dbl\n",
       "\n",
       "| Min. |  -90.0000 |\n",
       "| 1st Qu. |    0.0000 |\n",
       "| Median |  369.0000 |\n",
       "| Mean |  668.2972 |\n",
       "| 3rd Qu. | 1319.2500 |\n",
       "| Max. | 2770.0000 |\n",
       "\n",
       "\n",
       "$installer\n",
       ":   \n",
       "A matrix: 3 × 1 of type chr\n",
       "\n",
       "| Length | 59400     |\n",
       "| Class | character |\n",
       "| Mode | character |\n",
       "\n",
       "\n",
       "$longitude\n",
       ":   \n",
       "A matrix: 6 × 1 of type dbl\n",
       "\n",
       "| Min. |  0.00000 |\n",
       "| 1st Qu. | 33.09035 |\n",
       "| Median | 34.90874 |\n",
       "| Mean | 34.07743 |\n",
       "| 3rd Qu. | 37.17839 |\n",
       "| Max. | 40.34519 |\n",
       "\n",
       "\n",
       "$latitude\n",
       ":   \n",
       "A matrix: 6 × 1 of type dbl\n",
       "\n",
       "| Min. | -11.64944018 |\n",
       "| 1st Qu. |  -8.54062131 |\n",
       "| Median |  -5.02159665 |\n",
       "| Mean |  -5.70603266 |\n",
       "| 3rd Qu. |  -3.32615564 |\n",
       "| Max. |  -0.00000002 |\n",
       "\n",
       "\n",
       "$wpt_name\n",
       ":   \n",
       "A matrix: 3 × 1 of type chr\n",
       "\n",
       "| Length | 59400     |\n",
       "| Class | character |\n",
       "| Mode | character |\n",
       "\n",
       "\n",
       "$num_private\n",
       ":   \n",
       "A matrix: 6 × 1 of type dbl\n",
       "\n",
       "| Min. |    0.0000000 |\n",
       "| 1st Qu. |    0.0000000 |\n",
       "| Median |    0.0000000 |\n",
       "| Mean |    0.4741414 |\n",
       "| 3rd Qu. |    0.0000000 |\n",
       "| Max. | 1776.0000000 |\n",
       "\n",
       "\n",
       "$basin\n",
       ":   \n",
       "A matrix: 3 × 1 of type chr\n",
       "\n",
       "| Length | 59400     |\n",
       "| Class | character |\n",
       "| Mode | character |\n",
       "\n",
       "\n",
       "$subvillage\n",
       ":   \n",
       "A matrix: 3 × 1 of type chr\n",
       "\n",
       "| Length | 59400     |\n",
       "| Class | character |\n",
       "| Mode | character |\n",
       "\n",
       "\n",
       "$region\n",
       ":   \n",
       "A matrix: 3 × 1 of type chr\n",
       "\n",
       "| Length | 59400     |\n",
       "| Class | character |\n",
       "| Mode | character |\n",
       "\n",
       "\n",
       "$region_code\n",
       ":   \n",
       "A matrix: 6 × 1 of type dbl\n",
       "\n",
       "| Min. |  1.000 |\n",
       "| 1st Qu. |  5.000 |\n",
       "| Median | 12.000 |\n",
       "| Mean | 15.297 |\n",
       "| 3rd Qu. | 17.000 |\n",
       "| Max. | 99.000 |\n",
       "\n",
       "\n",
       "$district_code\n",
       ":   \n",
       "A matrix: 6 × 1 of type dbl\n",
       "\n",
       "| Min. |  0.000000 |\n",
       "| 1st Qu. |  2.000000 |\n",
       "| Median |  3.000000 |\n",
       "| Mean |  5.629747 |\n",
       "| 3rd Qu. |  5.000000 |\n",
       "| Max. | 80.000000 |\n",
       "\n",
       "\n",
       "$lga\n",
       ":   \n",
       "A matrix: 3 × 1 of type chr\n",
       "\n",
       "| Length | 59400     |\n",
       "| Class | character |\n",
       "| Mode | character |\n",
       "\n",
       "\n",
       "$ward\n",
       ":   \n",
       "A matrix: 3 × 1 of type chr\n",
       "\n",
       "| Length | 59400     |\n",
       "| Class | character |\n",
       "| Mode | character |\n",
       "\n",
       "\n",
       "$population\n",
       ":   \n",
       "A matrix: 6 × 1 of type dbl\n",
       "\n",
       "| Min. |     0.00 |\n",
       "| 1st Qu. |     0.00 |\n",
       "| Median |    25.00 |\n",
       "| Mean |   179.91 |\n",
       "| 3rd Qu. |   215.00 |\n",
       "| Max. | 30500.00 |\n",
       "\n",
       "\n",
       "$public_meeting\n",
       ":   \n",
       "A matrix: 3 × 1 of type chr\n",
       "\n",
       "| Length | 59400     |\n",
       "| Class | character |\n",
       "| Mode | character |\n",
       "\n",
       "\n",
       "$recorded_by\n",
       ":   \n",
       "A matrix: 3 × 1 of type chr\n",
       "\n",
       "| Length | 59400     |\n",
       "| Class | character |\n",
       "| Mode | character |\n",
       "\n",
       "\n",
       "$scheme_management\n",
       ":   \n",
       "A matrix: 3 × 1 of type chr\n",
       "\n",
       "| Length | 59400     |\n",
       "| Class | character |\n",
       "| Mode | character |\n",
       "\n",
       "\n",
       "$scheme_name\n",
       ":   \n",
       "A matrix: 3 × 1 of type chr\n",
       "\n",
       "| Length | 59400     |\n",
       "| Class | character |\n",
       "| Mode | character |\n",
       "\n",
       "\n",
       "$permit\n",
       ":   \n",
       "A matrix: 3 × 1 of type chr\n",
       "\n",
       "| Length | 59400     |\n",
       "| Class | character |\n",
       "| Mode | character |\n",
       "\n",
       "\n",
       "$construction_year\n",
       ":   \n",
       "A matrix: 6 × 1 of type dbl\n",
       "\n",
       "| Min. |    0.000 |\n",
       "| 1st Qu. |    0.000 |\n",
       "| Median | 1986.000 |\n",
       "| Mean | 1300.652 |\n",
       "| 3rd Qu. | 2004.000 |\n",
       "| Max. | 2013.000 |\n",
       "\n",
       "\n",
       "$extraction_type\n",
       ":   \n",
       "A matrix: 3 × 1 of type chr\n",
       "\n",
       "| Length | 59400     |\n",
       "| Class | character |\n",
       "| Mode | character |\n",
       "\n",
       "\n",
       "$extraction_type_group\n",
       ":   \n",
       "A matrix: 3 × 1 of type chr\n",
       "\n",
       "| Length | 59400     |\n",
       "| Class | character |\n",
       "| Mode | character |\n",
       "\n",
       "\n",
       "$extraction_type_class\n",
       ":   \n",
       "A matrix: 3 × 1 of type chr\n",
       "\n",
       "| Length | 59400     |\n",
       "| Class | character |\n",
       "| Mode | character |\n",
       "\n",
       "\n",
       "$management\n",
       ":   \n",
       "A matrix: 3 × 1 of type chr\n",
       "\n",
       "| Length | 59400     |\n",
       "| Class | character |\n",
       "| Mode | character |\n",
       "\n",
       "\n",
       "$management_group\n",
       ":   \n",
       "A matrix: 3 × 1 of type chr\n",
       "\n",
       "| Length | 59400     |\n",
       "| Class | character |\n",
       "| Mode | character |\n",
       "\n",
       "\n",
       "$payment\n",
       ":   \n",
       "A matrix: 3 × 1 of type chr\n",
       "\n",
       "| Length | 59400     |\n",
       "| Class | character |\n",
       "| Mode | character |\n",
       "\n",
       "\n",
       "$payment_type\n",
       ":   \n",
       "A matrix: 3 × 1 of type chr\n",
       "\n",
       "| Length | 59400     |\n",
       "| Class | character |\n",
       "| Mode | character |\n",
       "\n",
       "\n",
       "$water_quality\n",
       ":   \n",
       "A matrix: 3 × 1 of type chr\n",
       "\n",
       "| Length | 59400     |\n",
       "| Class | character |\n",
       "| Mode | character |\n",
       "\n",
       "\n",
       "$quality_group\n",
       ":   \n",
       "A matrix: 3 × 1 of type chr\n",
       "\n",
       "| Length | 59400     |\n",
       "| Class | character |\n",
       "| Mode | character |\n",
       "\n",
       "\n",
       "$quantity\n",
       ":   \n",
       "A matrix: 3 × 1 of type chr\n",
       "\n",
       "| Length | 59400     |\n",
       "| Class | character |\n",
       "| Mode | character |\n",
       "\n",
       "\n",
       "$quantity_group\n",
       ":   \n",
       "A matrix: 3 × 1 of type chr\n",
       "\n",
       "| Length | 59400     |\n",
       "| Class | character |\n",
       "| Mode | character |\n",
       "\n",
       "\n",
       "$source\n",
       ":   \n",
       "A matrix: 3 × 1 of type chr\n",
       "\n",
       "| Length | 59400     |\n",
       "| Class | character |\n",
       "| Mode | character |\n",
       "\n",
       "\n",
       "$source_type\n",
       ":   \n",
       "A matrix: 3 × 1 of type chr\n",
       "\n",
       "| Length | 59400     |\n",
       "| Class | character |\n",
       "| Mode | character |\n",
       "\n",
       "\n",
       "$source_class\n",
       ":   \n",
       "A matrix: 3 × 1 of type chr\n",
       "\n",
       "| Length | 59400     |\n",
       "| Class | character |\n",
       "| Mode | character |\n",
       "\n",
       "\n",
       "$waterpoint_type\n",
       ":   \n",
       "A matrix: 3 × 1 of type chr\n",
       "\n",
       "| Length | 59400     |\n",
       "| Class | character |\n",
       "| Mode | character |\n",
       "\n",
       "\n",
       "$waterpoint_type_group\n",
       ":   \n",
       "A matrix: 3 × 1 of type chr\n",
       "\n",
       "| Length | 59400     |\n",
       "| Class | character |\n",
       "| Mode | character |\n",
       "\n",
       "\n",
       "$status_group\n",
       ":   \n",
       "A matrix: 3 × 1 of type chr\n",
       "\n",
       "| Length | 59400     |\n",
       "| Class | character |\n",
       "| Mode | character |\n",
       "\n",
       "\n",
       "\n",
       "\n"
      ],
      "text/plain": [
       "$id\n",
       "            [,1]\n",
       "Min.        0.00\n",
       "1st Qu. 18519.75\n",
       "Median  37061.50\n",
       "Mean    37115.13\n",
       "3rd Qu. 55656.50\n",
       "Max.    74247.00\n",
       "\n",
       "$amount_tsh\n",
       "               [,1]\n",
       "Min.         0.0000\n",
       "1st Qu.      0.0000\n",
       "Median       0.0000\n",
       "Mean       317.6504\n",
       "3rd Qu.     20.0000\n",
       "Max.    350000.0000\n",
       "\n",
       "$date_recorded\n",
       "       [,1]       \n",
       "Length \"59400\"    \n",
       "Class  \"character\"\n",
       "Mode   \"character\"\n",
       "\n",
       "$funder\n",
       "       [,1]       \n",
       "Length \"59400\"    \n",
       "Class  \"character\"\n",
       "Mode   \"character\"\n",
       "\n",
       "$gps_height\n",
       "             [,1]\n",
       "Min.     -90.0000\n",
       "1st Qu.    0.0000\n",
       "Median   369.0000\n",
       "Mean     668.2972\n",
       "3rd Qu. 1319.2500\n",
       "Max.    2770.0000\n",
       "\n",
       "$installer\n",
       "       [,1]       \n",
       "Length \"59400\"    \n",
       "Class  \"character\"\n",
       "Mode   \"character\"\n",
       "\n",
       "$longitude\n",
       "            [,1]\n",
       "Min.     0.00000\n",
       "1st Qu. 33.09035\n",
       "Median  34.90874\n",
       "Mean    34.07743\n",
       "3rd Qu. 37.17839\n",
       "Max.    40.34519\n",
       "\n",
       "$latitude\n",
       "                [,1]\n",
       "Min.    -11.64944018\n",
       "1st Qu.  -8.54062131\n",
       "Median   -5.02159665\n",
       "Mean     -5.70603266\n",
       "3rd Qu.  -3.32615564\n",
       "Max.     -0.00000002\n",
       "\n",
       "$wpt_name\n",
       "       [,1]       \n",
       "Length \"59400\"    \n",
       "Class  \"character\"\n",
       "Mode   \"character\"\n",
       "\n",
       "$num_private\n",
       "                [,1]\n",
       "Min.       0.0000000\n",
       "1st Qu.    0.0000000\n",
       "Median     0.0000000\n",
       "Mean       0.4741414\n",
       "3rd Qu.    0.0000000\n",
       "Max.    1776.0000000\n",
       "\n",
       "$basin\n",
       "       [,1]       \n",
       "Length \"59400\"    \n",
       "Class  \"character\"\n",
       "Mode   \"character\"\n",
       "\n",
       "$subvillage\n",
       "       [,1]       \n",
       "Length \"59400\"    \n",
       "Class  \"character\"\n",
       "Mode   \"character\"\n",
       "\n",
       "$region\n",
       "       [,1]       \n",
       "Length \"59400\"    \n",
       "Class  \"character\"\n",
       "Mode   \"character\"\n",
       "\n",
       "$region_code\n",
       "          [,1]\n",
       "Min.     1.000\n",
       "1st Qu.  5.000\n",
       "Median  12.000\n",
       "Mean    15.297\n",
       "3rd Qu. 17.000\n",
       "Max.    99.000\n",
       "\n",
       "$district_code\n",
       "             [,1]\n",
       "Min.     0.000000\n",
       "1st Qu.  2.000000\n",
       "Median   3.000000\n",
       "Mean     5.629747\n",
       "3rd Qu.  5.000000\n",
       "Max.    80.000000\n",
       "\n",
       "$lga\n",
       "       [,1]       \n",
       "Length \"59400\"    \n",
       "Class  \"character\"\n",
       "Mode   \"character\"\n",
       "\n",
       "$ward\n",
       "       [,1]       \n",
       "Length \"59400\"    \n",
       "Class  \"character\"\n",
       "Mode   \"character\"\n",
       "\n",
       "$population\n",
       "            [,1]\n",
       "Min.        0.00\n",
       "1st Qu.     0.00\n",
       "Median     25.00\n",
       "Mean      179.91\n",
       "3rd Qu.   215.00\n",
       "Max.    30500.00\n",
       "\n",
       "$public_meeting\n",
       "       [,1]       \n",
       "Length \"59400\"    \n",
       "Class  \"character\"\n",
       "Mode   \"character\"\n",
       "\n",
       "$recorded_by\n",
       "       [,1]       \n",
       "Length \"59400\"    \n",
       "Class  \"character\"\n",
       "Mode   \"character\"\n",
       "\n",
       "$scheme_management\n",
       "       [,1]       \n",
       "Length \"59400\"    \n",
       "Class  \"character\"\n",
       "Mode   \"character\"\n",
       "\n",
       "$scheme_name\n",
       "       [,1]       \n",
       "Length \"59400\"    \n",
       "Class  \"character\"\n",
       "Mode   \"character\"\n",
       "\n",
       "$permit\n",
       "       [,1]       \n",
       "Length \"59400\"    \n",
       "Class  \"character\"\n",
       "Mode   \"character\"\n",
       "\n",
       "$construction_year\n",
       "            [,1]\n",
       "Min.       0.000\n",
       "1st Qu.    0.000\n",
       "Median  1986.000\n",
       "Mean    1300.652\n",
       "3rd Qu. 2004.000\n",
       "Max.    2013.000\n",
       "\n",
       "$extraction_type\n",
       "       [,1]       \n",
       "Length \"59400\"    \n",
       "Class  \"character\"\n",
       "Mode   \"character\"\n",
       "\n",
       "$extraction_type_group\n",
       "       [,1]       \n",
       "Length \"59400\"    \n",
       "Class  \"character\"\n",
       "Mode   \"character\"\n",
       "\n",
       "$extraction_type_class\n",
       "       [,1]       \n",
       "Length \"59400\"    \n",
       "Class  \"character\"\n",
       "Mode   \"character\"\n",
       "\n",
       "$management\n",
       "       [,1]       \n",
       "Length \"59400\"    \n",
       "Class  \"character\"\n",
       "Mode   \"character\"\n",
       "\n",
       "$management_group\n",
       "       [,1]       \n",
       "Length \"59400\"    \n",
       "Class  \"character\"\n",
       "Mode   \"character\"\n",
       "\n",
       "$payment\n",
       "       [,1]       \n",
       "Length \"59400\"    \n",
       "Class  \"character\"\n",
       "Mode   \"character\"\n",
       "\n",
       "$payment_type\n",
       "       [,1]       \n",
       "Length \"59400\"    \n",
       "Class  \"character\"\n",
       "Mode   \"character\"\n",
       "\n",
       "$water_quality\n",
       "       [,1]       \n",
       "Length \"59400\"    \n",
       "Class  \"character\"\n",
       "Mode   \"character\"\n",
       "\n",
       "$quality_group\n",
       "       [,1]       \n",
       "Length \"59400\"    \n",
       "Class  \"character\"\n",
       "Mode   \"character\"\n",
       "\n",
       "$quantity\n",
       "       [,1]       \n",
       "Length \"59400\"    \n",
       "Class  \"character\"\n",
       "Mode   \"character\"\n",
       "\n",
       "$quantity_group\n",
       "       [,1]       \n",
       "Length \"59400\"    \n",
       "Class  \"character\"\n",
       "Mode   \"character\"\n",
       "\n",
       "$source\n",
       "       [,1]       \n",
       "Length \"59400\"    \n",
       "Class  \"character\"\n",
       "Mode   \"character\"\n",
       "\n",
       "$source_type\n",
       "       [,1]       \n",
       "Length \"59400\"    \n",
       "Class  \"character\"\n",
       "Mode   \"character\"\n",
       "\n",
       "$source_class\n",
       "       [,1]       \n",
       "Length \"59400\"    \n",
       "Class  \"character\"\n",
       "Mode   \"character\"\n",
       "\n",
       "$waterpoint_type\n",
       "       [,1]       \n",
       "Length \"59400\"    \n",
       "Class  \"character\"\n",
       "Mode   \"character\"\n",
       "\n",
       "$waterpoint_type_group\n",
       "       [,1]       \n",
       "Length \"59400\"    \n",
       "Class  \"character\"\n",
       "Mode   \"character\"\n",
       "\n",
       "$status_group\n",
       "       [,1]       \n",
       "Length \"59400\"    \n",
       "Class  \"character\"\n",
       "Mode   \"character\"\n"
      ]
     },
     "metadata": {},
     "output_type": "display_data"
    }
   ],
   "source": [
    "# replacing all blanks values with NA\n",
    "training_data_x <- read.csv('Training_Data.csv',na.strings=\"\")\n",
    "training_data_y <- read.csv('Training_Set_Labels.csv',na.strings=\"\")\n",
    "testing_data_x <- read.csv('Test_Data.csv',na.strings=\"\")\n",
    "\n",
    "training_data_set <- merge(x=training_data_x, y=training_data_y,by=\"id\",all=TRUE)\n",
    "training_data_set_catboost <- data.frame(training_data_set)\n",
    "lapply(training_data_set,function(x) cbind(summary(x)))"
   ]
  },
  {
   "cell_type": "markdown",
   "metadata": {},
   "source": [
    "### Visualizing how the data is distributed over the target variable"
   ]
  },
  {
   "cell_type": "code",
   "execution_count": 4,
   "metadata": {},
   "outputs": [
    {
     "data": {
      "image/png": "[encoded data removed]",
      "text/plain": [
       "plot without title"
      ]
     },
     "metadata": {
      "image/png": {
       "height": 300,
       "width": 1200
      }
     },
     "output_type": "display_data"
    }
   ],
   "source": [
    "aggregat_count_status_group <- aggregate(id~status_group,training_data_set,function(x){length(unique(x))})\n",
    "options(repr.plot.width=20, repr.plot.height=5)\n",
    "ggplot(aggregat_count_status_group, aes(x=status_group, y=id)) +\n",
    "geom_bar(stat=\"identity\",fill=\"steelblue\")+theme(text = element_text(size=20),\n",
    "        axis.text.x = element_text( hjust=1))                                                                                  "
   ]
  },
  {
   "cell_type": "markdown",
   "metadata": {},
   "source": [
    "-----\n",
    "As we see there is hight amount of imbalance in the data. Accuracy thus might not be a good measure of how well a model performs. "
   ]
  },
  {
   "cell_type": "markdown",
   "metadata": {},
   "source": [
    "## Task 1 - Data Preprocessing and Feature Selection"
   ]
  },
  {
   "cell_type": "markdown",
   "metadata": {},
   "source": [
    "### Starting the process of feature selecting by doing analysis over the various columns"
   ]
  },
  {
   "cell_type": "markdown",
   "metadata": {},
   "source": [
    "#### 1. We have taken the summary of all columns. Looking at the mean and median of num_private it is clear that it contains mostly 0 values. So we can drop that column."
   ]
  },
  {
   "cell_type": "code",
   "execution_count": 5,
   "metadata": {},
   "outputs": [],
   "source": [
    "training_data_set <- subset(training_data_set,select=-num_private)"
   ]
  },
  {
   "cell_type": "markdown",
   "metadata": {},
   "source": [
    "#### 2. Next we look at those columns which have only one constant value. We can remove those columns since they will not provide any information to the model"
   ]
  },
  {
   "cell_type": "code",
   "execution_count": 6,
   "metadata": {},
   "outputs": [
    {
     "name": "stdout",
     "output_type": "stream",
     "text": [
      "          recorded_by        public_meeting                permit \n",
      "                    1                     3                     3 \n",
      "         source_class          status_group      management_group \n",
      "                    3                     3                     5 \n",
      "             quantity        quantity_group         quality_group \n",
      "                    5                     5                     6 \n",
      "waterpoint_type_group extraction_type_class               payment \n",
      "                    6                     7                     7 \n",
      "         payment_type           source_type       waterpoint_type \n",
      "                    7                     7                     7 \n",
      "        water_quality                 basin                source \n",
      "                    8                     9                    10 \n",
      "           management     scheme_management extraction_type_group \n",
      "                   12                    13                    13 \n",
      "      extraction_type         district_code                region \n",
      "                   18                    20                    21 \n",
      "          region_code     construction_year            amount_tsh \n",
      "                   27                    55                    98 \n",
      "                  lga         date_recorded            population \n",
      "                  125                   356                  1049 \n",
      "               funder                  ward             installer \n",
      "                 1898                  2092                  2146 \n",
      "           gps_height           scheme_name            subvillage \n",
      "                 2428                  2697                 19288 \n",
      "             wpt_name             longitude              latitude \n",
      "                37400                 55366                 57517 \n",
      "                   id \n",
      "                59400 \n"
     ]
    }
   ],
   "source": [
    "unique_value_list <- apply(training_data_set, 2, function(x) length(unique(x)))\n",
    "print(sort(unique_value_list))"
   ]
  },
  {
   "cell_type": "markdown",
   "metadata": {},
   "source": [
    "---\n",
    "#### Conclusion from 2\n",
    "a) recorded_by can be removed as it is constant throughout the dataset.\\\n",
    "b) wpt_name is the name of the waterpump. Since it has 37,400 unique values it can be implied that it does not really affect the functionality of a water pump. So this feature can be removed. "
   ]
  },
  {
   "cell_type": "code",
   "execution_count": 7,
   "metadata": {},
   "outputs": [],
   "source": [
    "training_data_set <- subset(training_data_set, select = -c(wpt_name,recorded_by))"
   ]
  },
  {
   "cell_type": "code",
   "execution_count": 8,
   "metadata": {},
   "outputs": [],
   "source": [
    "# getting the number of distinct values per feature to identify which featurs can be removed because they have only one unqieu value throughout\n",
    "col_name <- colnames(training_data_set)\n",
    "training_data_set <- training_data_set[sapply(training_data_set,function(x)length(unique(x))>1)]"
   ]
  },
  {
   "cell_type": "markdown",
   "metadata": {},
   "source": [
    "#### 3. Next we take a look at the columns with missing values. We have already replaced the blank spaces in the dataset with NA while reading the csv file."
   ]
  },
  {
   "cell_type": "code",
   "execution_count": 9,
   "metadata": {},
   "outputs": [
    {
     "data": {
      "image/png": "[encoded data removed]",
      "text/plain": [
       "plot without title"
      ]
     },
     "metadata": {
      "image/png": {
       "height": 600,
       "width": 1200
      }
     },
     "output_type": "display_data"
    }
   ],
   "source": [
    "count_missing_values <- data.frame(\"column_name\"=c(colnames(training_data_set)),\"count\"=apply(training_data_set,2,function(x){sum(is.na(x))}))\n",
    "# print(count_missing_values[1,2])\n",
    "options(repr.plot.width=20, repr.plot.height=10)\n",
    "ggplot(count_missing_values, aes(x=column_name, y=count)) +\n",
    "geom_bar(stat=\"identity\",fill=\"steelblue\")+coord_flip()+theme(text = element_text(size=20),\n",
    "        axis.text.x = element_text(angle=90, hjust=1)) "
   ]
  },
  {
   "cell_type": "markdown",
   "metadata": {},
   "source": [
    "\n",
    "---\n",
    "#### Conclusion from 3\n",
    "As we can see from the above chart scheme_name is the column with the maximum missing values. So we can drop that column. Also it will not have much effect because we get the same information from the scheme_management column. For all columns that contain \"Other\" as a value the missing values can be replaced by the same."
   ]
  },
  {
   "cell_type": "code",
   "execution_count": 10,
   "metadata": {},
   "outputs": [],
   "source": [
    "training_data_set <- subset(training_data_set,select=-scheme_name)\n",
    "training_data_set$scheme_management[training_data_set$scheme_management==NA]<-'Other'\n",
    "training_data_set$funder[training_data_set$funder==NA]<-'Others'"
   ]
  },
  {
   "cell_type": "markdown",
   "metadata": {},
   "source": [
    "#### 4. Next we can look at some categorical variables and use the chi square test to identify the relation between them"
   ]
  },
  {
   "cell_type": "code",
   "execution_count": 11,
   "metadata": {},
   "outputs": [
    {
     "data": {
      "text/html": [
       "<table class=\"dataframe\">\n",
       "<caption>A data.frame: 5 × 37</caption>\n",
       "<thead>\n",
       "\t<tr><th></th><th scope=col>id</th><th scope=col>amount_tsh</th><th scope=col>date_recorded</th><th scope=col>funder</th><th scope=col>gps_height</th><th scope=col>installer</th><th scope=col>longitude</th><th scope=col>latitude</th><th scope=col>basin</th><th scope=col>subvillage</th><th scope=col>...</th><th scope=col>water_quality</th><th scope=col>quality_group</th><th scope=col>quantity</th><th scope=col>quantity_group</th><th scope=col>source</th><th scope=col>source_type</th><th scope=col>source_class</th><th scope=col>waterpoint_type</th><th scope=col>waterpoint_type_group</th><th scope=col>status_group</th></tr>\n",
       "\t<tr><th></th><th scope=col>&lt;int&gt;</th><th scope=col>&lt;dbl&gt;</th><th scope=col>&lt;chr&gt;</th><th scope=col>&lt;chr&gt;</th><th scope=col>&lt;int&gt;</th><th scope=col>&lt;chr&gt;</th><th scope=col>&lt;dbl&gt;</th><th scope=col>&lt;dbl&gt;</th><th scope=col>&lt;chr&gt;</th><th scope=col>&lt;chr&gt;</th><th scope=col>...</th><th scope=col>&lt;chr&gt;</th><th scope=col>&lt;chr&gt;</th><th scope=col>&lt;chr&gt;</th><th scope=col>&lt;chr&gt;</th><th scope=col>&lt;chr&gt;</th><th scope=col>&lt;chr&gt;</th><th scope=col>&lt;chr&gt;</th><th scope=col>&lt;chr&gt;</th><th scope=col>&lt;chr&gt;</th><th scope=col>&lt;chr&gt;</th></tr>\n",
       "</thead>\n",
       "<tbody>\n",
       "\t<tr><th scope=row>1</th><td>0</td><td> 0</td><td>2012-11-13</td><td>Tasaf          </td><td>   0</td><td>TASAF</td><td>33.12583</td><td>-5.118154</td><td>Lake Tanganyika</td><td>Majengo   </td><td>...</td><td>milky</td><td>milky</td><td>enough      </td><td>enough      </td><td>shallow well</td><td>shallow well</td><td>groundwater</td><td>hand pump                  </td><td>hand pump         </td><td>non functional</td></tr>\n",
       "\t<tr><th scope=row>2</th><td>1</td><td> 0</td><td>2011-03-05</td><td>Shipo          </td><td>1978</td><td>SHIPO</td><td>34.77072</td><td>-9.395642</td><td>Rufiji         </td><td>Magoda C  </td><td>...</td><td>soft </td><td>good </td><td>enough      </td><td>enough      </td><td>shallow well</td><td>shallow well</td><td>groundwater</td><td>hand pump                  </td><td>hand pump         </td><td>functional    </td></tr>\n",
       "\t<tr><th scope=row>3</th><td>2</td><td> 0</td><td>2011-03-27</td><td>Lvia           </td><td>   0</td><td>LVIA </td><td>36.11506</td><td>-6.279268</td><td>Wami / Ruvu    </td><td>Songambele</td><td>...</td><td>soft </td><td>good </td><td>insufficient</td><td>insufficient</td><td>machine dbh </td><td>borehole    </td><td>groundwater</td><td>communal standpipe multiple</td><td>communal standpipe</td><td>functional    </td></tr>\n",
       "\t<tr><th scope=row>4</th><td>3</td><td>10</td><td>2013-06-03</td><td>Germany Republi</td><td>1639</td><td>CES  </td><td>37.14743</td><td>-3.187555</td><td>Pangani        </td><td>Urereni   </td><td>...</td><td>soft </td><td>good </td><td>enough      </td><td>enough      </td><td>spring      </td><td>spring      </td><td>groundwater</td><td>communal standpipe         </td><td>communal standpipe</td><td>functional    </td></tr>\n",
       "\t<tr><th scope=row>5</th><td>4</td><td> 0</td><td>2011-03-22</td><td>Cmsr           </td><td>   0</td><td>CMSR </td><td>36.16489</td><td>-6.099289</td><td>Wami / Ruvu    </td><td>Maata A   </td><td>...</td><td>soft </td><td>good </td><td>dry         </td><td>dry         </td><td>shallow well</td><td>shallow well</td><td>groundwater</td><td>hand pump                  </td><td>hand pump         </td><td>non functional</td></tr>\n",
       "</tbody>\n",
       "</table>\n"
      ],
      "text/latex": [
       "A data.frame: 5 × 37\n",
       "\\begin{tabular}{r|lllllllllllllllllllll}\n",
       "  & id & amount\\_tsh & date\\_recorded & funder & gps\\_height & installer & longitude & latitude & basin & subvillage & ... & water\\_quality & quality\\_group & quantity & quantity\\_group & source & source\\_type & source\\_class & waterpoint\\_type & waterpoint\\_type\\_group & status\\_group\\\\\n",
       "  & <int> & <dbl> & <chr> & <chr> & <int> & <chr> & <dbl> & <dbl> & <chr> & <chr> & ... & <chr> & <chr> & <chr> & <chr> & <chr> & <chr> & <chr> & <chr> & <chr> & <chr>\\\\\n",
       "\\hline\n",
       "\t1 & 0 &  0 & 2012-11-13 & Tasaf           &    0 & TASAF & 33.12583 & -5.118154 & Lake Tanganyika & Majengo    & ... & milky & milky & enough       & enough       & shallow well & shallow well & groundwater & hand pump                   & hand pump          & non functional\\\\\n",
       "\t2 & 1 &  0 & 2011-03-05 & Shipo           & 1978 & SHIPO & 34.77072 & -9.395642 & Rufiji          & Magoda C   & ... & soft  & good  & enough       & enough       & shallow well & shallow well & groundwater & hand pump                   & hand pump          & functional    \\\\\n",
       "\t3 & 2 &  0 & 2011-03-27 & Lvia            &    0 & LVIA  & 36.11506 & -6.279268 & Wami / Ruvu     & Songambele & ... & soft  & good  & insufficient & insufficient & machine dbh  & borehole     & groundwater & communal standpipe multiple & communal standpipe & functional    \\\\\n",
       "\t4 & 3 & 10 & 2013-06-03 & Germany Republi & 1639 & CES   & 37.14743 & -3.187555 & Pangani         & Urereni    & ... & soft  & good  & enough       & enough       & spring       & spring       & groundwater & communal standpipe          & communal standpipe & functional    \\\\\n",
       "\t5 & 4 &  0 & 2011-03-22 & Cmsr            &    0 & CMSR  & 36.16489 & -6.099289 & Wami / Ruvu     & Maata A    & ... & soft  & good  & dry          & dry          & shallow well & shallow well & groundwater & hand pump                   & hand pump          & non functional\\\\\n",
       "\\end{tabular}\n"
      ],
      "text/markdown": [
       "\n",
       "A data.frame: 5 × 37\n",
       "\n",
       "| <!--/--> | id &lt;int&gt; | amount_tsh &lt;dbl&gt; | date_recorded &lt;chr&gt; | funder &lt;chr&gt; | gps_height &lt;int&gt; | installer &lt;chr&gt; | longitude &lt;dbl&gt; | latitude &lt;dbl&gt; | basin &lt;chr&gt; | subvillage &lt;chr&gt; | ... ... | water_quality &lt;chr&gt; | quality_group &lt;chr&gt; | quantity &lt;chr&gt; | quantity_group &lt;chr&gt; | source &lt;chr&gt; | source_type &lt;chr&gt; | source_class &lt;chr&gt; | waterpoint_type &lt;chr&gt; | waterpoint_type_group &lt;chr&gt; | status_group &lt;chr&gt; |\n",
       "|---|---|---|---|---|---|---|---|---|---|---|---|---|---|---|---|---|---|---|---|---|---|\n",
       "| 1 | 0 |  0 | 2012-11-13 | Tasaf           |    0 | TASAF | 33.12583 | -5.118154 | Lake Tanganyika | Majengo    | ... | milky | milky | enough       | enough       | shallow well | shallow well | groundwater | hand pump                   | hand pump          | non functional |\n",
       "| 2 | 1 |  0 | 2011-03-05 | Shipo           | 1978 | SHIPO | 34.77072 | -9.395642 | Rufiji          | Magoda C   | ... | soft  | good  | enough       | enough       | shallow well | shallow well | groundwater | hand pump                   | hand pump          | functional     |\n",
       "| 3 | 2 |  0 | 2011-03-27 | Lvia            |    0 | LVIA  | 36.11506 | -6.279268 | Wami / Ruvu     | Songambele | ... | soft  | good  | insufficient | insufficient | machine dbh  | borehole     | groundwater | communal standpipe multiple | communal standpipe | functional     |\n",
       "| 4 | 3 | 10 | 2013-06-03 | Germany Republi | 1639 | CES   | 37.14743 | -3.187555 | Pangani         | Urereni    | ... | soft  | good  | enough       | enough       | spring       | spring       | groundwater | communal standpipe          | communal standpipe | functional     |\n",
       "| 5 | 4 |  0 | 2011-03-22 | Cmsr            |    0 | CMSR  | 36.16489 | -6.099289 | Wami / Ruvu     | Maata A    | ... | soft  | good  | dry          | dry          | shallow well | shallow well | groundwater | hand pump                   | hand pump          | non functional |\n",
       "\n"
      ],
      "text/plain": [
       "  id amount_tsh date_recorded funder          gps_height installer longitude\n",
       "1 0   0         2012-11-13    Tasaf              0       TASAF     33.12583 \n",
       "2 1   0         2011-03-05    Shipo           1978       SHIPO     34.77072 \n",
       "3 2   0         2011-03-27    Lvia               0       LVIA      36.11506 \n",
       "4 3  10         2013-06-03    Germany Republi 1639       CES       37.14743 \n",
       "5 4   0         2011-03-22    Cmsr               0       CMSR      36.16489 \n",
       "  latitude  basin           subvillage ... water_quality quality_group\n",
       "1 -5.118154 Lake Tanganyika Majengo    ... milky         milky        \n",
       "2 -9.395642 Rufiji          Magoda C   ... soft          good         \n",
       "3 -6.279268 Wami / Ruvu     Songambele ... soft          good         \n",
       "4 -3.187555 Pangani         Urereni    ... soft          good         \n",
       "5 -6.099289 Wami / Ruvu     Maata A    ... soft          good         \n",
       "  quantity     quantity_group source       source_type  source_class\n",
       "1 enough       enough         shallow well shallow well groundwater \n",
       "2 enough       enough         shallow well shallow well groundwater \n",
       "3 insufficient insufficient   machine dbh  borehole     groundwater \n",
       "4 enough       enough         spring       spring       groundwater \n",
       "5 dry          dry            shallow well shallow well groundwater \n",
       "  waterpoint_type             waterpoint_type_group status_group  \n",
       "1 hand pump                   hand pump             non functional\n",
       "2 hand pump                   hand pump             functional    \n",
       "3 communal standpipe multiple communal standpipe    functional    \n",
       "4 communal standpipe          communal standpipe    functional    \n",
       "5 hand pump                   hand pump             non functional"
      ]
     },
     "metadata": {},
     "output_type": "display_data"
    }
   ],
   "source": [
    "training_data_set[1:5,]"
   ]
  },
  {
   "cell_type": "markdown",
   "metadata": {},
   "source": [
    "---\n",
    "#### 4.a) We look at the water quality and quality group"
   ]
  },
  {
   "cell_type": "code",
   "execution_count": 12,
   "metadata": {},
   "outputs": [
    {
     "data": {
      "text/plain": [
       "                    \n",
       "                     colored fluoride  good milky salty unknown\n",
       "  coloured               490        0     0     0     0       0\n",
       "  fluoride                 0      200     0     0     0       0\n",
       "  fluoride abandoned       0       17     0     0     0       0\n",
       "  milky                    0        0     0   804     0       0\n",
       "  salty                    0        0     0     0  4856       0\n",
       "  salty abandoned          0        0     0     0   339       0\n",
       "  soft                     0        0 50818     0     0       0\n",
       "  unknown                  0        0     0     0     0    1876"
      ]
     },
     "metadata": {},
     "output_type": "display_data"
    },
    {
     "name": "stderr",
     "output_type": "stream",
     "text": [
      "Warning message in chisq.test(tbl):\n",
      "\"Chi-squared approximation may be incorrect\"\n"
     ]
    },
    {
     "data": {
      "text/plain": [
       "\n",
       "\tPearson's Chi-squared test\n",
       "\n",
       "data:  tbl\n",
       "X-squared = 297000, df = 35, p-value < 2.2e-16\n"
      ]
     },
     "metadata": {},
     "output_type": "display_data"
    }
   ],
   "source": [
    "tbl <- table(training_data_set$water_quality,training_data_set$quality_group)\n",
    "tbl\n",
    "chisq.test(tbl)"
   ]
  },
  {
   "cell_type": "markdown",
   "metadata": {},
   "source": [
    "---\n",
    "#### Conclusion from 4.a\n",
    "As we see in the table above water_quality and quality_group are higly related to one another. Also because of such a low p-values we can imply that water_quality is a sub category of quality_group. So we can again eliminate one of the two. "
   ]
  },
  {
   "cell_type": "markdown",
   "metadata": {},
   "source": [
    "---\n",
    "#### 4.b) We can do a similar test on payment and payment_type. This time we are visualising the data in both columns to arrive to a conclusion."
   ]
  },
  {
   "cell_type": "code",
   "execution_count": 13,
   "metadata": {},
   "outputs": [
    {
     "data": {
      "image/png": "[encoded data removed]",
      "text/plain": [
       "plot without title"
      ]
     },
     "metadata": {
      "image/png": {
       "height": 240,
       "width": 1200
      }
     },
     "output_type": "display_data"
    },
    {
     "data": {
      "image/png": "[encoded data removed]",
      "text/plain": [
       "plot without title"
      ]
     },
     "metadata": {
      "image/png": {
       "height": 240,
       "width": 1200
      }
     },
     "output_type": "display_data"
    }
   ],
   "source": [
    "# training_data_set[\"count\"] <- 1\n",
    "options(repr.plot.width=20, repr.plot.height=4)\n",
    "group_by_payment_count <- aggregate(id~payment,training_data_set, function(x) length(unique(x)))\n",
    "group_by_payment_type_count <- aggregate(id~payment_type,training_data_set, function(x) length(unique(x)))\n",
    "ggplot(group_by_payment_count,aes(x=payment,y=id))+geom_bar(stat=\"identity\", fill=\"steelblue\")+theme(text = element_text(size=20))\n",
    "ggplot(group_by_payment_type_count,aes(x=payment_type,y=id))+geom_bar(stat=\"identity\", fill=\"steelblue\")+theme(text = element_text(size=20))"
   ]
  },
  {
   "cell_type": "markdown",
   "metadata": {},
   "source": [
    "-----\n",
    "#### Conclusion from 4.b\n",
    "From the above charts we can see that payment and payment type provide the same information. So we can eliminate one column from our training dataset"
   ]
  },
  {
   "cell_type": "markdown",
   "metadata": {},
   "source": [
    "---\n",
    "#### 4.c) Next we look at management and management_group"
   ]
  },
  {
   "cell_type": "code",
   "execution_count": 14,
   "metadata": {},
   "outputs": [
    {
     "name": "stderr",
     "output_type": "stream",
     "text": [
      "Warning message in chisq.test(tbl_manage):\n",
      "\"Chi-squared approximation may be incorrect\"\n"
     ]
    },
    {
     "name": "stdout",
     "output_type": "stream",
     "text": [
      "\n",
      "\tPearson's Chi-squared test\n",
      "\n",
      "data:  tbl_manage\n",
      "X-squared = 237600, df = 44, p-value < 2.2e-16\n",
      "\n"
     ]
    }
   ],
   "source": [
    "tbl_manage <- table(training_data_set$management,training_data_set$management_group)\n",
    "print(chisq.test(tbl_manage))"
   ]
  },
  {
   "cell_type": "markdown",
   "metadata": {},
   "source": [
    "#### 4.d) We look at quantity and quantity group"
   ]
  },
  {
   "cell_type": "code",
   "execution_count": 15,
   "metadata": {},
   "outputs": [
    {
     "name": "stdout",
     "output_type": "stream",
     "text": [
      "              \n",
      "                 dry enough insufficient seasonal unknown\n",
      "  dry           6246      0            0        0       0\n",
      "  enough           0  33186            0        0       0\n",
      "  insufficient     0      0        15129        0       0\n",
      "  seasonal         0      0            0     4050       0\n",
      "  unknown          0      0            0        0     789\n",
      "\n",
      "\tPearson's Chi-squared test\n",
      "\n",
      "data:  tbl_quantity\n",
      "X-squared = 237600, df = 16, p-value < 2.2e-16\n",
      "\n"
     ]
    }
   ],
   "source": [
    "tbl_quantity <- table(training_data_set$quantity,training_data_set$quantity_group)\n",
    "print(tbl_quantity)\n",
    "print(chisq.test(tbl_quantity))"
   ]
  },
  {
   "cell_type": "markdown",
   "metadata": {},
   "source": [
    "#### 4.e) We look at waterpoint type and waterpoint type group"
   ]
  },
  {
   "cell_type": "code",
   "execution_count": 16,
   "metadata": {},
   "outputs": [
    {
     "name": "stdout",
     "output_type": "stream",
     "text": [
      "                             \n",
      "                              cattle trough communal standpipe   dam hand pump\n",
      "  cattle trough                         116                  0     0         0\n",
      "  communal standpipe                      0              28522     0         0\n",
      "  communal standpipe multiple             0               6103     0         0\n",
      "  dam                                     0                  0     7         0\n",
      "  hand pump                               0                  0     0     17488\n",
      "  improved spring                         0                  0     0         0\n",
      "  other                                   0                  0     0         0\n",
      "                             \n",
      "                              improved spring other\n",
      "  cattle trough                             0     0\n",
      "  communal standpipe                        0     0\n",
      "  communal standpipe multiple               0     0\n",
      "  dam                                       0     0\n",
      "  hand pump                                 0     0\n",
      "  improved spring                         784     0\n",
      "  other                                     0  6380\n"
     ]
    },
    {
     "name": "stderr",
     "output_type": "stream",
     "text": [
      "Warning message in chisq.test(tbl_waterpoint):\n",
      "\"Chi-squared approximation may be incorrect\"\n"
     ]
    },
    {
     "name": "stdout",
     "output_type": "stream",
     "text": [
      "\n",
      "\tPearson's Chi-squared test\n",
      "\n",
      "data:  tbl_waterpoint\n",
      "X-squared = 297000, df = 30, p-value < 2.2e-16\n",
      "\n"
     ]
    }
   ],
   "source": [
    "tbl_waterpoint <- table(training_data_set$waterpoint_type,training_data_set$waterpoint_type_group)\n",
    "print(tbl_waterpoint)\n",
    "print(chisq.test(tbl_waterpoint))"
   ]
  },
  {
   "cell_type": "markdown",
   "metadata": {},
   "source": [
    "#### 4.f) Source, Source class and source type"
   ]
  },
  {
   "cell_type": "code",
   "execution_count": 17,
   "metadata": {},
   "outputs": [
    {
     "name": "stdout",
     "output_type": "stream",
     "text": [
      "[1] \"Chi-square test for source_type and source_class\"\n"
     ]
    },
    {
     "name": "stderr",
     "output_type": "stream",
     "text": [
      "Warning message in chisq.test(tbl_source_type_class):\n",
      "\"Chi-squared approximation may be incorrect\"\n"
     ]
    },
    {
     "name": "stdout",
     "output_type": "stream",
     "text": [
      "\n",
      "\tPearson's Chi-squared test\n",
      "\n",
      "data:  tbl_source_type_class\n",
      "X-squared = 118800, df = 12, p-value < 2.2e-16\n",
      "\n",
      "[1] \"Chi-square test for source and source_class\"\n"
     ]
    },
    {
     "name": "stderr",
     "output_type": "stream",
     "text": [
      "Warning message in chisq.test(tbl_source):\n",
      "\"Chi-squared approximation may be incorrect\"\n"
     ]
    },
    {
     "name": "stdout",
     "output_type": "stream",
     "text": [
      "\n",
      "\tPearson's Chi-squared test\n",
      "\n",
      "data:  tbl_source\n",
      "X-squared = 118800, df = 18, p-value < 2.2e-16\n",
      "\n",
      "[1] \"Chi-square test for source_type and source\"\n"
     ]
    },
    {
     "name": "stderr",
     "output_type": "stream",
     "text": [
      "Warning message in chisq.test(table_source_type):\n",
      "\"Chi-squared approximation may be incorrect\"\n"
     ]
    },
    {
     "name": "stdout",
     "output_type": "stream",
     "text": [
      "\n",
      "\tPearson's Chi-squared test\n",
      "\n",
      "data:  table_source_type\n",
      "X-squared = 356400, df = 54, p-value < 2.2e-16\n",
      "\n"
     ]
    }
   ],
   "source": [
    "print(\"Chi-square test for source_type and source_class\")\n",
    "tbl_source_type_class <- table(training_data_set$source_type,training_data_set$source_class)\n",
    "# print(tbl_waterpoint)\n",
    "print(chisq.test(tbl_source_type_class))\n",
    "\n",
    "print(\"Chi-square test for source and source_class\")\n",
    "tbl_source <- table(training_data_set$source,training_data_set$source_class)\n",
    "print(chisq.test(tbl_source))\n",
    "\n",
    "print(\"Chi-square test for source_type and source\")\n",
    "table_source_type <- table(training_data_set$source,training_data_set$source_type)\n",
    "print(chisq.test(table_source_type))"
   ]
  },
  {
   "cell_type": "markdown",
   "metadata": {},
   "source": [
    "---\n",
    "#### Conclusion \n",
    "(source_type and source_class) and (source and source_class) have a lower values of X^2 compared to (source and source_type). So we will choose either one or two. "
   ]
  },
  {
   "cell_type": "markdown",
   "metadata": {},
   "source": [
    "---\n",
    "#### 4.g) extraction, extraction_type_group and extraction_type_class"
   ]
  },
  {
   "cell_type": "code",
   "execution_count": 18,
   "metadata": {},
   "outputs": [
    {
     "name": "stdout",
     "output_type": "stream",
     "text": [
      "[1] \"Chi-square test for extraction and extraction_type_group\"\n"
     ]
    },
    {
     "name": "stderr",
     "output_type": "stream",
     "text": [
      "Warning message in chisq.test(tbl_extraction_type_group):\n",
      "\"Chi-squared approximation may be incorrect\"\n"
     ]
    },
    {
     "name": "stdout",
     "output_type": "stream",
     "text": [
      "\n",
      "\tPearson's Chi-squared test\n",
      "\n",
      "data:  tbl_extraction_type_group\n",
      "X-squared = 712800, df = 204, p-value < 2.2e-16\n",
      "\n",
      "[1] \"Chi-square test for extraction and extraction_type_class\"\n"
     ]
    },
    {
     "name": "stderr",
     "output_type": "stream",
     "text": [
      "Warning message in chisq.test(tbl_extraction):\n",
      "\"Chi-squared approximation may be incorrect\"\n"
     ]
    },
    {
     "name": "stdout",
     "output_type": "stream",
     "text": [
      "\n",
      "\tPearson's Chi-squared test\n",
      "\n",
      "data:  tbl_extraction\n",
      "X-squared = 356400, df = 102, p-value < 2.2e-16\n",
      "\n",
      "[1] \"Chi-square test for extraction_type_group and extraction_type_class\"\n"
     ]
    },
    {
     "name": "stderr",
     "output_type": "stream",
     "text": [
      "Warning message in chisq.test(table_extraction_type):\n",
      "\"Chi-squared approximation may be incorrect\"\n"
     ]
    },
    {
     "name": "stdout",
     "output_type": "stream",
     "text": [
      "\n",
      "\tPearson's Chi-squared test\n",
      "\n",
      "data:  table_extraction_type\n",
      "X-squared = 356400, df = 72, p-value < 2.2e-16\n",
      "\n"
     ]
    }
   ],
   "source": [
    "print(\"Chi-square test for extraction and extraction_type_group\")\n",
    "tbl_extraction_type_group <- table(training_data_set$extraction_type,training_data_set$extraction_type_group)\n",
    "# print(tbl_waterpoint)\n",
    "print(chisq.test(tbl_extraction_type_group))\n",
    "\n",
    "print(\"Chi-square test for extraction and extraction_type_class\")\n",
    "tbl_extraction  <- table(training_data_set$extraction_type,training_data_set$extraction_type_class)\n",
    "print(chisq.test(tbl_extraction))\n",
    "\n",
    "print(\"Chi-square test for extraction_type_group and extraction_type_class\")\n",
    "table_extraction_type <- table(training_data_set$extraction_type_group,training_data_set$extraction_type_class)\n",
    "print(chisq.test(table_extraction_type))"
   ]
  },
  {
   "cell_type": "markdown",
   "metadata": {},
   "source": [
    "---\n",
    "#### 4.h) Next we take a look at funder and installer. But since both of them are in different cases, first we need to convert them to the same case and then use chi-square test to identify if there is a relation between the two."
   ]
  },
  {
   "cell_type": "code",
   "execution_count": 19,
   "metadata": {},
   "outputs": [
    {
     "name": "stderr",
     "output_type": "stream",
     "text": [
      "Warning message in chisq.test(table(training_data_set$funder, training_data_set$installer)):\n",
      "\"Chi-squared approximation may be incorrect\"\n"
     ]
    },
    {
     "name": "stdout",
     "output_type": "stream",
     "text": [
      "\n",
      "\tPearson's Chi-squared test\n",
      "\n",
      "data:  table(training_data_set$funder, training_data_set$installer)\n",
      "X-squared = NaN, df = 3666864, p-value = NA\n",
      "\n"
     ]
    }
   ],
   "source": [
    "training_data_set$funder <- tolower(training_data_set$funder)\n",
    "training_data_set$installer <- tolower(training_data_set$installer)\n",
    "\n",
    "print(chisq.test(table(training_data_set$funder,training_data_set$installer)))"
   ]
  },
  {
   "cell_type": "markdown",
   "metadata": {},
   "source": [
    "#### We get NaN as X-Squared because the value is too small. But we infer that funder and installer are correlated by the high df value and also by observing the dataset"
   ]
  },
  {
   "cell_type": "markdown",
   "metadata": {},
   "source": [
    "----\n",
    "#### Removing all the columns that have been till now discussed that won't impart any extra information"
   ]
  },
  {
   "cell_type": "code",
   "execution_count": 20,
   "metadata": {},
   "outputs": [],
   "source": [
    "training_data_set <- subset(training_data_set,select = -c(water_quality,payment_type,management_group,waterpoint_type,source_type,extraction_type,installer,quantity,source_class,extraction_type_group))"
   ]
  },
  {
   "cell_type": "markdown",
   "metadata": {},
   "source": [
    "### We also have a look at how the left over columns are affecting the status of a water pump."
   ]
  },
  {
   "cell_type": "code",
   "execution_count": 21,
   "metadata": {},
   "outputs": [
    {
     "data": {
      "image/png": "[encoded data removed]",
      "text/plain": [
       "plot without title"
      ]
     },
     "metadata": {
      "image/png": {
       "height": 360,
       "width": 1200
      }
     },
     "output_type": "display_data"
    }
   ],
   "source": [
    "group_by_quality_group <- aggregate(id~quality_group+status_group,training_data_set, function(x) length(unique(x)))\n",
    "# print(group_by_permit)  \n",
    "options(repr.plot.width=20, repr.plot.height=6)\n",
    "ggplot(group_by_quality_group, aes(fill=status_group, y=id, x=quality_group)) + \n",
    "    geom_bar(position=\"fill\", stat=\"identity\")+theme(text = element_text(size=20))"
   ]
  },
  {
   "cell_type": "markdown",
   "metadata": {},
   "source": [
    "#### We can see that depending on the quality of water the status of the water pump changes. If the water has a lot of fluoride the pump is functional. But for salty water the pump becomes non functional."
   ]
  },
  {
   "cell_type": "code",
   "execution_count": 22,
   "metadata": {},
   "outputs": [
    {
     "data": {
      "image/png": "[encoded data removed]",
      "text/plain": [
       "plot without title"
      ]
     },
     "metadata": {
      "image/png": {
       "height": 360,
       "width": 1200
      }
     },
     "output_type": "display_data"
    }
   ],
   "source": [
    "group_by_quantity_group <- aggregate(id~quantity_group+status_group,training_data_set, function(x) length(unique(x)))\n",
    "# print(group_by_permit)  \n",
    "options(repr.plot.width=20, repr.plot.height=6)\n",
    "ggplot(group_by_quantity_group, aes(fill=status_group, y=id, x=quantity_group)) + \n",
    "    geom_bar(position=\"fill\", stat=\"identity\")+theme(text = element_text(size=20))"
   ]
  },
  {
   "cell_type": "code",
   "execution_count": 23,
   "metadata": {},
   "outputs": [
    {
     "data": {
      "image/png": "[encoded data removed]",
      "text/plain": [
       "plot without title"
      ]
     },
     "metadata": {
      "image/png": {
       "height": 360,
       "width": 1200
      }
     },
     "output_type": "display_data"
    }
   ],
   "source": [
    "group_by_payment <- aggregate(id~payment +status_group,training_data_set, function(x) length(unique(x)))\n",
    "# print(group_by_permit)  \n",
    "options(repr.plot.width=20, repr.plot.height=6)\n",
    "ggplot(group_by_payment , aes(fill=status_group, y=id, x=payment )) + geom_bar(position=\"fill\", stat=\"identity\")+theme(text = element_text(size=20))"
   ]
  },
  {
   "cell_type": "markdown",
   "metadata": {},
   "source": [
    "#### When payments are not done more pumps are non functional compared to when payments are done annually."
   ]
  },
  {
   "cell_type": "code",
   "execution_count": 24,
   "metadata": {},
   "outputs": [
    {
     "data": {
      "image/png": "[encoded data removed]",
      "text/plain": [
       "plot without title"
      ]
     },
     "metadata": {
      "image/png": {
       "height": 360,
       "width": 1200
      }
     },
     "output_type": "display_data"
    }
   ],
   "source": [
    "group_by_basin <- aggregate(id~basin +status_group,training_data_set, function(x) length(unique(x)))\n",
    "# print(group_by_permit)  \n",
    "options(repr.plot.width=20, repr.plot.height=6)\n",
    "ggplot(group_by_basin , aes(fill=status_group, y=id, x=basin)) + geom_bar(position=\"fill\", stat=\"identity\")+theme(text = element_text(size=20))"
   ]
  },
  {
   "cell_type": "markdown",
   "metadata": {},
   "source": [
    "#### The quantity of water also clearly affects the status. Dry pumps are mostly non functional whereas pumps where there is enough water are functional."
   ]
  },
  {
   "cell_type": "code",
   "execution_count": 25,
   "metadata": {},
   "outputs": [
    {
     "data": {
      "image/png": "[encoded data removed]",
      "text/plain": [
       "plot without title"
      ]
     },
     "metadata": {
      "image/png": {
       "height": 360,
       "width": 1200
      }
     },
     "output_type": "display_data"
    }
   ],
   "source": [
    "group_by_waterpoint_group <- aggregate(id~waterpoint_type_group+status_group,training_data_set, function(x) length(unique(x)))\n",
    "# print(group_by_permit)  \n",
    "options(repr.plot.width=20, repr.plot.height=6)\n",
    "ggplot(group_by_waterpoint_group, aes(fill=status_group, y=id, x=waterpoint_type_group)) + \n",
    "    geom_bar(position=\"fill\", stat=\"identity\")+theme(text = element_text(size=20))"
   ]
  },
  {
   "cell_type": "markdown",
   "metadata": {},
   "source": [
    "#### The type of water pump also clearly affects the status. If it is a dam chances are the water pump will be functional. For other categories water pumps are mostly non functional."
   ]
  },
  {
   "cell_type": "code",
   "execution_count": 26,
   "metadata": {},
   "outputs": [
    {
     "data": {
      "image/png": "[encoded data removed]",
      "text/plain": [
       "plot without title"
      ]
     },
     "metadata": {
      "image/png": {
       "height": 360,
       "width": 1200
      }
     },
     "output_type": "display_data"
    }
   ],
   "source": [
    "group_by_source <- aggregate(id~source+status_group,training_data_set, function(x) length(unique(x)))\n",
    "# print(group_by_permit)  \n",
    "options(repr.plot.width=20, repr.plot.height=6)\n",
    "ggplot(group_by_source, aes(fill=status_group, y=id, x=source)) + \n",
    "    geom_bar(position=\"fill\", stat=\"identity\")+theme(text = element_text(size=20))"
   ]
  },
  {
   "cell_type": "markdown",
   "metadata": {},
   "source": [
    "#### The source of water pump also affects the status. If the source is lake and dam most of the pumps are non functional. For the rest of the categories there is not a large differentiation. So we keep this feature."
   ]
  },
  {
   "cell_type": "markdown",
   "metadata": {},
   "source": [
    "#### 5. Since we have the constructed year and the date recorded, we can find out the age of the pump and check if it has an effect on its functionality"
   ]
  },
  {
   "cell_type": "code",
   "execution_count": 27,
   "metadata": {},
   "outputs": [],
   "source": [
    "# relacing all 0s with median of construction year\n",
    "# training_data_set$construction_year[training_data_set[\"construction_year\"]==0] <-median(training_data_set$construction_year)\n",
    "date_recorded_in_years <- as.numeric(format(as.Date(training_data_set$\"date_recorded\"),\"%Y\"))\n",
    "# print(training_data_set$construction_year[training_data_set$construction_year<1986])\n",
    "training_data_set[\"age\"] <-   date_recorded_in_years - training_data_set[\"construction_year\"]\n",
    "training_data_set$age[training_data_set[\"age\"]==as.numeric(format(as.Date(training_data_set$\"date_recorded\"),\"%Y\"))] <- median(training_data_set$age)"
   ]
  },
  {
   "cell_type": "markdown",
   "metadata": {},
   "source": [
    "#### Since there is 0 in construction year we can replace that with the median to be able to calculate the age of the pump by subtracting the date_recorded and construction_year to get one feature called age."
   ]
  },
  {
   "cell_type": "code",
   "execution_count": 28,
   "metadata": {},
   "outputs": [
    {
     "data": {
      "image/png": "[encoded data removed]",
      "text/plain": [
       "plot without title"
      ]
     },
     "metadata": {
      "image/png": {
       "height": 360,
       "width": 1200
      }
     },
     "output_type": "display_data"
    }
   ],
   "source": [
    "group_by_age <- aggregate(id~age+status_group,training_data_set, function(x) length(unique(x)))\n",
    "# print(group_by_age)  \n",
    "options(repr.plot.width=20, repr.plot.height=6)\n",
    "ggplot(group_by_age, aes(x = age, y = id)) + \n",
    "  geom_line(aes(color = status_group),size=1.5)+theme(text = element_text(size=20))"
   ]
  },
  {
   "cell_type": "markdown",
   "metadata": {},
   "source": [
    "---\n",
    "#### Conclusion from 5\n",
    "As the age increases after around 30 the number of functioning pumps decreases. Also we see some values are below 0 indicating that at certain places the age is negative. The constructed year is after the recorded date. So we can filter out those records and continue to keep age as a variable and remove date_recorded and construction_year"
   ]
  },
  {
   "cell_type": "code",
   "execution_count": 29,
   "metadata": {},
   "outputs": [],
   "source": [
    "training_data_set <- training_data_set[!(training_data_set[\"age\"]<0),]\n",
    "training_data_set <- subset(training_data_set,select=-c(date_recorded,construction_year))"
   ]
  },
  {
   "cell_type": "code",
   "execution_count": 30,
   "metadata": {
    "scrolled": true
   },
   "outputs": [
    {
     "data": {
      "text/html": [
       "<style>\n",
       ".list-inline {list-style: none; margin:0; padding: 0}\n",
       ".list-inline>li {display: inline-block}\n",
       ".list-inline>li:not(:last-child)::after {content: \"\\00b7\"; padding: 0 .5ex}\n",
       "</style>\n",
       "<ol class=list-inline><li>'id'</li><li>'amount_tsh'</li><li>'funder'</li><li>'gps_height'</li><li>'longitude'</li><li>'latitude'</li><li>'basin'</li><li>'subvillage'</li><li>'region'</li><li>'region_code'</li><li>'district_code'</li><li>'lga'</li><li>'ward'</li><li>'population'</li><li>'public_meeting'</li><li>'scheme_management'</li><li>'permit'</li><li>'extraction_type_class'</li><li>'management'</li><li>'payment'</li><li>'quality_group'</li><li>'quantity_group'</li><li>'source'</li><li>'waterpoint_type_group'</li><li>'status_group'</li><li>'age'</li></ol>\n"
      ],
      "text/latex": [
       "\\begin{enumerate*}\n",
       "\\item 'id'\n",
       "\\item 'amount\\_tsh'\n",
       "\\item 'funder'\n",
       "\\item 'gps\\_height'\n",
       "\\item 'longitude'\n",
       "\\item 'latitude'\n",
       "\\item 'basin'\n",
       "\\item 'subvillage'\n",
       "\\item 'region'\n",
       "\\item 'region\\_code'\n",
       "\\item 'district\\_code'\n",
       "\\item 'lga'\n",
       "\\item 'ward'\n",
       "\\item 'population'\n",
       "\\item 'public\\_meeting'\n",
       "\\item 'scheme\\_management'\n",
       "\\item 'permit'\n",
       "\\item 'extraction\\_type\\_class'\n",
       "\\item 'management'\n",
       "\\item 'payment'\n",
       "\\item 'quality\\_group'\n",
       "\\item 'quantity\\_group'\n",
       "\\item 'source'\n",
       "\\item 'waterpoint\\_type\\_group'\n",
       "\\item 'status\\_group'\n",
       "\\item 'age'\n",
       "\\end{enumerate*}\n"
      ],
      "text/markdown": [
       "1. 'id'\n",
       "2. 'amount_tsh'\n",
       "3. 'funder'\n",
       "4. 'gps_height'\n",
       "5. 'longitude'\n",
       "6. 'latitude'\n",
       "7. 'basin'\n",
       "8. 'subvillage'\n",
       "9. 'region'\n",
       "10. 'region_code'\n",
       "11. 'district_code'\n",
       "12. 'lga'\n",
       "13. 'ward'\n",
       "14. 'population'\n",
       "15. 'public_meeting'\n",
       "16. 'scheme_management'\n",
       "17. 'permit'\n",
       "18. 'extraction_type_class'\n",
       "19. 'management'\n",
       "20. 'payment'\n",
       "21. 'quality_group'\n",
       "22. 'quantity_group'\n",
       "23. 'source'\n",
       "24. 'waterpoint_type_group'\n",
       "25. 'status_group'\n",
       "26. 'age'\n",
       "\n",
       "\n"
      ],
      "text/plain": [
       " [1] \"id\"                    \"amount_tsh\"            \"funder\"               \n",
       " [4] \"gps_height\"            \"longitude\"             \"latitude\"             \n",
       " [7] \"basin\"                 \"subvillage\"            \"region\"               \n",
       "[10] \"region_code\"           \"district_code\"         \"lga\"                  \n",
       "[13] \"ward\"                  \"population\"            \"public_meeting\"       \n",
       "[16] \"scheme_management\"     \"permit\"                \"extraction_type_class\"\n",
       "[19] \"management\"            \"payment\"               \"quality_group\"        \n",
       "[22] \"quantity_group\"        \"source\"                \"waterpoint_type_group\"\n",
       "[25] \"status_group\"          \"age\"                  "
      ]
     },
     "metadata": {},
     "output_type": "display_data"
    }
   ],
   "source": [
    "colnames(training_data_set)"
   ]
  },
  {
   "cell_type": "markdown",
   "metadata": {},
   "source": [
    "#### 6. Next we look at the numerical features and see if there are any missing values. Also we find the correlation between the numerical values to see if any features could be eliminated."
   ]
  },
  {
   "cell_type": "code",
   "execution_count": 31,
   "metadata": {},
   "outputs": [],
   "source": [
    "# print(unique(training_data_set$population))\n",
    "# 0 population does not make sense so we replace it with the mean of the population\n",
    "training_data_set$population[training_data_set$population==0] <- mean(training_data_set$population)\n",
    "# for gps_height and amount_tsh 0 values are acceptable"
   ]
  },
  {
   "cell_type": "code",
   "execution_count": 32,
   "metadata": {
    "scrolled": true
   },
   "outputs": [
    {
     "data": {
      "image/png": "[encoded data removed]",
      "text/plain": [
       "Plot with title \"\""
      ]
     },
     "metadata": {
      "image/png": {
       "height": 360,
       "width": 1200
      }
     },
     "output_type": "display_data"
    }
   ],
   "source": [
    "corrplot(cor(training_data_set[,c(\"population\",\"gps_height\",\"amount_tsh\")], method = \"pearson\"), method=\"circle\")"
   ]
  },
  {
   "cell_type": "code",
   "execution_count": 33,
   "metadata": {},
   "outputs": [
    {
     "data": {
      "image/png": "[encoded data removed]",
      "text/plain": [
       "plot without title"
      ]
     },
     "metadata": {
      "image/png": {
       "height": 360,
       "width": 1200
      }
     },
     "output_type": "display_data"
    }
   ],
   "source": [
    "ggplot(training_data_set, aes(x=status_group, y=population,color=status_group)) + geom_point(size=5)+theme(text = element_text(size=20))"
   ]
  },
  {
   "cell_type": "code",
   "execution_count": 34,
   "metadata": {},
   "outputs": [
    {
     "data": {
      "image/png": "[encoded data removed]",
      "text/plain": [
       "plot without title"
      ]
     },
     "metadata": {
      "image/png": {
       "height": 360,
       "width": 1200
      }
     },
     "output_type": "display_data"
    }
   ],
   "source": [
    "ggplot(training_data_set, aes(x=status_group, y=gps_height,color=status_group)) + geom_point(size=5)+theme(text = element_text(size=20))"
   ]
  },
  {
   "cell_type": "code",
   "execution_count": 35,
   "metadata": {},
   "outputs": [
    {
     "data": {
      "image/png": "[encoded data removed]",
      "text/plain": [
       "plot without title"
      ]
     },
     "metadata": {
      "image/png": {
       "height": 360,
       "width": 1200
      }
     },
     "output_type": "display_data"
    }
   ],
   "source": [
    "ggplot(training_data_set, aes(x=status_group, y=amount_tsh,color=status_group)) + geom_point(size=5)+theme(text = element_text(size=20))"
   ]
  },
  {
   "cell_type": "markdown",
   "metadata": {},
   "source": [
    "#### As the amount of water increases in the pump the pump seems to be more functional."
   ]
  },
  {
   "cell_type": "markdown",
   "metadata": {},
   "source": [
    "---\n",
    "#### Conclusion from 6\n",
    "As we can see from the above correlation matrix none of the three features are highly related. So we keep all of them."
   ]
  },
  {
   "cell_type": "markdown",
   "metadata": {},
   "source": [
    "#### 7. We now replace all the missing values from the features. "
   ]
  },
  {
   "cell_type": "code",
   "execution_count": 36,
   "metadata": {},
   "outputs": [
    {
     "data": {
      "text/html": [
       "<style>\n",
       ".list-inline {list-style: none; margin:0; padding: 0}\n",
       ".list-inline>li {display: inline-block}\n",
       ".list-inline>li:not(:last-child)::after {content: \"\\00b7\"; padding: 0 .5ex}\n",
       "</style>\n",
       "<ol class=list-inline><li>'funder'</li><li>'subvillage'</li><li>'public_meeting'</li><li>'scheme_management'</li><li>'permit'</li></ol>\n"
      ],
      "text/latex": [
       "\\begin{enumerate*}\n",
       "\\item 'funder'\n",
       "\\item 'subvillage'\n",
       "\\item 'public\\_meeting'\n",
       "\\item 'scheme\\_management'\n",
       "\\item 'permit'\n",
       "\\end{enumerate*}\n"
      ],
      "text/markdown": [
       "1. 'funder'\n",
       "2. 'subvillage'\n",
       "3. 'public_meeting'\n",
       "4. 'scheme_management'\n",
       "5. 'permit'\n",
       "\n",
       "\n"
      ],
      "text/plain": [
       "[1] \"funder\"            \"subvillage\"        \"public_meeting\"   \n",
       "[4] \"scheme_management\" \"permit\"           "
      ]
     },
     "metadata": {},
     "output_type": "display_data"
    }
   ],
   "source": [
    "names(which(colSums(is.na(training_data_set)) > 0))"
   ]
  },
  {
   "cell_type": "markdown",
   "metadata": {},
   "source": [
    "---\n",
    "#### We do it only for scheme_management because we will be eliminating public_meeting and permit as per below charts."
   ]
  },
  {
   "cell_type": "code",
   "execution_count": 37,
   "metadata": {},
   "outputs": [
    {
     "data": {
      "image/png": "[encoded data removed]",
      "text/plain": [
       "plot without title"
      ]
     },
     "metadata": {
      "image/png": {
       "height": 360,
       "width": 1200
      }
     },
     "output_type": "display_data"
    }
   ],
   "source": [
    "group_by_permit <- aggregate(id~permit+status_group,training_data_set, function(x) length(unique(x)))\n",
    "# print(group_by_permit)  \n",
    "options(repr.plot.width=20, repr.plot.height=6)\n",
    "ggplot(group_by_permit, aes(fill=status_group, y=id, x=permit)) + \n",
    "    geom_bar(position=\"fill\", stat=\"identity\")+theme(text = element_text(size=20))"
   ]
  },
  {
   "cell_type": "markdown",
   "metadata": {},
   "source": [
    "---\n",
    "#### From the above graph we see that permit does not really affect the status of a pump. For both True and False the distribution of pumps based on their functional status continues to be the same. "
   ]
  },
  {
   "cell_type": "code",
   "execution_count": 38,
   "metadata": {},
   "outputs": [
    {
     "data": {
      "image/png": "[encoded data removed]",
      "text/plain": [
       "plot without title"
      ]
     },
     "metadata": {
      "image/png": {
       "height": 360,
       "width": 1200
      }
     },
     "output_type": "display_data"
    }
   ],
   "source": [
    "group_by_public_meeting <- aggregate(id~public_meeting+status_group,training_data_set, function(x) length(unique(x)))\n",
    "# print(group_by_permit)  \n",
    "options(repr.plot.width=20, repr.plot.height=6)\n",
    "ggplot(group_by_public_meeting, aes(fill=status_group, y=id, x=public_meeting)) + \n",
    "    geom_bar(position=\"fill\", stat=\"identity\")+theme(text = element_text(size=20))"
   ]
  },
  {
   "cell_type": "markdown",
   "metadata": {},
   "source": [
    "---\n",
    "#### Same as for permit, we observe that public_meeting might not affect the target variable so we can eliminate it"
   ]
  },
  {
   "cell_type": "code",
   "execution_count": 39,
   "metadata": {},
   "outputs": [
    {
     "data": {
      "image/png": "[encoded data removed]",
      "text/plain": [
       "plot without title"
      ]
     },
     "metadata": {
      "image/png": {
       "height": 360,
       "width": 1200
      }
     },
     "output_type": "display_data"
    }
   ],
   "source": [
    "group_by_scheme_management <- aggregate(id~scheme_management+status_group,training_data_set, function(x) length(unique(x)))\n",
    "# print(group_by_permit)  \n",
    "options(repr.plot.width=20, repr.plot.height=6)\n",
    "ggplot(group_by_scheme_management, aes(fill=status_group, y=id, x=scheme_management)) + \n",
    "    geom_bar(position=\"fill\", stat=\"identity\")+theme(text = element_text(size=20))"
   ]
  },
  {
   "cell_type": "markdown",
   "metadata": {},
   "source": [
    "---\n",
    "#### Based on the scheme the functionality varies. This is observed from the stacked percentage chart above. Also we have a \"Other\" category. We can map all missing values to it."
   ]
  },
  {
   "cell_type": "code",
   "execution_count": 40,
   "metadata": {},
   "outputs": [],
   "source": [
    "training_data_set[\"scheme_management\"][is.na(training_data_set[\"scheme_management\"])]<- \"Other\"\n",
    "training_data_set <- subset(training_data_set,select=-c(permit,public_meeting))"
   ]
  },
  {
   "cell_type": "markdown",
   "metadata": {},
   "source": [
    "#### 8. Since now we have our list of features we try and reduce the levels in our categorical variables."
   ]
  },
  {
   "cell_type": "code",
   "execution_count": 41,
   "metadata": {},
   "outputs": [
    {
     "name": "stdout",
     "output_type": "stream",
     "text": [
      "         status_group        quantity_group         quality_group \n",
      "                    3                     5                     6 \n",
      "waterpoint_type_group extraction_type_class               payment \n",
      "                    6                     7                     7 \n",
      "                basin                source     scheme_management \n",
      "                    9                    10                    12 \n",
      "           management         district_code                region \n",
      "                   12                    20                    21 \n",
      "          region_code                   age            amount_tsh \n",
      "                   27                    54                    98 \n",
      "                  lga            population                funder \n",
      "                  125                  1048                  1897 \n",
      "                 ward            gps_height            subvillage \n",
      "                 2092                  2428                 19287 \n",
      "            longitude              latitude                    id \n",
      "                55358                 57508                 59391 \n"
     ]
    }
   ],
   "source": [
    "unique_value_list <- apply(training_data_set, 2, function(x) length(unique(x)))\n",
    "print(sort(unique_value_list))"
   ]
  },
  {
   "cell_type": "markdown",
   "metadata": {},
   "source": [
    "---\n",
    "#### We replace the missing values from funder with NA"
   ]
  },
  {
   "cell_type": "code",
   "execution_count": 42,
   "metadata": {},
   "outputs": [],
   "source": [
    "training_data_set[\"funder\"][is.na(training_data_set[\"funder\"])] <- \"Other\"\n",
    "# print((unique(training_data_set[\"funder\"])))"
   ]
  },
  {
   "cell_type": "markdown",
   "metadata": {},
   "source": [
    "---\n",
    "#### 9. Since we have latitude and longitude along with region we can remove the rest of the geographical features."
   ]
  },
  {
   "cell_type": "code",
   "execution_count": 43,
   "metadata": {
    "scrolled": true
   },
   "outputs": [
    {
     "name": "stdout",
     "output_type": "stream",
     "text": [
      " [1] \"id\"                    \"amount_tsh\"            \"funder\"               \n",
      " [4] \"gps_height\"            \"longitude\"             \"latitude\"             \n",
      " [7] \"basin\"                 \"population\"            \"scheme_management\"    \n",
      "[10] \"extraction_type_class\" \"management\"            \"payment\"              \n",
      "[13] \"quality_group\"         \"quantity_group\"        \"source\"               \n",
      "[16] \"waterpoint_type_group\" \"status_group\"          \"age\"                  \n"
     ]
    }
   ],
   "source": [
    "training_data_set <- subset(training_data_set, select = -c(subvillage,region_code,district_code,lga,ward,region))\n",
    "print(colnames(training_data_set))"
   ]
  },
  {
   "cell_type": "markdown",
   "metadata": {},
   "source": [
    "#### 10. Next we replace all blank numerical data with their corresponding median values"
   ]
  },
  {
   "cell_type": "code",
   "execution_count": 44,
   "metadata": {},
   "outputs": [],
   "source": [
    "training_data_set[\"amount_tsh\"] <- lapply((training_data_set[\"amount_tsh\"]),as.numeric)\n",
    "training_data_set[\"amount_tsh\"][is.na(training_data_set[\"amount_tsh\"])]<- mean((training_data_set$amount_tsh))\n",
    "training_data_set[\"gps_height\"][is.na(training_data_set[\"gps_height\"])]<- mean(as.numeric(training_data_set$gps_height))\n",
    "training_data_set[\"latitude\"][is.na(training_data_set[\"latitude\"])]<- mean(as.numeric(training_data_set$latitude))\n",
    "training_data_set[\"longitude\"][is.na(training_data_set[\"longitude\"])]<- mean(as.numeric(training_data_set$longitude))\n",
    "# 0 longitude probably implies missing values\n",
    "training_data_set$longitude[training_data_set$longitude==0]<-median(training_data_set$longitude)\n",
    "# print(unique(training_data_set[\"public_meeting\"]))\n"
   ]
  },
  {
   "cell_type": "markdown",
   "metadata": {},
   "source": [
    "#### 11. We remove id column since that is unique for every row. Also we remove the count column that we generated above"
   ]
  },
  {
   "cell_type": "code",
   "execution_count": 45,
   "metadata": {
    "scrolled": true
   },
   "outputs": [
    {
     "name": "stdout",
     "output_type": "stream",
     "text": [
      " [1] \"amount_tsh\"            \"funder\"                \"gps_height\"           \n",
      " [4] \"longitude\"             \"latitude\"              \"basin\"                \n",
      " [7] \"population\"            \"scheme_management\"     \"extraction_type_class\"\n",
      "[10] \"management\"            \"payment\"               \"quality_group\"        \n",
      "[13] \"quantity_group\"        \"source\"                \"waterpoint_type_group\"\n",
      "[16] \"status_group\"          \"age\"                  \n"
     ]
    }
   ],
   "source": [
    "# remove_column <- \"id\"\n",
    "\n",
    "training_data_set <- subset(training_data_set,select=-c(id))\n",
    "print(colnames(training_data_set))"
   ]
  },
  {
   "cell_type": "markdown",
   "metadata": {},
   "source": [
    "#### 12. We factorize the target variable to be able to use it in our classification models next."
   ]
  },
  {
   "cell_type": "code",
   "execution_count": 46,
   "metadata": {},
   "outputs": [
    {
     "data": {
      "text/html": [
       "<style>\n",
       ".list-inline {list-style: none; margin:0; padding: 0}\n",
       ".list-inline>li {display: inline-block}\n",
       ".list-inline>li:not(:last-child)::after {content: \"\\00b7\"; padding: 0 .5ex}\n",
       "</style>\n",
       "<ol class=list-inline><li>non functional</li><li>functional</li><li>functional needs repair</li></ol>\n",
       "\n",
       "<details>\n",
       "\t<summary style=display:list-item;cursor:pointer>\n",
       "\t\t<strong>Levels</strong>:\n",
       "\t</summary>\n",
       "\t<style>\n",
       "\t.list-inline {list-style: none; margin:0; padding: 0}\n",
       "\t.list-inline>li {display: inline-block}\n",
       "\t.list-inline>li:not(:last-child)::after {content: \"\\00b7\"; padding: 0 .5ex}\n",
       "\t</style>\n",
       "\t<ol class=list-inline><li>'functional'</li><li>'functional needs repair'</li><li>'non functional'</li></ol>\n",
       "</details>"
      ],
      "text/latex": [
       "\\begin{enumerate*}\n",
       "\\item non functional\n",
       "\\item functional\n",
       "\\item functional needs repair\n",
       "\\end{enumerate*}\n",
       "\n",
       "\\emph{Levels}: \\begin{enumerate*}\n",
       "\\item 'functional'\n",
       "\\item 'functional needs repair'\n",
       "\\item 'non functional'\n",
       "\\end{enumerate*}\n"
      ],
      "text/markdown": [
       "1. non functional\n",
       "2. functional\n",
       "3. functional needs repair\n",
       "\n",
       "\n",
       "\n",
       "**Levels**: 1. 'functional'\n",
       "2. 'functional needs repair'\n",
       "3. 'non functional'\n",
       "\n",
       "\n"
      ],
      "text/plain": [
       "[1] non functional          functional              functional needs repair\n",
       "Levels: functional functional needs repair non functional"
      ]
     },
     "metadata": {},
     "output_type": "display_data"
    }
   ],
   "source": [
    "training_data_set$status_group<-as.factor(training_data_set$status_group)\n",
    "unique(training_data_set$status_group)"
   ]
  },
  {
   "cell_type": "code",
   "execution_count": 47,
   "metadata": {},
   "outputs": [
    {
     "data": {
      "text/html": [
       "<style>\n",
       ".list-inline {list-style: none; margin:0; padding: 0}\n",
       ".list-inline>li {display: inline-block}\n",
       ".list-inline>li:not(:last-child)::after {content: \"\\00b7\"; padding: 0 .5ex}\n",
       "</style>\n",
       "<ol class=list-inline><li>59391</li><li>17</li></ol>\n"
      ],
      "text/latex": [
       "\\begin{enumerate*}\n",
       "\\item 59391\n",
       "\\item 17\n",
       "\\end{enumerate*}\n"
      ],
      "text/markdown": [
       "1. 59391\n",
       "2. 17\n",
       "\n",
       "\n"
      ],
      "text/plain": [
       "[1] 59391    17"
      ]
     },
     "metadata": {},
     "output_type": "display_data"
    }
   ],
   "source": [
    "dim(training_data_set)"
   ]
  },
  {
   "cell_type": "markdown",
   "metadata": {},
   "source": [
    "## Task 2 - Model Selection and Implementation"
   ]
  },
  {
   "cell_type": "markdown",
   "metadata": {},
   "source": [
    "### Explanation\n",
    "The first and foremost model that we decided to impelement is Random Forest. Random Forest is an ensemble technique which means that it uses bootstrapping and bagging techniques to improve its predictions. Out of the given list Random Forest is the one that can handle categorical variables directly so we could obtain a baseline accuracy from this model directly from our selected features. Also Random Forests work well with large datasets and large features."
   ]
  },
  {
   "cell_type": "markdown",
   "metadata": {},
   "source": [
    "## 1. Random Forest"
   ]
  },
  {
   "cell_type": "markdown",
   "metadata": {},
   "source": [
    "#### Tuning of hyperparameters - ntree"
   ]
  },
  {
   "cell_type": "markdown",
   "metadata": {},
   "source": [
    "We tried executing random forest model with different parameters to understand how well the model performs. This part of the code has been commented to reduce the execution time. After running all models we decided to choose ntree as 250 and mtry as 3. Please uncomment the code in order to execute it (Cells 37-43)."
   ]
  },
  {
   "cell_type": "code",
   "execution_count": 48,
   "metadata": {},
   "outputs": [],
   "source": [
    "# # with default parameters ntree = 500\n",
    "# model_1_rf = randomForest(status_group~., data = training_data_set, importance = TRUE)"
   ]
  },
  {
   "cell_type": "code",
   "execution_count": 49,
   "metadata": {},
   "outputs": [
    {
     "name": "stdout",
     "output_type": "stream",
     "text": [
      "\n",
      "Call:\n",
      " randomForest(formula = status_group ~ ., data = training_data_set,      importance = TRUE) \n",
      "               Type of random forest: classification\n",
      "                     Number of trees: 500\n",
      "No. of variables tried at each split: 4\n",
      "\n",
      "        OOB estimate of  error rate: 18.74%\n",
      "Confusion matrix:\n",
      "                        functional functional needs repair non functional\n",
      "functional                   29117                     667           2471\n",
      "functional needs repair       2316                    1398            603\n",
      "non functional                4783                     291          17745\n",
      "                        class.error\n",
      "functional               0.09728724\n",
      "functional needs repair  0.67616400\n",
      "non functional           0.22235856\n"
     ]
    }
   ],
   "source": [
    "# print(model_1_rf)"
   ]
  },
  {
   "cell_type": "code",
   "execution_count": 50,
   "metadata": {},
   "outputs": [
    {
     "name": "stdout",
     "output_type": "stream",
     "text": [
      "\n",
      "Call:\n",
      " randomForest(formula = status_group ~ ., data = training_data_set,      importance = TRUE, ntree = 100) \n",
      "               Type of random forest: classification\n",
      "                     Number of trees: 100\n",
      "No. of variables tried at each split: 4\n",
      "\n",
      "        OOB estimate of  error rate: 19.07%\n",
      "Confusion matrix:\n",
      "                        functional functional needs repair non functional\n",
      "functional                   29012                     709           2534\n",
      "functional needs repair       2324                    1399            594\n",
      "non functional                4858                     305          17656\n",
      "                        class.error\n",
      "functional                0.1005426\n",
      "functional needs repair   0.6759324\n",
      "non functional            0.2262588\n"
     ]
    }
   ],
   "source": [
    "# model_2_rf = randomForest(status_group~., data = training_data_set, importance = TRUE,ntree=100)\n",
    "# print(model_2_rf)"
   ]
  },
  {
   "cell_type": "code",
   "execution_count": 51,
   "metadata": {},
   "outputs": [
    {
     "name": "stdout",
     "output_type": "stream",
     "text": [
      "\n",
      "Call:\n",
      " randomForest(formula = status_group ~ ., data = training_data_set,      importance = TRUE, ntree = 200) \n",
      "               Type of random forest: classification\n",
      "                     Number of trees: 200\n",
      "No. of variables tried at each split: 4\n",
      "\n",
      "        OOB estimate of  error rate: 18.85%\n",
      "Confusion matrix:\n",
      "                        functional functional needs repair non functional\n",
      "functional                   29046                     680           2529\n",
      "functional needs repair       2323                    1390            604\n",
      "non functional                4763                     298          17758\n",
      "                        class.error\n",
      "functional               0.09948845\n",
      "functional needs repair  0.67801714\n",
      "non functional           0.22178886\n"
     ]
    }
   ],
   "source": [
    "# model_3_rf = randomForest(status_group~., data = training_data_set, importance = TRUE,ntree=200)\n",
    "# print(model_3_rf)"
   ]
  },
  {
   "cell_type": "markdown",
   "metadata": {},
   "source": [
    "---\n",
    "#### Conclusion from hyperparameter tuning\n",
    "We can conclude that for very few number of tress the error rate is high. As the number of trees are less there will be more bias in the data because all not rows will be taken into consideration while generating the samples. As the number of tress increase the error rate decreases but after a certain point it brings only a marginal improvement. So we choose an optimum point where error rate is low and so is execution time."
   ]
  },
  {
   "cell_type": "markdown",
   "metadata": {},
   "source": [
    "#### Tuning of hyperparameter - mtry"
   ]
  },
  {
   "cell_type": "code",
   "execution_count": 52,
   "metadata": {},
   "outputs": [
    {
     "name": "stdout",
     "output_type": "stream",
     "text": [
      "\n",
      "Call:\n",
      " randomForest(formula = status_group ~ ., data = training_data_set,      importance = TRUE, ntree = 250, mtry = 6) \n",
      "               Type of random forest: classification\n",
      "                     Number of trees: 250\n",
      "No. of variables tried at each split: 6\n",
      "\n",
      "        OOB estimate of  error rate: 18.89%\n",
      "Confusion matrix:\n",
      "                        functional functional needs repair non functional\n",
      "functional                   28784                     799           2672\n",
      "functional needs repair       2204                    1476            637\n",
      "non functional                4557                     350          17912\n",
      "                        class.error\n",
      "functional                0.1076112\n",
      "functional needs repair   0.6580959\n",
      "non functional            0.2150401\n"
     ]
    }
   ],
   "source": [
    "# model_4_rf = randomForest(status_group~., data = training_data_set, importance = TRUE,ntree=250,mtry=6)\n",
    "# print(model_4_rf)"
   ]
  },
  {
   "cell_type": "code",
   "execution_count": 53,
   "metadata": {},
   "outputs": [
    {
     "name": "stdout",
     "output_type": "stream",
     "text": [
      "\n",
      "Call:\n",
      " randomForest(formula = status_group ~ ., data = training_data_set,      importance = TRUE, ntree = 250, mtry = 12) \n",
      "               Type of random forest: classification\n",
      "                     Number of trees: 250\n",
      "No. of variables tried at each split: 12\n",
      "\n",
      "        OOB estimate of  error rate: 19.44%\n",
      "Confusion matrix:\n",
      "                        functional functional needs repair non functional\n",
      "functional                   28373                     986           2896\n",
      "functional needs repair       2147                    1517            653\n",
      "non functional                4451                     412          17956\n",
      "                        class.error\n",
      "functional                0.1203534\n",
      "functional needs repair   0.6485986\n",
      "non functional            0.2131119\n"
     ]
    }
   ],
   "source": [
    "# model_5_rf = randomForest(status_group~., data = training_data_set, importance = TRUE,ntree=250,mtry=12)\n",
    "# print(model_5_rf)"
   ]
  },
  {
   "cell_type": "code",
   "execution_count": 54,
   "metadata": {},
   "outputs": [
    {
     "name": "stdout",
     "output_type": "stream",
     "text": [
      "\n",
      "Call:\n",
      " randomForest(formula = status_group ~ ., data = training_data_set,      importance = TRUE, ntree = 250, mtry = 1) \n",
      "               Type of random forest: classification\n",
      "                     Number of trees: 250\n",
      "No. of variables tried at each split: 1\n",
      "\n",
      "        OOB estimate of  error rate: 22.94%\n",
      "Confusion matrix:\n",
      "                        functional functional needs repair non functional\n",
      "functional                   30612                      87           1556\n",
      "functional needs repair       3612                     217            488\n",
      "non functional                7846                      35          14938\n",
      "                        class.error\n",
      "functional               0.05093784\n",
      "functional needs repair  0.94973361\n",
      "non functional           0.34537009\n"
     ]
    }
   ],
   "source": [
    "# model_6_rf = randomForest(status_group~., data = training_data_set, importance = TRUE,ntree=250,mtry=1)\n",
    "# print(model_6_rf)"
   ]
  },
  {
   "cell_type": "code",
   "execution_count": 55,
   "metadata": {},
   "outputs": [
    {
     "data": {
      "text/plain": [
       "\n",
       "Call:\n",
       " randomForest(formula = status_group ~ ., data = training_data_set,      importance = TRUE, ntree = 250, mtry = 6) \n",
       "               Type of random forest: classification\n",
       "                     Number of trees: 250\n",
       "No. of variables tried at each split: 6\n",
       "\n",
       "        OOB estimate of  error rate: 18.91%\n",
       "Confusion matrix:\n",
       "                        functional functional needs repair non functional\n",
       "functional                   28794                     819           2642\n",
       "functional needs repair       2214                    1478            625\n",
       "non functional                4570                     359          17890\n",
       "                        class.error\n",
       "functional                0.1073012\n",
       "functional needs repair   0.6576326\n",
       "non functional            0.2160042"
      ]
     },
     "metadata": {},
     "output_type": "display_data"
    }
   ],
   "source": [
    "model_final_rf = randomForest(status_group~., data = training_data_set, importance = TRUE,ntree=250,mtry=6)\n",
    "model_final_rf"
   ]
  },
  {
   "cell_type": "code",
   "execution_count": 56,
   "metadata": {},
   "outputs": [
    {
     "data": {
      "text/html": [
       "81.0917555524272"
      ],
      "text/latex": [
       "81.0917555524272"
      ],
      "text/markdown": [
       "81.0917555524272"
      ],
      "text/plain": [
       "[1] 81.09176"
      ]
     },
     "metadata": {},
     "output_type": "display_data"
    },
    {
     "data": {
      "text/html": [
       "<table class=\"dataframe\">\n",
       "<caption>A matrix: 3 × 4 of type dbl</caption>\n",
       "<thead>\n",
       "\t<tr><th></th><th scope=col>functional</th><th scope=col>functional needs repair</th><th scope=col>non functional</th><th scope=col>class.error</th></tr>\n",
       "</thead>\n",
       "<tbody>\n",
       "\t<tr><th scope=row>functional</th><td>28794</td><td> 819</td><td> 2642</td><td>0.1073012</td></tr>\n",
       "\t<tr><th scope=row>functional needs repair</th><td> 2214</td><td>1478</td><td>  625</td><td>0.6576326</td></tr>\n",
       "\t<tr><th scope=row>non functional</th><td> 4570</td><td> 359</td><td>17890</td><td>0.2160042</td></tr>\n",
       "</tbody>\n",
       "</table>\n"
      ],
      "text/latex": [
       "A matrix: 3 × 4 of type dbl\n",
       "\\begin{tabular}{r|llll}\n",
       "  & functional & functional needs repair & non functional & class.error\\\\\n",
       "\\hline\n",
       "\tfunctional & 28794 &  819 &  2642 & 0.1073012\\\\\n",
       "\tfunctional needs repair &  2214 & 1478 &   625 & 0.6576326\\\\\n",
       "\tnon functional &  4570 &  359 & 17890 & 0.2160042\\\\\n",
       "\\end{tabular}\n"
      ],
      "text/markdown": [
       "\n",
       "A matrix: 3 × 4 of type dbl\n",
       "\n",
       "| <!--/--> | functional | functional needs repair | non functional | class.error |\n",
       "|---|---|---|---|---|\n",
       "| functional | 28794 |  819 |  2642 | 0.1073012 |\n",
       "| functional needs repair |  2214 | 1478 |   625 | 0.6576326 |\n",
       "| non functional |  4570 |  359 | 17890 | 0.2160042 |\n",
       "\n"
      ],
      "text/plain": [
       "                        functional functional needs repair non functional\n",
       "functional              28794       819                     2642         \n",
       "functional needs repair  2214      1478                      625         \n",
       "non functional           4570       359                    17890         \n",
       "                        class.error\n",
       "functional              0.1073012  \n",
       "functional needs repair 0.6576326  \n",
       "non functional          0.2160042  "
      ]
     },
     "metadata": {},
     "output_type": "display_data"
    }
   ],
   "source": [
    "accuracy_rf <- sum(diag(model_final_rf$confusion))/sum(model_final_rf$confusion)*100\n",
    "accuracy_rf\n",
    "model_final_rf$confusion"
   ]
  },
  {
   "cell_type": "code",
   "execution_count": 57,
   "metadata": {},
   "outputs": [
    {
     "name": "stdout",
     "output_type": "stream",
     "text": [
      "[1] \"Recall Per Class - Random Forest\"\n",
      "[1] 89.26988 34.23674 78.39958\n"
     ]
    }
   ],
   "source": [
    "print(\"Recall Per Class - Random Forest\")\n",
    "recall_rf <- calc_recall(model_final_rf$confusion)\n",
    "print(recall_rf)"
   ]
  },
  {
   "cell_type": "code",
   "execution_count": 58,
   "metadata": {},
   "outputs": [
    {
     "name": "stdout",
     "output_type": "stream",
     "text": [
      "[1] \"Precision Per Class - Random Forest\"\n",
      "[1] 80.93204 55.64759 84.55830\n"
     ]
    }
   ],
   "source": [
    "print(\"Precision Per Class - Random Forest\")\n",
    "precision_rf <- calc_precision(model_final_rf$confusion)\n",
    "print(precision_rf)"
   ]
  },
  {
   "cell_type": "code",
   "execution_count": 59,
   "metadata": {},
   "outputs": [
    {
     "name": "stdout",
     "output_type": "stream",
     "text": [
      "[1] \"F1 - SCore - Random Forest\"\n",
      "[1] 84.89673 42.39208 81.36256\n"
     ]
    }
   ],
   "source": [
    "print(\"F1 - SCore - Random Forest\")\n",
    "f1_rf <- calc_f1(precision_rf,recall_rf)\n",
    "print(f1_rf)"
   ]
  },
  {
   "cell_type": "markdown",
   "metadata": {},
   "source": [
    "-----\n",
    "From the class error it is clear that the maximum error is in predicting \"functional needs repair\". This is because it is the class with the lowest distribution (imbalance in data). And that is also visible in the precision and recall for \"functional needs repair\""
   ]
  },
  {
   "cell_type": "markdown",
   "metadata": {},
   "source": [
    "---\n",
    "Increasing the value of mtry and decreasing it cause an increase in the error rate. So we choose the value 6 for which we get the optimum rate. Using mtry=6 and ntree =250 we will generate the predictions."
   ]
  },
  {
   "cell_type": "markdown",
   "metadata": {},
   "source": [
    "------\n",
    "Getting feature importance from random forest"
   ]
  },
  {
   "cell_type": "code",
   "execution_count": 60,
   "metadata": {},
   "outputs": [
    {
     "data": {
      "image/png": "[encoded data removed]",
      "text/plain": [
       "plot without title"
      ]
     },
     "metadata": {
      "image/png": {
       "height": 360,
       "width": 1200
      }
     },
     "output_type": "display_data"
    }
   ],
   "source": [
    "feature_importance_rf <- data.frame(colName = colnames(subset(training_data_set,select=-status_group)),\n",
    "                                   importance = importance(model_final_rf,1)\n",
    "                                   )\n",
    "options(repr.plot.width=20, repr.plot.height=6)\n",
    "ggplot(feature_importance_rf[,1:2], aes(y=feature_importance_rf[,2], x=feature_importance_rf[,1])) + \n",
    "   geom_bar(stat=\"identity\",fill=\"steelblue\")+coord_flip()+theme(text = element_text(size=20),\n",
    "        axis.text.x = element_text(angle=90, hjust=1),axis.title.x = element_blank(),axis.title.y = element_blank()) "
   ]
  },
  {
   "cell_type": "markdown",
   "metadata": {},
   "source": [
    "----\n",
    "Each feature that we have selected gives a good score in random forest."
   ]
  },
  {
   "cell_type": "markdown",
   "metadata": {},
   "source": [
    "### For the next models categorical variables need to be encoded"
   ]
  },
  {
   "cell_type": "markdown",
   "metadata": {},
   "source": [
    "### Encoding for string columns"
   ]
  },
  {
   "cell_type": "code",
   "execution_count": 61,
   "metadata": {},
   "outputs": [],
   "source": [
    "#creating a copy of categorical features\n",
    "training_data_set_without_encoded <- data.frame(training_data_set)"
   ]
  },
  {
   "cell_type": "markdown",
   "metadata": {},
   "source": [
    "---\n",
    "#### From the above data pre-processing it is clear that the levels of \"funder\" variable need to be reduced. So we count the number of instances per funder and match all those occuring less than 500 times to Other"
   ]
  },
  {
   "cell_type": "code",
   "execution_count": 62,
   "metadata": {},
   "outputs": [],
   "source": [
    "aggregate_funder_count<-data.frame(aggregate(.~funder,training_data_set, function(x)length(x) ))\n",
    "aggregate_funder_count <- subset(aggregate_funder_count,select=c(1,2))                                           \n",
    "colnames(aggregate_funder_count)[2]<-\"count_funder\"\n",
    "                                            \n",
    "aggregate_funder_count<- subset(aggregate_funder_count,select=c(funder,count_funder))\n",
    "training_data_set <- merge(x=training_data_set, y=aggregate_funder_count,by=\"funder\",all=TRUE)\n",
    "training_data_set[\"funder\"][training_data_set[\"count_funder\"]<500] <- \"Other\"\n",
    "training_data_set <- subset(training_data_set,select=-count_funder)                                             \n",
    "training_data_set_reduced_funder <-  data.frame(training_data_set)                              \n"
   ]
  },
  {
   "cell_type": "code",
   "execution_count": 63,
   "metadata": {},
   "outputs": [
    {
     "data": {
      "text/html": [
       "<table class=\"dataframe\">\n",
       "<caption>A data.frame: 6 × 17</caption>\n",
       "<thead>\n",
       "\t<tr><th></th><th scope=col>funder</th><th scope=col>amount_tsh</th><th scope=col>gps_height</th><th scope=col>longitude</th><th scope=col>latitude</th><th scope=col>basin</th><th scope=col>population</th><th scope=col>scheme_management</th><th scope=col>extraction_type_class</th><th scope=col>management</th><th scope=col>payment</th><th scope=col>quality_group</th><th scope=col>quantity_group</th><th scope=col>source</th><th scope=col>waterpoint_type_group</th><th scope=col>status_group</th><th scope=col>age</th></tr>\n",
       "\t<tr><th></th><th scope=col>&lt;chr&gt;</th><th scope=col>&lt;dbl&gt;</th><th scope=col>&lt;int&gt;</th><th scope=col>&lt;dbl&gt;</th><th scope=col>&lt;dbl&gt;</th><th scope=col>&lt;chr&gt;</th><th scope=col>&lt;dbl&gt;</th><th scope=col>&lt;chr&gt;</th><th scope=col>&lt;chr&gt;</th><th scope=col>&lt;chr&gt;</th><th scope=col>&lt;chr&gt;</th><th scope=col>&lt;dbl&gt;</th><th scope=col>&lt;dbl&gt;</th><th scope=col>&lt;chr&gt;</th><th scope=col>&lt;chr&gt;</th><th scope=col>&lt;fct&gt;</th><th scope=col>&lt;dbl&gt;</th></tr>\n",
       "</thead>\n",
       "<tbody>\n",
       "\t<tr><th scope=row>1</th><td>0</td><td>  0</td><td>-50</td><td>39.39950</td><td>-6.865737</td><td>Wami / Ruvu</td><td> 90</td><td>SWC             </td><td>motorpump  </td><td>other - school  </td><td>never pay     </td><td>1</td><td>1</td><td>machine dbh</td><td>communal standpipe</td><td>non functional</td><td>13</td></tr>\n",
       "\t<tr><th scope=row>2</th><td>0</td><td> 50</td><td> -7</td><td>39.19571</td><td>-6.903115</td><td>Wami / Ruvu</td><td>150</td><td>Private operator</td><td>submersible</td><td>private operator</td><td>pay per bucket</td><td>2</td><td>2</td><td>machine dbh</td><td>communal standpipe</td><td>functional    </td><td> 3</td></tr>\n",
       "\t<tr><th scope=row>3</th><td>0</td><td>100</td><td> 90</td><td>39.13444</td><td>-6.700663</td><td>Wami / Ruvu</td><td>256</td><td>VWC             </td><td>submersible</td><td>vwc             </td><td>pay per bucket</td><td>2</td><td>3</td><td>river      </td><td>communal standpipe</td><td>functional    </td><td> 3</td></tr>\n",
       "\t<tr><th scope=row>4</th><td>0</td><td> 50</td><td> 63</td><td>39.12356</td><td>-6.919401</td><td>Wami / Ruvu</td><td>120</td><td>Private operator</td><td>submersible</td><td>private operator</td><td>pay per bucket</td><td>1</td><td>2</td><td>machine dbh</td><td>communal standpipe</td><td>functional    </td><td> 3</td></tr>\n",
       "\t<tr><th scope=row>5</th><td>0</td><td> 50</td><td>-12</td><td>39.35191</td><td>-6.863978</td><td>Wami / Ruvu</td><td> 30</td><td>WUG             </td><td>submersible</td><td>wug             </td><td>pay per bucket</td><td>1</td><td>3</td><td>machine dbh</td><td>communal standpipe</td><td>functional    </td><td>13</td></tr>\n",
       "\t<tr><th scope=row>6</th><td>0</td><td>  0</td><td> 95</td><td>39.15866</td><td>-6.832383</td><td>Wami / Ruvu</td><td>120</td><td>WUG             </td><td>submersible</td><td>wug             </td><td>never pay     </td><td>2</td><td>2</td><td>machine dbh</td><td>communal standpipe</td><td>non functional</td><td> 3</td></tr>\n",
       "</tbody>\n",
       "</table>\n"
      ],
      "text/latex": [
       "A data.frame: 6 × 17\n",
       "\\begin{tabular}{r|lllllllllllllllll}\n",
       "  & funder & amount\\_tsh & gps\\_height & longitude & latitude & basin & population & scheme\\_management & extraction\\_type\\_class & management & payment & quality\\_group & quantity\\_group & source & waterpoint\\_type\\_group & status\\_group & age\\\\\n",
       "  & <chr> & <dbl> & <int> & <dbl> & <dbl> & <chr> & <dbl> & <chr> & <chr> & <chr> & <chr> & <dbl> & <dbl> & <chr> & <chr> & <fct> & <dbl>\\\\\n",
       "\\hline\n",
       "\t1 & 0 &   0 & -50 & 39.39950 & -6.865737 & Wami / Ruvu &  90 & SWC              & motorpump   & other - school   & never pay      & 1 & 1 & machine dbh & communal standpipe & non functional & 13\\\\\n",
       "\t2 & 0 &  50 &  -7 & 39.19571 & -6.903115 & Wami / Ruvu & 150 & Private operator & submersible & private operator & pay per bucket & 2 & 2 & machine dbh & communal standpipe & functional     &  3\\\\\n",
       "\t3 & 0 & 100 &  90 & 39.13444 & -6.700663 & Wami / Ruvu & 256 & VWC              & submersible & vwc              & pay per bucket & 2 & 3 & river       & communal standpipe & functional     &  3\\\\\n",
       "\t4 & 0 &  50 &  63 & 39.12356 & -6.919401 & Wami / Ruvu & 120 & Private operator & submersible & private operator & pay per bucket & 1 & 2 & machine dbh & communal standpipe & functional     &  3\\\\\n",
       "\t5 & 0 &  50 & -12 & 39.35191 & -6.863978 & Wami / Ruvu &  30 & WUG              & submersible & wug              & pay per bucket & 1 & 3 & machine dbh & communal standpipe & functional     & 13\\\\\n",
       "\t6 & 0 &   0 &  95 & 39.15866 & -6.832383 & Wami / Ruvu & 120 & WUG              & submersible & wug              & never pay      & 2 & 2 & machine dbh & communal standpipe & non functional &  3\\\\\n",
       "\\end{tabular}\n"
      ],
      "text/markdown": [
       "\n",
       "A data.frame: 6 × 17\n",
       "\n",
       "| <!--/--> | funder &lt;chr&gt; | amount_tsh &lt;dbl&gt; | gps_height &lt;int&gt; | longitude &lt;dbl&gt; | latitude &lt;dbl&gt; | basin &lt;chr&gt; | population &lt;dbl&gt; | scheme_management &lt;chr&gt; | extraction_type_class &lt;chr&gt; | management &lt;chr&gt; | payment &lt;chr&gt; | quality_group &lt;dbl&gt; | quantity_group &lt;dbl&gt; | source &lt;chr&gt; | waterpoint_type_group &lt;chr&gt; | status_group &lt;fct&gt; | age &lt;dbl&gt; |\n",
       "|---|---|---|---|---|---|---|---|---|---|---|---|---|---|---|---|---|---|\n",
       "| 1 | 0 |   0 | -50 | 39.39950 | -6.865737 | Wami / Ruvu |  90 | SWC              | motorpump   | other - school   | never pay      | 1 | 1 | machine dbh | communal standpipe | non functional | 13 |\n",
       "| 2 | 0 |  50 |  -7 | 39.19571 | -6.903115 | Wami / Ruvu | 150 | Private operator | submersible | private operator | pay per bucket | 2 | 2 | machine dbh | communal standpipe | functional     |  3 |\n",
       "| 3 | 0 | 100 |  90 | 39.13444 | -6.700663 | Wami / Ruvu | 256 | VWC              | submersible | vwc              | pay per bucket | 2 | 3 | river       | communal standpipe | functional     |  3 |\n",
       "| 4 | 0 |  50 |  63 | 39.12356 | -6.919401 | Wami / Ruvu | 120 | Private operator | submersible | private operator | pay per bucket | 1 | 2 | machine dbh | communal standpipe | functional     |  3 |\n",
       "| 5 | 0 |  50 | -12 | 39.35191 | -6.863978 | Wami / Ruvu |  30 | WUG              | submersible | wug              | pay per bucket | 1 | 3 | machine dbh | communal standpipe | functional     | 13 |\n",
       "| 6 | 0 |   0 |  95 | 39.15866 | -6.832383 | Wami / Ruvu | 120 | WUG              | submersible | wug              | never pay      | 2 | 2 | machine dbh | communal standpipe | non functional |  3 |\n",
       "\n"
      ],
      "text/plain": [
       "  funder amount_tsh gps_height longitude latitude  basin       population\n",
       "1 0        0        -50        39.39950  -6.865737 Wami / Ruvu  90       \n",
       "2 0       50         -7        39.19571  -6.903115 Wami / Ruvu 150       \n",
       "3 0      100         90        39.13444  -6.700663 Wami / Ruvu 256       \n",
       "4 0       50         63        39.12356  -6.919401 Wami / Ruvu 120       \n",
       "5 0       50        -12        39.35191  -6.863978 Wami / Ruvu  30       \n",
       "6 0        0         95        39.15866  -6.832383 Wami / Ruvu 120       \n",
       "  scheme_management extraction_type_class management       payment       \n",
       "1 SWC               motorpump             other - school   never pay     \n",
       "2 Private operator  submersible           private operator pay per bucket\n",
       "3 VWC               submersible           vwc              pay per bucket\n",
       "4 Private operator  submersible           private operator pay per bucket\n",
       "5 WUG               submersible           wug              pay per bucket\n",
       "6 WUG               submersible           wug              never pay     \n",
       "  quality_group quantity_group source      waterpoint_type_group status_group  \n",
       "1 1             1              machine dbh communal standpipe    non functional\n",
       "2 2             2              machine dbh communal standpipe    functional    \n",
       "3 2             3              river       communal standpipe    functional    \n",
       "4 1             2              machine dbh communal standpipe    functional    \n",
       "5 1             3              machine dbh communal standpipe    functional    \n",
       "6 2             2              machine dbh communal standpipe    non functional\n",
       "  age\n",
       "1 13 \n",
       "2  3 \n",
       "3  3 \n",
       "4  3 \n",
       "5 13 \n",
       "6  3 "
      ]
     },
     "metadata": {},
     "output_type": "display_data"
    }
   ],
   "source": [
    "# Function which performs Ordinal Encoding\n",
    "encode_ordinal <- function(x, order = unique(x)) {\n",
    "  x <- as.numeric(factor(x, levels = order, exclude = NULL))\n",
    "  x\n",
    "}\n",
    " \n",
    "# Performing Ordinal Encoding on two features\n",
    "training_data_set[[\"quality_group\"]] <- encode_ordinal(training_data_set[[\"quality_group\"]])\n",
    "training_data_set[[\"quantity_group\"]] <- encode_ordinal(training_data_set[[\"quantity_group\"]])\n",
    " \n",
    "# Viewing the data_set to check if the encoding took place.\n",
    "head(training_data_set)\n",
    " \n",
    "# Before performing One-Hot encoding , we have to factorize the features which are specifically strings.\n",
    "columns <- c(\"funder\",\"basin\",\"payment\",\"scheme_management\",\"extraction_type_class\",\"management\",\"source\",\"waterpoint_type_group\")\n",
    "training_data_set[columns] <- lapply(training_data_set[columns],as.factor)\n",
    " \n",
    "# Performing One hot Encoding and assigning it to a variable\n",
    "dv <- caret::dummyVars(\"~ funder + basin + payment + scheme_management + extraction_type_class + management + source + waterpoint_type_group\", data = training_data_set)\n",
    "training_data_set_encoded <- data.frame(predict(dv, newdata = training_data_set))\n",
    " \n",
    "\n",
    "# Removing the Encoded features\n",
    "training_data_set <- subset(training_data_set, select = -c(funder,basin,payment,scheme_management,extraction_type_class,source,waterpoint_type_group,source,management))\n",
    " \n",
    "# Copying the values from the encoded data frame into the existing training_data_set.\n",
    "training_data_set <- cbind(training_data_set,training_data_set_encoded)"
   ]
  },
  {
   "cell_type": "markdown",
   "metadata": {},
   "source": [
    "### Explanation\n",
    "The next model that we choose is KNN. KNN is a good model for multiclassification. It provides good performance for large datasets. It is one of the simplest classification algorithms.K-nearest neighbours is a non-parametric classification and regression technique. KNN's basic logic is to look around your neighbourhood, assume the test datapoint is identical to them, and extract the result. \n",
    "\n",
    "We search for k neighbours and make a prediction using KNN. KNN classification uses majority voting over the k closest datapoints, while KNN regression uses the mean of the k closest datapoints as the output. We choose odd numbers as k as a rule of thumb.\n",
    "\n",
    "We chose KNN because it is an easy and simple machine learning model and has few hyperparameters to tune."
   ]
  },
  {
   "cell_type": "markdown",
   "metadata": {},
   "source": [
    "## 2. KNN"
   ]
  },
  {
   "cell_type": "markdown",
   "metadata": {},
   "source": [
    "Splitting the test and train dataset"
   ]
  },
  {
   "cell_type": "code",
   "execution_count": 64,
   "metadata": {},
   "outputs": [],
   "source": [
    "df1 <- as.data.frame(sapply(training_data_set, as.numeric)) # Converting the complete dataset into numeric type.\n",
    "p <- 0.8 # Using only 80% for training and the rest 20% for validation.\n",
    "train_index <- sample.int(nrow(df1),nrow(df1)*p) # Generating random integers for 80% of the data set\n",
    "data_train <- as.data.frame(df1[train_index,]) # New data frame with the 80% random indices for training\n",
    "data_val <- as.data.frame(df1[-train_index,]) # New data frame with the rest 20% random indices for testing\n",
    "d_label <- data_train$status_group # label which is used for classification"
   ]
  },
  {
   "cell_type": "markdown",
   "metadata": {},
   "source": [
    "### Tuning of hyperparameter - count of seed k"
   ]
  },
  {
   "cell_type": "markdown",
   "metadata": {},
   "source": [
    "Applying different values for the seeds to check how the accuracy score will differ (Hyperparameter Tuning). This part of the code has been commented to reduce the execution time of the report. Please uncomment below cell to execute it. "
   ]
  },
  {
   "cell_type": "code",
   "execution_count": 65,
   "metadata": {},
   "outputs": [
    {
     "name": "stderr",
     "output_type": "stream",
     "text": [
      "Warning message in pred - obs:\n",
      "\"longer object length is not a multiple of shorter object length\"\n",
      "Warning message in pred - obs:\n",
      "\"longer object length is not a multiple of shorter object length\"\n"
     ]
    },
    {
     "name": "stdout",
     "output_type": "stream",
     "text": [
      "[1] \"The accuracy of the KNN model when number of neighbors = 3 is 76.5721020287903 % \"\n",
      "      RMSE       MAE\n",
      "1 1.344105 0.9621148\n"
     ]
    },
    {
     "name": "stderr",
     "output_type": "stream",
     "text": [
      "Warning message in pred - obs:\n",
      "\"longer object length is not a multiple of shorter object length\"\n",
      "Warning message in pred - obs:\n",
      "\"longer object length is not a multiple of shorter object length\"\n"
     ]
    },
    {
     "name": "stdout",
     "output_type": "stream",
     "text": [
      "[1] \"The accuracy of the KNN model when number of neighbors = 4 is 76.2353733479249 % \"\n",
      "      RMSE       MAE\n",
      "1 1.348123 0.9641354\n"
     ]
    },
    {
     "name": "stderr",
     "output_type": "stream",
     "text": [
      "Warning message in pred - obs:\n",
      "\"longer object length is not a multiple of shorter object length\"\n",
      "Warning message in pred - obs:\n",
      "\"longer object length is not a multiple of shorter object length\"\n"
     ]
    },
    {
     "name": "stdout",
     "output_type": "stream",
     "text": [
      "[1] \"The accuracy of the KNN model when number of neighbors = 5 is 76.7909756713528 % \"\n",
      "      RMSE       MAE\n",
      "1 1.344402 0.9587473\n"
     ]
    },
    {
     "name": "stderr",
     "output_type": "stream",
     "text": [
      "Warning message in pred - obs:\n",
      "\"longer object length is not a multiple of shorter object length\"\n",
      "Warning message in pred - obs:\n",
      "\"longer object length is not a multiple of shorter object length\"\n"
     ]
    },
    {
     "name": "stdout",
     "output_type": "stream",
     "text": [
      "[1] \"The accuracy of the KNN model when number of neighbors = 6 is 76.647865981985 % \"\n",
      "      RMSE       MAE\n",
      "1 1.347123 0.9613992\n"
     ]
    }
   ],
   "source": [
    "# for (i in 3:6) {\n",
    "#   set.seed(5) # For reproducibility purpose because we are using random indices.\n",
    "#   Ypred_knn = knn(train = data_train , test = data_val, cl = d_label, k = i) # perform the KNN prediction\n",
    "#   confusion_matrix <- table(data_val$status_group,Ypred_knn) # Confusion Matrix of the prediction\n",
    "#   accuracy <- ((sum(diag(confusion_matrix)))/sum(confusion_matrix))*100 # Printing the accuracy of the model\n",
    "#   Ypred_knn <- as.numeric(as.character(Ypred_knn)) # Converting the prediction to numeric\n",
    "#   cross_validation <-data.frame(RMSE = RMSE(Ypred_knn,data_train$status_group),MAE= MAE(Ypred_knn,data_train$status_group)) # Performing Cross Validation\n",
    "#   print((paste0('The accuracy of the KNN model when number of neighbors = ',i,' is ', accuracy ,' % '))) # Printing the result\n",
    "#   print(cross_validation) # Printing the result\n",
    "# }"
   ]
  },
  {
   "cell_type": "markdown",
   "metadata": {},
   "source": [
    "------\n",
    "#### Conclusion from hyperparameter tuning\n",
    "After looking at various values of k from the above code, we see that the maximum accuracy is obtained from k=5 and so we use that for the final implementation."
   ]
  },
  {
   "cell_type": "code",
   "execution_count": 66,
   "metadata": {},
   "outputs": [
    {
     "name": "stderr",
     "output_type": "stream",
     "text": [
      "Warning message in pred - obs:\n",
      "\"longer object length is not a multiple of shorter object length\"\n",
      "Warning message in pred - obs:\n",
      "\"longer object length is not a multiple of shorter object length\"\n"
     ]
    },
    {
     "name": "stdout",
     "output_type": "stream",
     "text": [
      "   Ypred_knn\n",
      "       1    2    3\n",
      "  1 5473   94  898\n",
      "  2  351  342  168\n",
      "  3 1160   86 3307\n",
      "[1] \"The accuracy of the KNN model when number of neighbors = 5 is 76.7909756713528 % \"\n",
      "      RMSE       MAE\n",
      "1 1.344402 0.9587473\n"
     ]
    }
   ],
   "source": [
    "set.seed(5) # For reproducibility purpose because we are using random indices.\n",
    "Ypred_knn = knn(train = data_train , test = data_val, cl = d_label, k = 5) # perform the KNN prediction\n",
    "confusion_matrix <- table(data_val$status_group,Ypred_knn) # Confusion Matrix of the prediction\n",
    "accuracy <- ((sum(diag(confusion_matrix)))/sum(confusion_matrix))*100 # Printing the accuracy of the model\n",
    "Ypred_knn <- as.numeric(as.character(Ypred_knn)) # Converting the prediction to numeric\n",
    "cross_validation <-data.frame(RMSE = RMSE(Ypred_knn,data_train$status_group),MAE= MAE(Ypred_knn,data_train$status_group)) # Performing Cross Validation\n",
    "print(confusion_matrix)\n",
    "print((paste0('The accuracy of the KNN model when number of neighbors = 5',' is ', accuracy ,' % '))) # Printing the result\n",
    "print(cross_validation) # Printing the result"
   ]
  },
  {
   "cell_type": "code",
   "execution_count": 67,
   "metadata": {},
   "outputs": [
    {
     "name": "stdout",
     "output_type": "stream",
     "text": [
      "[1] \"Recall Per Class  - KNN\"\n",
      "[1] 84.65584 39.72125 72.63343\n"
     ]
    }
   ],
   "source": [
    "print(\"Recall Per Class  - KNN\")\n",
    "recall_knn <- calc_recall(confusion_matrix)\n",
    "print(recall_knn)"
   ]
  },
  {
   "cell_type": "code",
   "execution_count": 68,
   "metadata": {},
   "outputs": [
    {
     "name": "stdout",
     "output_type": "stream",
     "text": [
      "[1] \"Precision Per Class - KNN\"\n",
      "[1] 78.36483 65.51724 75.62314\n"
     ]
    }
   ],
   "source": [
    "print(\"Precision Per Class - KNN\")\n",
    "precision_knn <- calc_precision(confusion_matrix)\n",
    "print(precision_knn)"
   ]
  },
  {
   "cell_type": "code",
   "execution_count": 69,
   "metadata": {},
   "outputs": [
    {
     "name": "stdout",
     "output_type": "stream",
     "text": [
      "[1] \"F1 Per Class - KNN\"\n",
      "[1] 81.38895 49.45770 74.09814\n"
     ]
    }
   ],
   "source": [
    "print(\"F1 Per Class - KNN\")\n",
    "f1_knn <- calc_f1(precision_knn,recall_knn)\n",
    "print(f1_knn)"
   ]
  },
  {
   "cell_type": "markdown",
   "metadata": {},
   "source": [
    "A decision tree is a type of machine learning algorithm that divides data into groups. Partitioning begins with a binary split and continues until no further splits are possible. Various branches of varying lengths are developed. A decision tree's aim is to condense the training data into the smallest possible tree.\n",
    "\n",
    "A decision tree forces all possible consequences of a decision to be considered, and it tracks each direction to a conclusion. It generates a detailed overview of the implications along each branch and defines decision nodes that need additional investigation.\n",
    "\n",
    "Decision trees are fast executors. However they do not work well with imbalanced data as observed below."
   ]
  },
  {
   "cell_type": "markdown",
   "metadata": {},
   "source": [
    "## 3. Decision Tree"
   ]
  },
  {
   "cell_type": "markdown",
   "metadata": {},
   "source": [
    "### For decision trees also, we tried executing the same dataset as for Random Forest but it takes too long to execute. So we have reduced the number of values for the funder value and mapped all funders with less than 500 observations as Other"
   ]
  },
  {
   "cell_type": "code",
   "execution_count": 70,
   "metadata": {},
   "outputs": [],
   "source": [
    "# generate a random list of index\n",
    "shuffle_index <- sample(1:nrow(training_data_set_reduced_funder))\n",
    "\n",
    "# shuffle the dataset\n",
    "training_data_set_dt <- training_data_set[shuffle_index, ]"
   ]
  },
  {
   "cell_type": "code",
   "execution_count": 71,
   "metadata": {},
   "outputs": [],
   "source": [
    "# create a function to split the data set to train and test parts\n",
    "create_train_test <- function(data, size = 0.8, train = TRUE) {\n",
    "    n_row = nrow(data)\n",
    "    total_row = size * n_row\n",
    "    train_sample <- 1: total_row\n",
    "    if (train == TRUE) {\n",
    "        return (data[train_sample, ])\n",
    "    } else {\n",
    "        return (data[-train_sample, ])\n",
    "    }\n",
    "}"
   ]
  },
  {
   "cell_type": "code",
   "execution_count": 72,
   "metadata": {},
   "outputs": [
    {
     "data": {
      "text/html": [
       "<style>\n",
       ".list-inline {list-style: none; margin:0; padding: 0}\n",
       ".list-inline>li {display: inline-block}\n",
       ".list-inline>li:not(:last-child)::after {content: \"\\00b7\"; padding: 0 .5ex}\n",
       "</style>\n",
       "<ol class=list-inline><li>47512</li><li>92</li></ol>\n"
      ],
      "text/latex": [
       "\\begin{enumerate*}\n",
       "\\item 47512\n",
       "\\item 92\n",
       "\\end{enumerate*}\n"
      ],
      "text/markdown": [
       "1. 47512\n",
       "2. 92\n",
       "\n",
       "\n"
      ],
      "text/plain": [
       "[1] 47512    92"
      ]
     },
     "metadata": {},
     "output_type": "display_data"
    },
    {
     "data": {
      "text/html": [
       "<style>\n",
       ".list-inline {list-style: none; margin:0; padding: 0}\n",
       ".list-inline>li {display: inline-block}\n",
       ".list-inline>li:not(:last-child)::after {content: \"\\00b7\"; padding: 0 .5ex}\n",
       "</style>\n",
       "<ol class=list-inline><li>11879</li><li>92</li></ol>\n"
      ],
      "text/latex": [
       "\\begin{enumerate*}\n",
       "\\item 11879\n",
       "\\item 92\n",
       "\\end{enumerate*}\n"
      ],
      "text/markdown": [
       "1. 11879\n",
       "2. 92\n",
       "\n",
       "\n"
      ],
      "text/plain": [
       "[1] 11879    92"
      ]
     },
     "metadata": {},
     "output_type": "display_data"
    }
   ],
   "source": [
    "# create train and test data sets and check their dimensions\n",
    "data_train <- create_train_test(training_data_set_dt, 0.8, train = TRUE)\n",
    "data_test <- create_train_test(training_data_set_dt, 0.8, train = FALSE)\n",
    "dim(data_train) \n",
    "dim(data_test)"
   ]
  },
  {
   "cell_type": "code",
   "execution_count": 73,
   "metadata": {},
   "outputs": [
    {
     "data": {
      "image/png": "[encoded data removed]",
      "text/plain": [
       "plot without title"
      ]
     },
     "metadata": {
      "image/png": {
       "height": 360,
       "width": 1200
      }
     },
     "output_type": "display_data"
    }
   ],
   "source": [
    "# Build the model\n",
    "fit <- rpart(status_group~., data = data_train, method = 'class')\n",
    "rpart.plot(fit, extra = 104, varlen = 0)"
   ]
  },
  {
   "cell_type": "code",
   "execution_count": 74,
   "metadata": {},
   "outputs": [],
   "source": [
    "# function to get the accuracy\n",
    "accuracy <- function(fit) {\n",
    "    predict_unseen <- predict(fit, data_test, type = 'class')\n",
    "    table_mat <- table(data_test$status_group, predict_unseen)\n",
    "    accuracy_Test <- sum(diag(table_mat)) / sum(table_mat)\n",
    "    accuracy_Test\n",
    "}"
   ]
  },
  {
   "cell_type": "code",
   "execution_count": 75,
   "metadata": {},
   "outputs": [
    {
     "name": "stdout",
     "output_type": "stream",
     "text": [
      "[1] \"Accuracy for test 70.3678760838454\"\n"
     ]
    }
   ],
   "source": [
    "# make a prediction from test set\n",
    "predict_status <-predict(fit, data_test, type = 'class')\n",
    "\n",
    "# accuracy of test data set\n",
    "print(paste('Accuracy for test', accuracy(fit)*100))\n"
   ]
  },
  {
   "cell_type": "code",
   "execution_count": 76,
   "metadata": {},
   "outputs": [
    {
     "data": {
      "text/plain": [
       "                         predict_status\n",
       "                          functional functional needs repair non functional\n",
       "  functional                    5971                       0            414\n",
       "  functional needs repair        735                       0            116\n",
       "  non functional                2255                       0           2388"
      ]
     },
     "metadata": {},
     "output_type": "display_data"
    }
   ],
   "source": [
    "confusion_matrix_decision_tree <- table(data_test$status_group,predict_status)\n",
    "confusion_matrix_decision_tree"
   ]
  },
  {
   "cell_type": "code",
   "execution_count": 77,
   "metadata": {},
   "outputs": [
    {
     "name": "stdout",
     "output_type": "stream",
     "text": [
      "[1] \"Recall Per Class - Decision Tree\"\n",
      "[1] 93.51605  0.00000 51.43226\n"
     ]
    }
   ],
   "source": [
    "print(\"Recall Per Class - Decision Tree\")\n",
    "recall_dt <- calc_recall(confusion_matrix_decision_tree)\n",
    "print(recall_dt)"
   ]
  },
  {
   "cell_type": "code",
   "execution_count": 78,
   "metadata": {},
   "outputs": [
    {
     "name": "stdout",
     "output_type": "stream",
     "text": [
      "[1] \"Precision Per Class - Decision Tree\"\n",
      "[1] 66.63319      NaN 81.83687\n"
     ]
    }
   ],
   "source": [
    "print(\"Precision Per Class - Decision Tree\")\n",
    "precision_dt <- calc_precision(confusion_matrix_decision_tree)\n",
    "print(precision_dt)"
   ]
  },
  {
   "cell_type": "code",
   "execution_count": 79,
   "metadata": {},
   "outputs": [
    {
     "name": "stdout",
     "output_type": "stream",
     "text": [
      "[1] \"F1 - SCore - Decision Tree\"\n",
      "[1] 77.81832      NaN 63.16625\n"
     ]
    }
   ],
   "source": [
    "print(\"F1 - SCore - Decision Tree\")\n",
    "f1_dt <- calc_f1(precision_dt,recall_dt)\n",
    "print(f1_dt)"
   ]
  },
  {
   "cell_type": "markdown",
   "metadata": {},
   "source": [
    "----\n",
    "Decision Tree gives no prediction as \"functional needs repair\" because of the large imbalance in the data."
   ]
  },
  {
   "cell_type": "markdown",
   "metadata": {},
   "source": [
    "### Tuning of hyperparameter"
   ]
  },
  {
   "cell_type": "markdown",
   "metadata": {},
   "source": [
    "The rpart object has the following default arguments: rpart(minsplit = 20, maxdepth = 30, cp = 0.01). Again the hyperparameter tuning part has been commented for faster execution of the report. Please uncomment the below cells to execute them."
   ]
  },
  {
   "cell_type": "code",
   "execution_count": 80,
   "metadata": {},
   "outputs": [
    {
     "name": "stdout",
     "output_type": "stream",
     "text": [
      "[1] \"Accuracy for tuning 0.688778516710161\"\n",
      "[1] \"Difference with default-argument rpart= -0.0149002441282936\"\n"
     ]
    }
   ],
   "source": [
    "# cp = 0.1\n",
    "# control <- rpart.control(minsplit = 20, maxdepth = 30, cp = 0.1)\n",
    "# tune_fit <- rpart(status_group~., data = data_train, method = 'class', control = control)\n",
    "# print(paste('Accuracy for tuning', accuracy(tune_fit)))\n",
    "# print(paste('Difference with default-argument rpart=', accuracy(tune_fit) - accuracy(fit)))"
   ]
  },
  {
   "cell_type": "code",
   "execution_count": 81,
   "metadata": {},
   "outputs": [
    {
     "name": "stdout",
     "output_type": "stream",
     "text": [
      "[1] \"Accuracy for tuning 0.728259954541628\"\n",
      "[1] \"Difference with default-argument rpart= 0.0245811937031737\"\n"
     ]
    }
   ],
   "source": [
    "# cp = 0.001\n",
    "# control <- rpart.control(minsplit = 20, maxdepth = 30, cp = 0.001)\n",
    "# tune_fit <- rpart(status_group~., data = data_train, method = 'class', control = control)\n",
    "# print(paste('Accuracy for tuning', accuracy(tune_fit)))\n",
    "# print(paste('Difference with default-argument rpart=', accuracy(tune_fit) - accuracy(fit)))"
   ]
  },
  {
   "cell_type": "code",
   "execution_count": 82,
   "metadata": {},
   "outputs": [
    {
     "name": "stdout",
     "output_type": "stream",
     "text": [
      "[1] \"Accuracy for tuning 0.728259954541628\"\n",
      "[1] \"Difference with default-argument rpart= 0.0245811937031737\"\n"
     ]
    }
   ],
   "source": [
    "# minsplit = 30\n",
    "# control <- rpart.control(minsplit = 30, maxdepth = 30, cp = 0.001)\n",
    "# tune_fit <- rpart(status_group~., data = data_train, method = 'class', control = control)\n",
    "# print(paste('Accuracy for tuning', accuracy(tune_fit)))\n",
    "# print(paste('Difference with default-argument rpart=', accuracy(tune_fit) - accuracy(fit)))"
   ]
  },
  {
   "cell_type": "code",
   "execution_count": 83,
   "metadata": {},
   "outputs": [
    {
     "name": "stdout",
     "output_type": "stream",
     "text": [
      "[1] \"Accuracy for tuning 0.728512501052277\"\n",
      "[1] \"Difference with default-argument rpart= 0.0248337402138228\"\n"
     ]
    }
   ],
   "source": [
    "# minsplit = 60\n",
    "# control <- rpart.control(minsplit = 60, maxdepth = 30, cp = 0.001)\n",
    "# tune_fit <- rpart(status_group~., data = data_train, method = 'class', control = control)\n",
    "# print(paste('Accuracy for tuning', accuracy(tune_fit)))\n",
    "# print(paste('Difference with default-argument rpart=', accuracy(tune_fit) - accuracy(fit)))"
   ]
  },
  {
   "cell_type": "code",
   "execution_count": 84,
   "metadata": {},
   "outputs": [
    {
     "name": "stdout",
     "output_type": "stream",
     "text": [
      "[1] \"Accuracy for tuning 0.728259954541628\"\n",
      "[1] \"Difference with default-argument rpart= 0.0245811937031737\"\n"
     ]
    }
   ],
   "source": [
    "# minsplit = 5\n",
    "# control <- rpart.control(minsplit = 5, maxdepth = 30, cp = 0.001)\n",
    "# tune_fit <- rpart(status_group~., data = data_train, method = 'class', control = control)\n",
    "# print(paste('Accuracy for tuning', accuracy(tune_fit)))\n",
    "# print(paste('Difference with default-argument rpart=', accuracy(tune_fit) - accuracy(fit)))"
   ]
  },
  {
   "cell_type": "code",
   "execution_count": 85,
   "metadata": {},
   "outputs": [
    {
     "name": "stdout",
     "output_type": "stream",
     "text": [
      "[1] \"Accuracy for tuning 0.728259954541628\"\n",
      "[1] \"Difference with default-argument rpart= 0.0245811937031737\"\n"
     ]
    }
   ],
   "source": [
    "# maxdepth = 20\n",
    "# control <- rpart.control(minsplit = 5, maxdepth = 20, cp = 0.001)\n",
    "# tune_fit <- rpart(status_group~., data = data_train, method = 'class', control = control)\n",
    "# print(paste('Accuracy for tuning', accuracy(tune_fit)))\n",
    "# print(paste('Difference with default-argument rpart=', accuracy(tune_fit) - accuracy(fit)))"
   ]
  },
  {
   "cell_type": "code",
   "execution_count": 86,
   "metadata": {},
   "outputs": [
    {
     "name": "stdout",
     "output_type": "stream",
     "text": [
      "[1] \"Accuracy for tuning 0.722956477817998\"\n",
      "[1] \"Difference with default-argument rpart= 0.0192777169795437\"\n"
     ]
    }
   ],
   "source": [
    "# maxdepth = 10\n",
    "# control <- rpart.control(minsplit = 5, maxdepth = 10, cp = 0.001)\n",
    "# tune_fit <- rpart(status_group~., data = data_train, method = 'class', control = control)\n",
    "# print(paste('Accuracy for tuning', accuracy(tune_fit)))\n",
    "# print(paste('Difference with default-argument rpart=', accuracy(tune_fit) - accuracy(fit)))"
   ]
  },
  {
   "cell_type": "code",
   "execution_count": 87,
   "metadata": {},
   "outputs": [
    {
     "name": "stdout",
     "output_type": "stream",
     "text": [
      "[1] \"Accuracy for tuning 0.77523360552235\"\n",
      "[1] \"Difference with default-argument rpart= 0.0715548446838959\"\n"
     ]
    }
   ],
   "source": [
    "minsplit = 5\n",
    "maxdepth = 20\n",
    "cp = 0.0001\n",
    "control <- rpart.control(minsplit = 5, maxdepth = 20, cp = 0.0001)\n",
    "tune_fit <- rpart(status_group~., data = data_train, method = 'class', control = control)\n",
    "print(paste('Accuracy for tuning', accuracy(tune_fit)))\n",
    "print(paste('Difference with default-argument rpart=', accuracy(tune_fit) - accuracy(fit)))"
   ]
  },
  {
   "cell_type": "code",
   "execution_count": 88,
   "metadata": {},
   "outputs": [
    {
     "name": "stdout",
     "output_type": "stream",
     "text": [
      "[1] \"Accuracy for tuning 76.4963380755956\"\n",
      "[1] \"Difference with default-argument rpart= 0.0612846199175016\"\n"
     ]
    }
   ],
   "source": [
    "# minsplit = 5\n",
    "# maxdepth = 20\n",
    "# cp = 0.00001\n",
    "# control <- rpart.control(minsplit = 5, maxdepth = 20, cp = 0.00001)\n",
    "# tune_fit <- rpart(status_group~., data = data_train, method = 'class', control = control)\n",
    "# print(paste('Accuracy for tuning', accuracy(tune_fit)*100))\n",
    "# print(paste('Difference with default-argument rpart=', accuracy(tune_fit) - accuracy(fit)))"
   ]
  },
  {
   "cell_type": "markdown",
   "metadata": {},
   "source": [
    "So, the best accuracy (77.52%) is obtained by applying minsplit, maxdepth, and cp arguments equals 5, 20, and 0.0001, respectively."
   ]
  },
  {
   "cell_type": "markdown",
   "metadata": {},
   "source": [
    "### We also tried using the Lasso Model but got pretty low accuracy."
   ]
  },
  {
   "cell_type": "markdown",
   "metadata": {},
   "source": [
    "### 4. Lasso Model"
   ]
  },
  {
   "cell_type": "markdown",
   "metadata": {},
   "source": [
    "The code has been commented for Lasso Model because it isn't one of our top 3 selections. We executed it but the accuracy was not as good as the other models so we removed it."
   ]
  },
  {
   "cell_type": "code",
   "execution_count": 89,
   "metadata": {},
   "outputs": [
    {
     "name": "stderr",
     "output_type": "stream",
     "text": [
      "Installing package into 'C:/Users/HP/Documents/R/win-library/4.0'\n",
      "(as 'lib' is unspecified)\n",
      "\n"
     ]
    },
    {
     "name": "stdout",
     "output_type": "stream",
     "text": [
      "package 'glmnet' successfully unpacked and MD5 sums checked\n",
      "\n",
      "The downloaded binary packages are in\n",
      "\tC:\\Users\\HP\\AppData\\Local\\Temp\\RtmpaOmOn0\\downloaded_packages\n"
     ]
    },
    {
     "name": "stderr",
     "output_type": "stream",
     "text": [
      "Loading required package: Matrix\n",
      "\n",
      "\n",
      "Attaching package: 'Matrix'\n",
      "\n",
      "\n",
      "The following objects are masked from 'package:tidyr':\n",
      "\n",
      "    expand, pack, unpack\n",
      "\n",
      "\n",
      "Loaded glmnet 4.1-1\n",
      "\n"
     ]
    }
   ],
   "source": [
    "# install.packages(\"glmnet\")\n",
    "# library(glmnet)"
   ]
  },
  {
   "cell_type": "code",
   "execution_count": 91,
   "metadata": {},
   "outputs": [],
   "source": [
    "# # LASSO Model\n",
    "# X <- as.matrix(sapply(subset(training_data_set,select=-status_group),as.numeric)) # Converting the data set as matrix to pass in the LASSO model.\n",
    "# Y <- as.numeric(training_data_set$status_group)  # Converting the labels as numeric.\n",
    "# lasso_fit <- cv.glmnet(X,Y,family=\"multinomial\",nfolds=3) # Fitting the lasso model with our dataset.\n"
   ]
  },
  {
   "cell_type": "code",
   "execution_count": 92,
   "metadata": {},
   "outputs": [],
   "source": [
    "# # print(colnames(test_data_lasso))\n",
    "# lasso_predict <- predict(lasso_fit, newx = as.matrix(sapply(subset(training_data_set,select=-status_group),as.numeric)),type=\"class\") # Prediction process of the lasso model takes place in this step.\n"
   ]
  },
  {
   "cell_type": "code",
   "execution_count": 93,
   "metadata": {},
   "outputs": [
    {
     "name": "stdout",
     "output_type": "stream",
     "text": [
      "  lasso_predict     1     2     3\n",
      "                                 \n",
      "1               28063    21  4171\n",
      "2                3365     7   945\n",
      "3                9903    23 12893\n",
      "[1] 68.97173\n"
     ]
    }
   ],
   "source": [
    "# confusion_matrix1 <- ftable(as.numeric(training_data_set$status_group),lasso_predict) \n",
    "# print(confusion_matrix1)\n",
    "# accuracy1 <- 100* (sum(diag(confusion_matrix1)) / length(training_data_set$status_group)) # Printing the Accuracy of the Model\n",
    "# print(accuracy1)\n"
   ]
  },
  {
   "cell_type": "code",
   "execution_count": 94,
   "metadata": {},
   "outputs": [
    {
     "data": {
      "image/png": "[encoded data removed]",
      "text/plain": [
       "plot without title"
      ]
     },
     "metadata": {
      "image/png": {
       "height": 360,
       "width": 1200
      }
     },
     "output_type": "display_data"
    }
   ],
   "source": [
    "# plot(lasso_fit)"
   ]
  },
  {
   "cell_type": "markdown",
   "metadata": {},
   "source": [
    "## Task 3 - Implementing a new model"
   ]
  },
  {
   "cell_type": "markdown",
   "metadata": {},
   "source": [
    "### Explanation\n",
    "Since from our top 3 models above Random Forest provided a good accuracy we decided to choose an extension of the same to see if we get a better accuracy. Different algorithms such as Adaptive Boosting and Categorical Boosting have been tried. In the end we decided to go with CatBoost because it gave a better performance and accuracy as compared to Adaptive Boosting. Also CatBoost can easily deal with categorical variables and does not require encoding."
   ]
  },
  {
   "cell_type": "markdown",
   "metadata": {},
   "source": [
    "### CatBoost Algorithm"
   ]
  },
  {
   "cell_type": "code",
   "execution_count": 95,
   "metadata": {},
   "outputs": [
    {
     "name": "stderr",
     "output_type": "stream",
     "text": [
      "Installing package into 'C:/Users/HP/Documents/R/win-library/4.0'\n",
      "(as 'lib' is unspecified)\n",
      "\n"
     ]
    },
    {
     "name": "stdout",
     "output_type": "stream",
     "text": [
      "package 'devtools' successfully unpacked and MD5 sums checked\n",
      "\n",
      "The downloaded binary packages are in\n",
      "\tC:\\Users\\HP\\AppData\\Local\\Temp\\RtmpaOmOn0\\downloaded_packages\n"
     ]
    },
    {
     "name": "stderr",
     "output_type": "stream",
     "text": [
      "WARNING: Rtools is required to build R packages, but is not currently installed.\n",
      "\n",
      "Please download and install Rtools 4.0 from https://cran.r-project.org/bin/windows/Rtools/.\n",
      "\n",
      "Downloading package from url: https://github.com/catboost/catboost/releases/download/v0.25.1/catboost-R-Windows-0.25.1.tgz\n",
      "\n"
     ]
    },
    {
     "name": "stdout",
     "output_type": "stream",
     "text": [
      "\n"
     ]
    },
    {
     "name": "stderr",
     "output_type": "stream",
     "text": [
      "WARNING: Rtools is required to build R packages, but is not currently installed.\n",
      "\n",
      "Please download and install Rtools 4.0 from https://cran.r-project.org/bin/windows/Rtools/.\n",
      "\n"
     ]
    },
    {
     "name": "stdout",
     "output_type": "stream",
     "text": [
      "\u001b[32mv\u001b[39m  \u001b[90mchecking for file 'C:\\Users\\HP\\AppData\\Local\\Temp\\RtmpaOmOn0\\remotes4c3041753334\\catboost/DESCRIPTION'\u001b[39m\u001b[36m\u001b[36m (654ms)\u001b[36m\u001b[39m\n",
      "\u001b[90m-\u001b[39m\u001b[90m  \u001b[39m\u001b[90mpreparing 'catboost':\u001b[39m\u001b[36m\u001b[36m (726ms)\u001b[36m\u001b[39m\n",
      "\u001b[32mv\u001b[39m  \u001b[90mchecking DESCRIPTION meta-information\u001b[39m\u001b[36m\u001b[39m\n",
      "\u001b[90m-\u001b[39m\u001b[90m  \u001b[39m\u001b[90mchecking for LF line-endings in source and make files and shell scripts\u001b[39m\u001b[36m\u001b[39m\n",
      "\u001b[90m-\u001b[39m\u001b[90m  \u001b[39m\u001b[90mchecking for empty or unneeded directories\u001b[39m\u001b[36m\u001b[39m\n",
      "\u001b[90m-\u001b[39m\u001b[90m  \u001b[39m\u001b[90mbuilding 'catboost_0.25.1.tar.gz'\u001b[39m\u001b[36m\u001b[39m\n",
      "   \n",
      "\r"
     ]
    },
    {
     "name": "stderr",
     "output_type": "stream",
     "text": [
      "Installing package into 'C:/Users/HP/Documents/R/win-library/4.0'\n",
      "(as 'lib' is unspecified)\n",
      "\n"
     ]
    }
   ],
   "source": [
    "install.packages('devtools')\n",
    "devtools::install_url('https://github.com/catboost/catboost/releases/download/v0.25.1/catboost-R-Windows-0.25.1.tgz', INSTALL_opts = c(\"--no-multiarch\"))"
   ]
  },
  {
   "cell_type": "code",
   "execution_count": 96,
   "metadata": {},
   "outputs": [],
   "source": [
    "library(catboost)"
   ]
  },
  {
   "cell_type": "code",
   "execution_count": 97,
   "metadata": {},
   "outputs": [],
   "source": [
    "indexes=createDataPartition(training_data_set_without_encoded$status_group, p=.70, list = F)\n",
    "train_data_catboost <- training_data_set_without_encoded[indexes,]\n",
    "test_data_catboost <- training_data_set_without_encoded[-indexes,]\n",
    "train_data_label <- as.integer(train_data_catboost$status_group)-1\n",
    "test_data_label <- as.integer(test_data_catboost$status_group)-1\n",
    "\n",
    "\n",
    "col_factor <- c(\"funder\",\"basin\",\"payment\",\"scheme_management\",\"extraction_type_class\",\"management\",\"source\",\"waterpoint_type_group\",\"quality_group\",\"quantity_group\")\n",
    "train_data_catboost[,col_factor] <- lapply(train_data_catboost[,col_factor],as.factor)\n",
    "test_data_catboost[,col_factor] <- lapply(test_data_catboost[,col_factor],as.factor)\n"
   ]
  },
  {
   "cell_type": "code",
   "execution_count": 98,
   "metadata": {},
   "outputs": [],
   "source": [
    "train_pool <- catboost.load_pool(data=subset(train_data_catboost,select=-status_group), \n",
    "                                 label = train_data_label,cat_features=c(2,6,8,9,10,11,12,13,14,15),)\n",
    "test_pool <- catboost.load_pool(data=subset(test_data_catboost,select=-status_group), \n",
    "                                label = test_data_label,cat_features=c(2,6,8,9,10,11,12,13,14,15),)"
   ]
  },
  {
   "cell_type": "markdown",
   "metadata": {},
   "source": [
    "### Since we have Nvidia in our systems we decided to execute it using GPU for faster execution. Please change GPU to CPU if Nvidia 418.xx or greater is not present."
   ]
  },
  {
   "cell_type": "code",
   "execution_count": 99,
   "metadata": {},
   "outputs": [
    {
     "name": "stdout",
     "output_type": "stream",
     "text": [
      "[1] \"2021-05-19 00:11:58 IST\"\n",
      "Learning rate set to 0.153226\n",
      "0:\tlearn: 0.5995189\ttest: 0.6056354\tbest: 0.6056354 (0)\ttotal: 69.7ms\tremaining: 1m 9s\n",
      "1:\tlearn: 0.6617438\ttest: 0.6639537\tbest: 0.6639537 (1)\ttotal: 122ms\tremaining: 1m\n",
      "2:\tlearn: 0.7044137\ttest: 0.7103166\tbest: 0.7103166 (2)\ttotal: 173ms\tremaining: 57.4s\n",
      "3:\tlearn: 0.7062898\ttest: 0.7098675\tbest: 0.7103166 (2)\ttotal: 226ms\tremaining: 56.3s\n",
      "4:\tlearn: 0.7096813\ttest: 0.7148069\tbest: 0.7148069 (4)\ttotal: 274ms\tremaining: 54.5s\n",
      "5:\tlearn: 0.7131690\ttest: 0.7174450\tbest: 0.7174450 (5)\ttotal: 315ms\tremaining: 52.3s\n",
      "6:\tlearn: 0.7155021\ttest: 0.7200269\tbest: 0.7200269 (6)\ttotal: 357ms\tremaining: 50.6s\n",
      "7:\tlearn: 0.7242574\ttest: 0.7291199\tbest: 0.7291199 (7)\ttotal: 396ms\tremaining: 49.1s\n",
      "8:\tlearn: 0.7237041\ttest: 0.7286147\tbest: 0.7291199 (7)\ttotal: 439ms\tremaining: 48.3s\n",
      "9:\tlearn: 0.7252916\ttest: 0.7304109\tbest: 0.7304109 (9)\ttotal: 481ms\tremaining: 47.6s\n",
      "10:\tlearn: 0.7266146\ttest: 0.7331051\tbest: 0.7331051 (10)\ttotal: 514ms\tremaining: 46.2s\n",
      "11:\tlearn: 0.7305592\ttest: 0.7365851\tbest: 0.7365851 (11)\ttotal: 544ms\tremaining: 44.8s\n",
      "12:\tlearn: 0.7294528\ttest: 0.7355186\tbest: 0.7365851 (11)\ttotal: 576ms\tremaining: 43.7s\n",
      "13:\tlearn: 0.7333013\ttest: 0.7372025\tbest: 0.7372025 (13)\ttotal: 606ms\tremaining: 42.7s\n",
      "14:\tlearn: 0.7340469\ttest: 0.7387180\tbest: 0.7387180 (14)\ttotal: 636ms\tremaining: 41.8s\n",
      "15:\tlearn: 0.7330607\ttest: 0.7375393\tbest: 0.7387180 (14)\ttotal: 666ms\tremaining: 40.9s\n",
      "16:\tlearn: 0.7345761\ttest: 0.7387180\tbest: 0.7387180 (14)\ttotal: 700ms\tremaining: 40.5s\n",
      "17:\tlearn: 0.7361636\ttest: 0.7405703\tbest: 0.7405703 (17)\ttotal: 751ms\tremaining: 41s\n",
      "18:\tlearn: 0.7378232\ttest: 0.7423103\tbest: 0.7423103 (18)\ttotal: 799ms\tremaining: 41.3s\n",
      "19:\tlearn: 0.7385448\ttest: 0.7420296\tbest: 0.7423103 (18)\ttotal: 838ms\tremaining: 41.1s\n",
      "20:\tlearn: 0.7400842\ttest: 0.7437135\tbest: 0.7437135 (20)\ttotal: 883ms\tremaining: 41.2s\n",
      "21:\tlearn: 0.7402766\ttest: 0.7436574\tbest: 0.7437135 (20)\ttotal: 923ms\tremaining: 41.1s\n",
      "22:\tlearn: 0.7411185\ttest: 0.7446677\tbest: 0.7446677 (22)\ttotal: 960ms\tremaining: 40.8s\n",
      "23:\tlearn: 0.7406133\ttest: 0.7446677\tbest: 0.7446677 (22)\ttotal: 1000ms\tremaining: 40.6s\n",
      "24:\tlearn: 0.7419603\ttest: 0.7452290\tbest: 0.7452290 (24)\ttotal: 1.04s\tremaining: 40.4s\n",
      "25:\tlearn: 0.7414793\ttest: 0.7457903\tbest: 0.7457903 (25)\ttotal: 1.07s\tremaining: 40s\n",
      "26:\tlearn: 0.7428503\ttest: 0.7466884\tbest: 0.7466884 (26)\ttotal: 1.1s\tremaining: 39.5s\n",
      "27:\tlearn: 0.7427541\ttest: 0.7469129\tbest: 0.7469129 (27)\ttotal: 1.13s\tremaining: 39.1s\n",
      "28:\tlearn: 0.7438845\ttest: 0.7478110\tbest: 0.7478110 (28)\ttotal: 1.16s\tremaining: 38.7s\n",
      "29:\tlearn: 0.7442934\ttest: 0.7482039\tbest: 0.7482039 (29)\ttotal: 1.2s\tremaining: 38.7s\n",
      "30:\tlearn: 0.7441972\ttest: 0.7476426\tbest: 0.7482039 (29)\ttotal: 1.24s\tremaining: 38.7s\n",
      "31:\tlearn: 0.7449669\ttest: 0.7482039\tbest: 0.7482039 (29)\ttotal: 1.28s\tremaining: 38.7s\n",
      "32:\tlearn: 0.7454961\ttest: 0.7479793\tbest: 0.7482039 (29)\ttotal: 1.32s\tremaining: 38.7s\n",
      "33:\tlearn: 0.7460493\ttest: 0.7482600\tbest: 0.7482600 (33)\ttotal: 1.36s\tremaining: 38.6s\n",
      "34:\tlearn: 0.7466747\ttest: 0.7485406\tbest: 0.7485406 (34)\ttotal: 1.4s\tremaining: 38.6s\n",
      "35:\tlearn: 0.7473722\ttest: 0.7482039\tbest: 0.7485406 (34)\ttotal: 1.44s\tremaining: 38.6s\n",
      "36:\tlearn: 0.7480938\ttest: 0.7481477\tbest: 0.7485406 (34)\ttotal: 1.48s\tremaining: 38.6s\n",
      "37:\tlearn: 0.7489838\ttest: 0.7495510\tbest: 0.7495510 (37)\ttotal: 1.52s\tremaining: 38.6s\n",
      "38:\tlearn: 0.7496572\ttest: 0.7498877\tbest: 0.7498877 (38)\ttotal: 1.56s\tremaining: 38.5s\n",
      "39:\tlearn: 0.7499459\ttest: 0.7502806\tbest: 0.7502806 (39)\ttotal: 1.6s\tremaining: 38.5s\n",
      "40:\tlearn: 0.7501143\ttest: 0.7507858\tbest: 0.7507858 (40)\ttotal: 1.65s\tremaining: 38.5s\n",
      "41:\tlearn: 0.7501383\ttest: 0.7506174\tbest: 0.7507858 (40)\ttotal: 1.69s\tremaining: 38.5s\n",
      "42:\tlearn: 0.7510283\ttest: 0.7515716\tbest: 0.7515716 (42)\ttotal: 1.73s\tremaining: 38.4s\n",
      "43:\tlearn: 0.7524714\ttest: 0.7532555\tbest: 0.7532555 (43)\ttotal: 1.77s\tremaining: 38.4s\n",
      "44:\tlearn: 0.7528563\ttest: 0.7535923\tbest: 0.7535923 (44)\ttotal: 1.81s\tremaining: 38.4s\n",
      "45:\tlearn: 0.7533614\ttest: 0.7539852\tbest: 0.7539852 (45)\ttotal: 1.85s\tremaining: 38.4s\n",
      "46:\tlearn: 0.7541311\ttest: 0.7544903\tbest: 0.7544903 (46)\ttotal: 1.89s\tremaining: 38.3s\n",
      "47:\tlearn: 0.7541792\ttest: 0.7543781\tbest: 0.7544903 (46)\ttotal: 1.93s\tremaining: 38.3s\n",
      "48:\tlearn: 0.7544438\ttest: 0.7542097\tbest: 0.7544903 (46)\ttotal: 1.97s\tremaining: 38.2s\n",
      "49:\tlearn: 0.7551173\ttest: 0.7546587\tbest: 0.7546587 (49)\ttotal: 2.01s\tremaining: 38.1s\n",
      "50:\tlearn: 0.7559351\ttest: 0.7549394\tbest: 0.7549394 (50)\ttotal: 2.04s\tremaining: 37.9s\n",
      "51:\tlearn: 0.7562237\ttest: 0.7555007\tbest: 0.7555007 (51)\ttotal: 2.06s\tremaining: 37.6s\n",
      "52:\tlearn: 0.7570896\ttest: 0.7560620\tbest: 0.7560620 (52)\ttotal: 2.1s\tremaining: 37.4s\n",
      "53:\tlearn: 0.7577390\ttest: 0.7562304\tbest: 0.7562304 (53)\ttotal: 2.13s\tremaining: 37.2s\n",
      "54:\tlearn: 0.7577390\ttest: 0.7565671\tbest: 0.7565671 (54)\ttotal: 2.16s\tremaining: 37.1s\n",
      "55:\tlearn: 0.7576428\ttest: 0.7563987\tbest: 0.7565671 (54)\ttotal: 2.19s\tremaining: 36.9s\n",
      "56:\tlearn: 0.7581479\ttest: 0.7561181\tbest: 0.7565671 (54)\ttotal: 2.22s\tremaining: 36.7s\n",
      "57:\tlearn: 0.7586290\ttest: 0.7563987\tbest: 0.7565671 (54)\ttotal: 2.25s\tremaining: 36.5s\n",
      "58:\tlearn: 0.7588695\ttest: 0.7570162\tbest: 0.7570162 (58)\ttotal: 2.28s\tremaining: 36.3s\n",
      "59:\tlearn: 0.7589176\ttest: 0.7567355\tbest: 0.7570162 (58)\ttotal: 2.31s\tremaining: 36.1s\n",
      "60:\tlearn: 0.7595430\ttest: 0.7565110\tbest: 0.7570162 (58)\ttotal: 2.33s\tremaining: 35.9s\n",
      "61:\tlearn: 0.7595911\ttest: 0.7565671\tbest: 0.7570162 (58)\ttotal: 2.36s\tremaining: 35.8s\n",
      "62:\tlearn: 0.7594227\ttest: 0.7575775\tbest: 0.7575775 (62)\ttotal: 2.39s\tremaining: 35.6s\n",
      "63:\tlearn: 0.7597595\ttest: 0.7578581\tbest: 0.7578581 (63)\ttotal: 2.43s\tremaining: 35.5s\n",
      "64:\tlearn: 0.7603127\ttest: 0.7580265\tbest: 0.7580265 (64)\ttotal: 2.46s\tremaining: 35.4s\n",
      "65:\tlearn: 0.7602646\ttest: 0.7579142\tbest: 0.7580265 (64)\ttotal: 2.49s\tremaining: 35.3s\n",
      "66:\tlearn: 0.7602405\ttest: 0.7574091\tbest: 0.7580265 (64)\ttotal: 2.52s\tremaining: 35.1s\n",
      "67:\tlearn: 0.7604089\ttest: 0.7584194\tbest: 0.7584194 (67)\ttotal: 2.55s\tremaining: 35s\n",
      "68:\tlearn: 0.7612508\ttest: 0.7586439\tbest: 0.7586439 (68)\ttotal: 2.58s\tremaining: 34.8s\n",
      "69:\tlearn: 0.7617078\ttest: 0.7586439\tbest: 0.7586439 (68)\ttotal: 2.61s\tremaining: 34.7s\n",
      "70:\tlearn: 0.7618040\ttest: 0.7586439\tbest: 0.7586439 (68)\ttotal: 2.64s\tremaining: 34.6s\n",
      "71:\tlearn: 0.7618280\ttest: 0.7585317\tbest: 0.7586439 (68)\ttotal: 2.67s\tremaining: 34.4s\n",
      "72:\tlearn: 0.7624293\ttest: 0.7585317\tbest: 0.7586439 (68)\ttotal: 2.7s\tremaining: 34.3s\n",
      "73:\tlearn: 0.7624534\ttest: 0.7589807\tbest: 0.7589807 (73)\ttotal: 2.73s\tremaining: 34.2s\n",
      "74:\tlearn: 0.7625256\ttest: 0.7587000\tbest: 0.7589807 (73)\ttotal: 2.76s\tremaining: 34s\n",
      "75:\tlearn: 0.7630547\ttest: 0.7598226\tbest: 0.7598226 (75)\ttotal: 2.78s\tremaining: 33.8s\n",
      "76:\tlearn: 0.7629585\ttest: 0.7593175\tbest: 0.7598226 (75)\ttotal: 2.82s\tremaining: 33.8s\n",
      "77:\tlearn: 0.7631509\ttest: 0.7594297\tbest: 0.7598226 (75)\ttotal: 2.85s\tremaining: 33.7s\n",
      "78:\tlearn: 0.7633674\ttest: 0.7595981\tbest: 0.7598226 (75)\ttotal: 2.88s\tremaining: 33.6s\n",
      "79:\tlearn: 0.7637041\ttest: 0.7604401\tbest: 0.7604401 (79)\ttotal: 2.91s\tremaining: 33.5s\n",
      "80:\tlearn: 0.7637282\ttest: 0.7610013\tbest: 0.7610013 (80)\ttotal: 2.94s\tremaining: 33.3s\n",
      "81:\tlearn: 0.7639687\ttest: 0.7605523\tbest: 0.7610013 (80)\ttotal: 2.97s\tremaining: 33.2s\n",
      "82:\tlearn: 0.7641852\ttest: 0.7606646\tbest: 0.7610013 (80)\ttotal: 3s\tremaining: 33.1s\n",
      "83:\tlearn: 0.7649549\ttest: 0.7610013\tbest: 0.7610013 (80)\ttotal: 3.03s\tremaining: 33s\n",
      "84:\tlearn: 0.7651954\ttest: 0.7612259\tbest: 0.7612259 (84)\ttotal: 3.06s\tremaining: 32.9s\n",
      "85:\tlearn: 0.7658930\ttest: 0.7616749\tbest: 0.7616749 (85)\ttotal: 3.09s\tremaining: 32.8s\n",
      "86:\tlearn: 0.7658689\ttest: 0.7620117\tbest: 0.7620117 (86)\ttotal: 3.14s\tremaining: 32.9s\n",
      "87:\tlearn: 0.7665183\ttest: 0.7623485\tbest: 0.7623485 (87)\ttotal: 3.19s\tremaining: 33s\n",
      "88:\tlearn: 0.7673361\ttest: 0.7631904\tbest: 0.7631904 (88)\ttotal: 3.23s\tremaining: 33.1s\n",
      "89:\tlearn: 0.7675526\ttest: 0.7629659\tbest: 0.7631904 (88)\ttotal: 3.27s\tremaining: 33.1s\n",
      "90:\tlearn: 0.7686109\ttest: 0.7636956\tbest: 0.7636956 (90)\ttotal: 3.31s\tremaining: 33.1s\n",
      "91:\tlearn: 0.7690198\ttest: 0.7633026\tbest: 0.7636956 (90)\ttotal: 3.34s\tremaining: 32.9s\n",
      "92:\tlearn: 0.7690439\ttest: 0.7638639\tbest: 0.7638639 (92)\ttotal: 3.36s\tremaining: 32.8s\n",
      "93:\tlearn: 0.7697895\ttest: 0.7640323\tbest: 0.7640323 (93)\ttotal: 3.39s\tremaining: 32.7s\n",
      "94:\tlearn: 0.7698376\ttest: 0.7646498\tbest: 0.7646498 (94)\ttotal: 3.43s\tremaining: 32.7s\n",
      "95:\tlearn: 0.7701503\ttest: 0.7642568\tbest: 0.7646498 (94)\ttotal: 3.46s\tremaining: 32.6s\n",
      "96:\tlearn: 0.7701263\ttest: 0.7647620\tbest: 0.7647620 (96)\ttotal: 3.49s\tremaining: 32.5s\n",
      "97:\tlearn: 0.7704871\ttest: 0.7653794\tbest: 0.7653794 (97)\ttotal: 3.52s\tremaining: 32.4s\n",
      "98:\tlearn: 0.7707517\ttest: 0.7657723\tbest: 0.7657723 (98)\ttotal: 3.55s\tremaining: 32.3s\n",
      "99:\tlearn: 0.7709922\ttest: 0.7657162\tbest: 0.7657723 (98)\ttotal: 3.58s\tremaining: 32.2s\n",
      "100:\tlearn: 0.7719543\ttest: 0.7667265\tbest: 0.7667265 (100)\ttotal: 3.61s\tremaining: 32.1s\n",
      "101:\tlearn: 0.7719062\ttest: 0.7670633\tbest: 0.7670633 (101)\ttotal: 3.64s\tremaining: 32s\n",
      "102:\tlearn: 0.7720505\ttest: 0.7675685\tbest: 0.7675685 (102)\ttotal: 3.67s\tremaining: 31.9s\n",
      "103:\tlearn: 0.7724113\ttest: 0.7671194\tbest: 0.7675685 (102)\ttotal: 3.7s\tremaining: 31.9s\n",
      "104:\tlearn: 0.7725797\ttest: 0.7675123\tbest: 0.7675685 (102)\ttotal: 3.73s\tremaining: 31.8s\n",
      "105:\tlearn: 0.7729405\ttest: 0.7680175\tbest: 0.7680175 (105)\ttotal: 3.76s\tremaining: 31.7s\n",
      "106:\tlearn: 0.7731810\ttest: 0.7675685\tbest: 0.7680175 (105)\ttotal: 3.79s\tremaining: 31.6s\n",
      "107:\tlearn: 0.7734937\ttest: 0.7682420\tbest: 0.7682420 (107)\ttotal: 3.82s\tremaining: 31.5s\n",
      "108:\tlearn: 0.7736621\ttest: 0.7681298\tbest: 0.7682420 (107)\ttotal: 3.85s\tremaining: 31.4s\n",
      "109:\tlearn: 0.7738545\ttest: 0.7676246\tbest: 0.7682420 (107)\ttotal: 3.88s\tremaining: 31.4s\n",
      "110:\tlearn: 0.7737102\ttest: 0.7675123\tbest: 0.7682420 (107)\ttotal: 3.91s\tremaining: 31.3s\n",
      "111:\tlearn: 0.7742153\ttest: 0.7674562\tbest: 0.7682420 (107)\ttotal: 3.94s\tremaining: 31.2s\n",
      "112:\tlearn: 0.7743115\ttest: 0.7678491\tbest: 0.7682420 (107)\ttotal: 3.97s\tremaining: 31.1s\n",
      "113:\tlearn: 0.7740469\ttest: 0.7681298\tbest: 0.7682420 (107)\ttotal: 4s\tremaining: 31.1s\n",
      "114:\tlearn: 0.7745520\ttest: 0.7688033\tbest: 0.7688033 (114)\ttotal: 4.03s\tremaining: 31s\n",
      "115:\tlearn: 0.7754660\ttest: 0.7701504\tbest: 0.7701504 (115)\ttotal: 4.05s\tremaining: 30.9s\n",
      "116:\tlearn: 0.7756344\ttest: 0.7702627\tbest: 0.7702627 (116)\ttotal: 4.08s\tremaining: 30.8s\n",
      "117:\tlearn: 0.7754420\ttest: 0.7709924\tbest: 0.7709924 (117)\ttotal: 4.11s\tremaining: 30.7s\n",
      "118:\tlearn: 0.7753939\ttest: 0.7700943\tbest: 0.7709924 (117)\ttotal: 4.14s\tremaining: 30.6s\n",
      "119:\tlearn: 0.7754420\ttest: 0.7704311\tbest: 0.7709924 (117)\ttotal: 4.17s\tremaining: 30.6s\n",
      "120:\tlearn: 0.7755863\ttest: 0.7708801\tbest: 0.7709924 (117)\ttotal: 4.19s\tremaining: 30.5s\n",
      "121:\tlearn: 0.7756825\ttest: 0.7702627\tbest: 0.7709924 (117)\ttotal: 4.22s\tremaining: 30.4s\n",
      "122:\tlearn: 0.7757306\ttest: 0.7696453\tbest: 0.7709924 (117)\ttotal: 4.26s\tremaining: 30.4s\n",
      "123:\tlearn: 0.7758509\ttest: 0.7700382\tbest: 0.7709924 (117)\ttotal: 4.29s\tremaining: 30.3s\n",
      "124:\tlearn: 0.7761155\ttest: 0.7703188\tbest: 0.7709924 (117)\ttotal: 4.32s\tremaining: 30.2s\n",
      "125:\tlearn: 0.7773181\ttest: 0.7713291\tbest: 0.7713291 (125)\ttotal: 4.34s\tremaining: 30.1s\n",
      "126:\tlearn: 0.7773422\ttest: 0.7714414\tbest: 0.7714414 (126)\ttotal: 4.37s\tremaining: 30s\n",
      "127:\tlearn: 0.7773422\ttest: 0.7711046\tbest: 0.7714414 (126)\ttotal: 4.39s\tremaining: 29.9s\n",
      "128:\tlearn: 0.7773181\ttest: 0.7712169\tbest: 0.7714414 (126)\ttotal: 4.42s\tremaining: 29.8s\n",
      "129:\tlearn: 0.7775827\ttest: 0.7714975\tbest: 0.7714975 (129)\ttotal: 4.45s\tremaining: 29.8s\n",
      "130:\tlearn: 0.7779916\ttest: 0.7714414\tbest: 0.7714975 (129)\ttotal: 4.47s\tremaining: 29.7s\n",
      "131:\tlearn: 0.7780878\ttest: 0.7714975\tbest: 0.7714975 (129)\ttotal: 4.5s\tremaining: 29.6s\n",
      "132:\tlearn: 0.7782321\ttest: 0.7720027\tbest: 0.7720027 (132)\ttotal: 4.53s\tremaining: 29.6s\n",
      "133:\tlearn: 0.7782081\ttest: 0.7722833\tbest: 0.7722833 (133)\ttotal: 4.58s\tremaining: 29.6s\n",
      "134:\tlearn: 0.7783764\ttest: 0.7723395\tbest: 0.7723395 (134)\ttotal: 4.64s\tremaining: 29.8s\n",
      "135:\tlearn: 0.7786891\ttest: 0.7727885\tbest: 0.7727885 (135)\ttotal: 4.7s\tremaining: 29.9s\n",
      "136:\tlearn: 0.7788575\ttest: 0.7724517\tbest: 0.7727885 (135)\ttotal: 4.77s\tremaining: 30s\n",
      "137:\tlearn: 0.7789296\ttest: 0.7726762\tbest: 0.7727885 (135)\ttotal: 4.82s\tremaining: 30.1s\n",
      "138:\tlearn: 0.7787613\ttest: 0.7723956\tbest: 0.7727885 (135)\ttotal: 4.87s\tremaining: 30.2s\n",
      "139:\tlearn: 0.7790018\ttest: 0.7725079\tbest: 0.7727885 (135)\ttotal: 4.92s\tremaining: 30.2s\n",
      "140:\tlearn: 0.7791702\ttest: 0.7723395\tbest: 0.7727885 (135)\ttotal: 4.96s\tremaining: 30.2s\n",
      "141:\tlearn: 0.7791942\ttest: 0.7717220\tbest: 0.7727885 (135)\ttotal: 5.02s\tremaining: 30.3s\n",
      "142:\tlearn: 0.7792423\ttest: 0.7716098\tbest: 0.7727885 (135)\ttotal: 5.08s\tremaining: 30.4s\n",
      "143:\tlearn: 0.7792423\ttest: 0.7717220\tbest: 0.7727885 (135)\ttotal: 5.12s\tremaining: 30.5s\n",
      "144:\tlearn: 0.7793145\ttest: 0.7720588\tbest: 0.7727885 (135)\ttotal: 5.17s\tremaining: 30.5s\n",
      "145:\tlearn: 0.7794348\ttest: 0.7723395\tbest: 0.7727885 (135)\ttotal: 5.22s\tremaining: 30.5s\n",
      "146:\tlearn: 0.7797956\ttest: 0.7729008\tbest: 0.7729008 (146)\ttotal: 5.27s\tremaining: 30.6s\n",
      "147:\tlearn: 0.7801563\ttest: 0.7729569\tbest: 0.7729569 (147)\ttotal: 5.32s\tremaining: 30.6s\n",
      "148:\tlearn: 0.7804690\ttest: 0.7727885\tbest: 0.7729569 (147)\ttotal: 5.36s\tremaining: 30.6s\n",
      "149:\tlearn: 0.7804690\ttest: 0.7728446\tbest: 0.7729569 (147)\ttotal: 5.4s\tremaining: 30.6s\n",
      "150:\tlearn: 0.7804931\ttest: 0.7726201\tbest: 0.7729569 (147)\ttotal: 5.44s\tremaining: 30.6s\n",
      "151:\tlearn: 0.7806374\ttest: 0.7728446\tbest: 0.7729569 (147)\ttotal: 5.49s\tremaining: 30.6s\n",
      "152:\tlearn: 0.7805893\ttest: 0.7729008\tbest: 0.7729569 (147)\ttotal: 5.54s\tremaining: 30.6s\n",
      "153:\tlearn: 0.7809260\ttest: 0.7730692\tbest: 0.7730692 (153)\ttotal: 5.58s\tremaining: 30.7s\n",
      "154:\tlearn: 0.7813109\ttest: 0.7735182\tbest: 0.7735182 (154)\ttotal: 5.62s\tremaining: 30.6s\n",
      "155:\tlearn: 0.7813590\ttest: 0.7741917\tbest: 0.7741917 (155)\ttotal: 5.65s\tremaining: 30.6s\n",
      "156:\tlearn: 0.7820565\ttest: 0.7749214\tbest: 0.7749214 (156)\ttotal: 5.67s\tremaining: 30.5s\n",
      "157:\tlearn: 0.7822971\ttest: 0.7750898\tbest: 0.7750898 (157)\ttotal: 5.71s\tremaining: 30.4s\n",
      "158:\tlearn: 0.7824895\ttest: 0.7753705\tbest: 0.7753705 (158)\ttotal: 5.74s\tremaining: 30.3s\n",
      "159:\tlearn: 0.7827060\ttest: 0.7753705\tbest: 0.7753705 (158)\ttotal: 5.76s\tremaining: 30.3s\n",
      "160:\tlearn: 0.7828262\ttest: 0.7753143\tbest: 0.7753705 (158)\ttotal: 5.79s\tremaining: 30.2s\n",
      "161:\tlearn: 0.7829224\ttest: 0.7753143\tbest: 0.7753705 (158)\ttotal: 5.82s\tremaining: 30.1s\n",
      "162:\tlearn: 0.7833073\ttest: 0.7754266\tbest: 0.7754266 (162)\ttotal: 5.87s\tremaining: 30.1s\n",
      "163:\tlearn: 0.7834997\ttest: 0.7757072\tbest: 0.7757072 (163)\ttotal: 5.92s\tremaining: 30.2s\n",
      "164:\tlearn: 0.7841251\ttest: 0.7759879\tbest: 0.7759879 (164)\ttotal: 5.97s\tremaining: 30.2s\n",
      "165:\tlearn: 0.7844378\ttest: 0.7758195\tbest: 0.7759879 (164)\ttotal: 6.02s\tremaining: 30.2s\n",
      "166:\tlearn: 0.7846542\ttest: 0.7759317\tbest: 0.7759879 (164)\ttotal: 6.07s\tremaining: 30.3s\n",
      "167:\tlearn: 0.7848467\ttest: 0.7758195\tbest: 0.7759879 (164)\ttotal: 6.12s\tremaining: 30.3s\n",
      "168:\tlearn: 0.7848948\ttest: 0.7757072\tbest: 0.7759879 (164)\ttotal: 6.16s\tremaining: 30.3s\n",
      "169:\tlearn: 0.7854239\ttest: 0.7761001\tbest: 0.7761001 (169)\ttotal: 6.21s\tremaining: 30.3s\n",
      "170:\tlearn: 0.7852075\ttest: 0.7764930\tbest: 0.7764930 (170)\ttotal: 6.25s\tremaining: 30.3s\n",
      "171:\tlearn: 0.7851834\ttest: 0.7758195\tbest: 0.7764930 (170)\ttotal: 6.3s\tremaining: 30.3s\n",
      "172:\tlearn: 0.7854239\ttest: 0.7761563\tbest: 0.7764930 (170)\ttotal: 6.35s\tremaining: 30.3s\n",
      "173:\tlearn: 0.7856164\ttest: 0.7759879\tbest: 0.7764930 (170)\ttotal: 6.4s\tremaining: 30.4s\n",
      "174:\tlearn: 0.7857607\ttest: 0.7759879\tbest: 0.7764930 (170)\ttotal: 6.44s\tremaining: 30.4s\n",
      "175:\tlearn: 0.7860253\ttest: 0.7759879\tbest: 0.7764930 (170)\ttotal: 6.49s\tremaining: 30.4s\n",
      "176:\tlearn: 0.7860012\ttest: 0.7757634\tbest: 0.7764930 (170)\ttotal: 6.54s\tremaining: 30.4s\n",
      "177:\tlearn: 0.7863620\ttest: 0.7757634\tbest: 0.7764930 (170)\ttotal: 6.58s\tremaining: 30.4s\n",
      "178:\tlearn: 0.7865304\ttest: 0.7759317\tbest: 0.7764930 (170)\ttotal: 6.61s\tremaining: 30.3s\n",
      "179:\tlearn: 0.7865063\ttest: 0.7763808\tbest: 0.7764930 (170)\ttotal: 6.64s\tremaining: 30.3s\n",
      "180:\tlearn: 0.7866747\ttest: 0.7764369\tbest: 0.7764930 (170)\ttotal: 6.68s\tremaining: 30.2s\n",
      "181:\tlearn: 0.7871798\ttest: 0.7766053\tbest: 0.7766053 (181)\ttotal: 6.71s\tremaining: 30.2s\n",
      "182:\tlearn: 0.7870836\ttest: 0.7763247\tbest: 0.7766053 (181)\ttotal: 6.74s\tremaining: 30.1s\n",
      "183:\tlearn: 0.7875406\ttest: 0.7768298\tbest: 0.7768298 (183)\ttotal: 6.77s\tremaining: 30s\n",
      "184:\tlearn: 0.7874684\ttest: 0.7770543\tbest: 0.7770543 (184)\ttotal: 6.8s\tremaining: 30s\n",
      "185:\tlearn: 0.7875406\ttest: 0.7771666\tbest: 0.7771666 (185)\ttotal: 6.83s\tremaining: 29.9s\n",
      "186:\tlearn: 0.7877330\ttest: 0.7776156\tbest: 0.7776156 (186)\ttotal: 6.87s\tremaining: 29.8s\n",
      "187:\tlearn: 0.7877330\ttest: 0.7772789\tbest: 0.7776156 (186)\ttotal: 6.89s\tremaining: 29.8s\n",
      "188:\tlearn: 0.7878773\ttest: 0.7774472\tbest: 0.7776156 (186)\ttotal: 6.92s\tremaining: 29.7s\n",
      "189:\tlearn: 0.7881900\ttest: 0.7772227\tbest: 0.7776156 (186)\ttotal: 6.95s\tremaining: 29.6s\n",
      "190:\tlearn: 0.7879254\ttest: 0.7773911\tbest: 0.7776156 (186)\ttotal: 6.99s\tremaining: 29.6s\n",
      "191:\tlearn: 0.7880698\ttest: 0.7775034\tbest: 0.7776156 (186)\ttotal: 7.02s\tremaining: 29.6s\n",
      "192:\tlearn: 0.7883584\ttest: 0.7778401\tbest: 0.7778401 (192)\ttotal: 7.08s\tremaining: 29.6s\n",
      "193:\tlearn: 0.7885268\ttest: 0.7779524\tbest: 0.7779524 (193)\ttotal: 7.12s\tremaining: 29.6s\n",
      "194:\tlearn: 0.7886951\ttest: 0.7778963\tbest: 0.7779524 (193)\ttotal: 7.16s\tremaining: 29.5s\n",
      "195:\tlearn: 0.7889597\ttest: 0.7781769\tbest: 0.7781769 (195)\ttotal: 7.21s\tremaining: 29.6s\n",
      "196:\tlearn: 0.7889357\ttest: 0.7781769\tbest: 0.7781769 (195)\ttotal: 7.25s\tremaining: 29.5s\n",
      "197:\tlearn: 0.7890319\ttest: 0.7782330\tbest: 0.7782330 (197)\ttotal: 7.29s\tremaining: 29.5s\n",
      "198:\tlearn: 0.7885749\ttest: 0.7785698\tbest: 0.7785698 (198)\ttotal: 7.34s\tremaining: 29.5s\n",
      "199:\tlearn: 0.7885749\ttest: 0.7789066\tbest: 0.7789066 (199)\ttotal: 7.38s\tremaining: 29.5s\n",
      "200:\tlearn: 0.7886230\ttest: 0.7784576\tbest: 0.7789066 (199)\ttotal: 7.42s\tremaining: 29.5s\n",
      "201:\tlearn: 0.7886230\ttest: 0.7784576\tbest: 0.7789066 (199)\ttotal: 7.45s\tremaining: 29.4s\n",
      "202:\tlearn: 0.7885027\ttest: 0.7786821\tbest: 0.7789066 (199)\ttotal: 7.47s\tremaining: 29.3s\n",
      "203:\tlearn: 0.7886470\ttest: 0.7788505\tbest: 0.7789066 (199)\ttotal: 7.5s\tremaining: 29.3s\n",
      "204:\tlearn: 0.7888154\ttest: 0.7787943\tbest: 0.7789066 (199)\ttotal: 7.53s\tremaining: 29.2s\n",
      "205:\tlearn: 0.7890559\ttest: 0.7782892\tbest: 0.7789066 (199)\ttotal: 7.55s\tremaining: 29.1s\n",
      "206:\tlearn: 0.7892724\ttest: 0.7782330\tbest: 0.7789066 (199)\ttotal: 7.58s\tremaining: 29s\n",
      "207:\tlearn: 0.7893927\ttest: 0.7778963\tbest: 0.7789066 (199)\ttotal: 7.6s\tremaining: 29s\n",
      "208:\tlearn: 0.7895370\ttest: 0.7783453\tbest: 0.7789066 (199)\ttotal: 7.63s\tremaining: 28.9s\n",
      "209:\tlearn: 0.7894889\ttest: 0.7790750\tbest: 0.7790750 (209)\ttotal: 7.66s\tremaining: 28.8s\n",
      "210:\tlearn: 0.7894889\ttest: 0.7792434\tbest: 0.7792434 (210)\ttotal: 7.68s\tremaining: 28.7s\n",
      "211:\tlearn: 0.7895129\ttest: 0.7793556\tbest: 0.7793556 (211)\ttotal: 7.71s\tremaining: 28.7s\n",
      "212:\tlearn: 0.7896813\ttest: 0.7792434\tbest: 0.7793556 (211)\ttotal: 7.74s\tremaining: 28.6s\n",
      "213:\tlearn: 0.7900902\ttest: 0.7798047\tbest: 0.7798047 (213)\ttotal: 7.77s\tremaining: 28.5s\n",
      "214:\tlearn: 0.7901864\ttest: 0.7791311\tbest: 0.7798047 (213)\ttotal: 7.81s\tremaining: 28.5s\n",
      "215:\tlearn: 0.7902105\ttest: 0.7794118\tbest: 0.7798047 (213)\ttotal: 7.86s\tremaining: 28.5s\n",
      "216:\tlearn: 0.7904991\ttest: 0.7793556\tbest: 0.7798047 (213)\ttotal: 7.9s\tremaining: 28.5s\n",
      "217:\tlearn: 0.7906194\ttest: 0.7795240\tbest: 0.7798047 (213)\ttotal: 7.95s\tremaining: 28.5s\n",
      "218:\tlearn: 0.7907637\ttest: 0.7802537\tbest: 0.7802537 (218)\ttotal: 7.99s\tremaining: 28.5s\n",
      "219:\tlearn: 0.7912207\ttest: 0.7800853\tbest: 0.7802537 (218)\ttotal: 8.03s\tremaining: 28.5s\n",
      "220:\tlearn: 0.7913410\ttest: 0.7803098\tbest: 0.7803098 (220)\ttotal: 8.08s\tremaining: 28.5s\n",
      "221:\tlearn: 0.7913410\ttest: 0.7803660\tbest: 0.7803660 (221)\ttotal: 8.13s\tremaining: 28.5s\n",
      "222:\tlearn: 0.7911485\ttest: 0.7801976\tbest: 0.7803660 (221)\ttotal: 8.18s\tremaining: 28.5s\n",
      "223:\tlearn: 0.7913650\ttest: 0.7808150\tbest: 0.7808150 (223)\ttotal: 8.23s\tremaining: 28.5s\n",
      "224:\tlearn: 0.7916777\ttest: 0.7810395\tbest: 0.7810395 (224)\ttotal: 8.27s\tremaining: 28.5s\n",
      "225:\tlearn: 0.7915574\ttest: 0.7807589\tbest: 0.7810395 (224)\ttotal: 8.32s\tremaining: 28.5s\n",
      "226:\tlearn: 0.7919904\ttest: 0.7808150\tbest: 0.7810395 (224)\ttotal: 8.37s\tremaining: 28.5s\n",
      "227:\tlearn: 0.7920625\ttest: 0.7809834\tbest: 0.7810395 (224)\ttotal: 8.41s\tremaining: 28.5s\n",
      "228:\tlearn: 0.7921587\ttest: 0.7809834\tbest: 0.7810395 (224)\ttotal: 8.46s\tremaining: 28.5s\n",
      "229:\tlearn: 0.7925195\ttest: 0.7812640\tbest: 0.7812640 (229)\ttotal: 8.51s\tremaining: 28.5s\n",
      "230:\tlearn: 0.7925436\ttest: 0.7809834\tbest: 0.7812640 (229)\ttotal: 8.56s\tremaining: 28.5s\n",
      "231:\tlearn: 0.7927601\ttest: 0.7813202\tbest: 0.7813202 (231)\ttotal: 8.6s\tremaining: 28.5s\n",
      "232:\tlearn: 0.7926639\ttest: 0.7810956\tbest: 0.7813202 (231)\ttotal: 8.64s\tremaining: 28.4s\n",
      "233:\tlearn: 0.7926158\ttest: 0.7810956\tbest: 0.7813202 (231)\ttotal: 8.68s\tremaining: 28.4s\n",
      "234:\tlearn: 0.7926158\ttest: 0.7813202\tbest: 0.7813202 (231)\ttotal: 8.72s\tremaining: 28.4s\n",
      "235:\tlearn: 0.7927601\ttest: 0.7811518\tbest: 0.7813202 (231)\ttotal: 8.76s\tremaining: 28.4s\n",
      "236:\tlearn: 0.7928563\ttest: 0.7812079\tbest: 0.7813202 (231)\ttotal: 8.79s\tremaining: 28.3s\n",
      "237:\tlearn: 0.7928322\ttest: 0.7808150\tbest: 0.7813202 (231)\ttotal: 8.82s\tremaining: 28.2s\n",
      "238:\tlearn: 0.7929044\ttest: 0.7806466\tbest: 0.7813202 (231)\ttotal: 8.85s\tremaining: 28.2s\n",
      "239:\tlearn: 0.7928563\ttest: 0.7812640\tbest: 0.7813202 (231)\ttotal: 8.87s\tremaining: 28.1s\n",
      "240:\tlearn: 0.7926398\ttest: 0.7810395\tbest: 0.7813202 (231)\ttotal: 8.9s\tremaining: 28s\n",
      "241:\tlearn: 0.7927360\ttest: 0.7811518\tbest: 0.7813202 (231)\ttotal: 8.93s\tremaining: 28s\n",
      "242:\tlearn: 0.7931930\ttest: 0.7814885\tbest: 0.7814885 (242)\ttotal: 8.96s\tremaining: 27.9s\n",
      "243:\tlearn: 0.7932652\ttest: 0.7816569\tbest: 0.7816569 (243)\ttotal: 8.98s\tremaining: 27.8s\n",
      "244:\tlearn: 0.7933373\ttest: 0.7817692\tbest: 0.7817692 (244)\ttotal: 9.01s\tremaining: 27.8s\n",
      "245:\tlearn: 0.7936019\ttest: 0.7819937\tbest: 0.7819937 (245)\ttotal: 9.04s\tremaining: 27.7s\n",
      "246:\tlearn: 0.7939146\ttest: 0.7821060\tbest: 0.7821060 (246)\ttotal: 9.07s\tremaining: 27.7s\n",
      "247:\tlearn: 0.7938665\ttest: 0.7820498\tbest: 0.7821060 (246)\ttotal: 9.11s\tremaining: 27.6s\n",
      "248:\tlearn: 0.7940349\ttest: 0.7817131\tbest: 0.7821060 (246)\ttotal: 9.14s\tremaining: 27.6s\n",
      "249:\tlearn: 0.7942514\ttest: 0.7818253\tbest: 0.7821060 (246)\ttotal: 9.17s\tremaining: 27.5s\n",
      "250:\tlearn: 0.7943235\ttest: 0.7821621\tbest: 0.7821621 (250)\ttotal: 9.2s\tremaining: 27.5s\n",
      "251:\tlearn: 0.7943957\ttest: 0.7818253\tbest: 0.7821621 (250)\ttotal: 9.23s\tremaining: 27.4s\n",
      "252:\tlearn: 0.7945881\ttest: 0.7819376\tbest: 0.7821621 (250)\ttotal: 9.26s\tremaining: 27.3s\n",
      "253:\tlearn: 0.7946121\ttest: 0.7819376\tbest: 0.7821621 (250)\ttotal: 9.29s\tremaining: 27.3s\n",
      "254:\tlearn: 0.7947324\ttest: 0.7818253\tbest: 0.7821621 (250)\ttotal: 9.32s\tremaining: 27.2s\n",
      "255:\tlearn: 0.7945881\ttest: 0.7817131\tbest: 0.7821621 (250)\ttotal: 9.35s\tremaining: 27.2s\n",
      "256:\tlearn: 0.7948046\ttest: 0.7819937\tbest: 0.7821621 (250)\ttotal: 9.38s\tremaining: 27.1s\n",
      "257:\tlearn: 0.7945881\ttest: 0.7818815\tbest: 0.7821621 (250)\ttotal: 9.41s\tremaining: 27.1s\n",
      "258:\tlearn: 0.7948286\ttest: 0.7819937\tbest: 0.7821621 (250)\ttotal: 9.44s\tremaining: 27s\n",
      "259:\tlearn: 0.7950210\ttest: 0.7816569\tbest: 0.7821621 (250)\ttotal: 9.47s\tremaining: 27s\n",
      "260:\tlearn: 0.7950210\ttest: 0.7818253\tbest: 0.7821621 (250)\ttotal: 9.51s\tremaining: 26.9s\n",
      "261:\tlearn: 0.7949970\ttest: 0.7817131\tbest: 0.7821621 (250)\ttotal: 9.55s\tremaining: 26.9s\n",
      "262:\tlearn: 0.7949008\ttest: 0.7820498\tbest: 0.7821621 (250)\ttotal: 9.58s\tremaining: 26.9s\n",
      "263:\tlearn: 0.7948286\ttest: 0.7818253\tbest: 0.7821621 (250)\ttotal: 9.61s\tremaining: 26.8s\n",
      "264:\tlearn: 0.7950932\ttest: 0.7817692\tbest: 0.7821621 (250)\ttotal: 9.64s\tremaining: 26.7s\n",
      "265:\tlearn: 0.7952616\ttest: 0.7815447\tbest: 0.7821621 (250)\ttotal: 9.68s\tremaining: 26.7s\n",
      "266:\tlearn: 0.7954299\ttest: 0.7813202\tbest: 0.7821621 (250)\ttotal: 9.7s\tremaining: 26.6s\n",
      "267:\tlearn: 0.7955262\ttest: 0.7810956\tbest: 0.7821621 (250)\ttotal: 9.73s\tremaining: 26.6s\n",
      "268:\tlearn: 0.7954059\ttest: 0.7810395\tbest: 0.7821621 (250)\ttotal: 9.76s\tremaining: 26.5s\n",
      "269:\tlearn: 0.7957186\ttest: 0.7809273\tbest: 0.7821621 (250)\ttotal: 9.79s\tremaining: 26.5s\n",
      "270:\tlearn: 0.7956705\ttest: 0.7809273\tbest: 0.7821621 (250)\ttotal: 9.82s\tremaining: 26.4s\n",
      "271:\tlearn: 0.7957186\ttest: 0.7810956\tbest: 0.7821621 (250)\ttotal: 9.86s\tremaining: 26.4s\n",
      "272:\tlearn: 0.7960313\ttest: 0.7811518\tbest: 0.7821621 (250)\ttotal: 9.89s\tremaining: 26.3s\n",
      "273:\tlearn: 0.7960313\ttest: 0.7812079\tbest: 0.7821621 (250)\ttotal: 9.93s\tremaining: 26.3s\n",
      "274:\tlearn: 0.7957667\ttest: 0.7812079\tbest: 0.7821621 (250)\ttotal: 9.96s\tremaining: 26.3s\n",
      "275:\tlearn: 0.7959110\ttest: 0.7812640\tbest: 0.7821621 (250)\ttotal: 9.99s\tremaining: 26.2s\n",
      "276:\tlearn: 0.7959351\ttest: 0.7815447\tbest: 0.7821621 (250)\ttotal: 10s\tremaining: 26.2s\n",
      "277:\tlearn: 0.7961996\ttest: 0.7818815\tbest: 0.7821621 (250)\ttotal: 10.1s\tremaining: 26.1s\n",
      "278:\tlearn: 0.7961996\ttest: 0.7815447\tbest: 0.7821621 (250)\ttotal: 10.1s\tremaining: 26.1s\n",
      "279:\tlearn: 0.7964161\ttest: 0.7813202\tbest: 0.7821621 (250)\ttotal: 10.1s\tremaining: 26s\n",
      "280:\tlearn: 0.7964883\ttest: 0.7808150\tbest: 0.7821621 (250)\ttotal: 10.2s\tremaining: 26s\n",
      "281:\tlearn: 0.7964883\ttest: 0.7808711\tbest: 0.7821621 (250)\ttotal: 10.2s\tremaining: 25.9s\n",
      "282:\tlearn: 0.7965604\ttest: 0.7810956\tbest: 0.7821621 (250)\ttotal: 10.2s\tremaining: 25.9s\n",
      "283:\tlearn: 0.7969934\ttest: 0.7809273\tbest: 0.7821621 (250)\ttotal: 10.2s\tremaining: 25.8s\n",
      "284:\tlearn: 0.7969212\ttest: 0.7809834\tbest: 0.7821621 (250)\ttotal: 10.3s\tremaining: 25.8s\n",
      "285:\tlearn: 0.7969693\ttest: 0.7812640\tbest: 0.7821621 (250)\ttotal: 10.3s\tremaining: 25.7s\n",
      "286:\tlearn: 0.7969693\ttest: 0.7814885\tbest: 0.7821621 (250)\ttotal: 10.3s\tremaining: 25.7s\n",
      "287:\tlearn: 0.7970896\ttest: 0.7816008\tbest: 0.7821621 (250)\ttotal: 10.4s\tremaining: 25.6s\n",
      "288:\tlearn: 0.7970655\ttest: 0.7816008\tbest: 0.7821621 (250)\ttotal: 10.4s\tremaining: 25.6s\n",
      "289:\tlearn: 0.7971137\ttest: 0.7813202\tbest: 0.7821621 (250)\ttotal: 10.5s\tremaining: 25.6s\n",
      "290:\tlearn: 0.7973061\ttest: 0.7814885\tbest: 0.7821621 (250)\ttotal: 10.5s\tremaining: 25.6s\n",
      "291:\tlearn: 0.7975947\ttest: 0.7816569\tbest: 0.7821621 (250)\ttotal: 10.5s\tremaining: 25.6s\n",
      "292:\tlearn: 0.7976188\ttest: 0.7819937\tbest: 0.7821621 (250)\ttotal: 10.6s\tremaining: 25.5s\n",
      "293:\tlearn: 0.7975947\ttest: 0.7818815\tbest: 0.7821621 (250)\ttotal: 10.6s\tremaining: 25.5s\n",
      "294:\tlearn: 0.7974985\ttest: 0.7819937\tbest: 0.7821621 (250)\ttotal: 10.7s\tremaining: 25.5s\n",
      "295:\tlearn: 0.7977390\ttest: 0.7819376\tbest: 0.7821621 (250)\ttotal: 10.7s\tremaining: 25.4s\n",
      "296:\tlearn: 0.7975947\ttest: 0.7818253\tbest: 0.7821621 (250)\ttotal: 10.7s\tremaining: 25.4s\n",
      "297:\tlearn: 0.7976188\ttest: 0.7818815\tbest: 0.7821621 (250)\ttotal: 10.8s\tremaining: 25.4s\n",
      "298:\tlearn: 0.7977150\ttest: 0.7817131\tbest: 0.7821621 (250)\ttotal: 10.8s\tremaining: 25.4s\n",
      "299:\tlearn: 0.7980758\ttest: 0.7815447\tbest: 0.7821621 (250)\ttotal: 10.9s\tremaining: 25.3s\n",
      "300:\tlearn: 0.7983163\ttest: 0.7818815\tbest: 0.7821621 (250)\ttotal: 10.9s\tremaining: 25.3s\n",
      "301:\tlearn: 0.7982682\ttest: 0.7819376\tbest: 0.7821621 (250)\ttotal: 10.9s\tremaining: 25.3s\n",
      "302:\tlearn: 0.7985087\ttest: 0.7821060\tbest: 0.7821621 (250)\ttotal: 11s\tremaining: 25.2s\n",
      "303:\tlearn: 0.7986049\ttest: 0.7820498\tbest: 0.7821621 (250)\ttotal: 11s\tremaining: 25.2s\n",
      "304:\tlearn: 0.7987492\ttest: 0.7818815\tbest: 0.7821621 (250)\ttotal: 11s\tremaining: 25.1s\n",
      "305:\tlearn: 0.7985087\ttest: 0.7817692\tbest: 0.7821621 (250)\ttotal: 11.1s\tremaining: 25.1s\n",
      "306:\tlearn: 0.7986771\ttest: 0.7819937\tbest: 0.7821621 (250)\ttotal: 11.1s\tremaining: 25s\n",
      "307:\tlearn: 0.7987492\ttest: 0.7819937\tbest: 0.7821621 (250)\ttotal: 11.1s\tremaining: 25s\n",
      "308:\tlearn: 0.7986290\ttest: 0.7821060\tbest: 0.7821621 (250)\ttotal: 11.1s\tremaining: 24.9s\n",
      "309:\tlearn: 0.7987252\ttest: 0.7820498\tbest: 0.7821621 (250)\ttotal: 11.2s\tremaining: 24.9s\n",
      "310:\tlearn: 0.7990138\ttest: 0.7817131\tbest: 0.7821621 (250)\ttotal: 11.2s\tremaining: 24.8s\n",
      "311:\tlearn: 0.7993506\ttest: 0.7820498\tbest: 0.7821621 (250)\ttotal: 11.2s\tremaining: 24.8s\n",
      "312:\tlearn: 0.7995430\ttest: 0.7827795\tbest: 0.7827795 (312)\ttotal: 11.3s\tremaining: 24.7s\n",
      "313:\tlearn: 0.7996392\ttest: 0.7826673\tbest: 0.7827795 (312)\ttotal: 11.3s\tremaining: 24.7s\n",
      "314:\tlearn: 0.7998316\ttest: 0.7829479\tbest: 0.7829479 (314)\ttotal: 11.3s\tremaining: 24.6s\n",
      "315:\tlearn: 0.8000481\ttest: 0.7827795\tbest: 0.7829479 (314)\ttotal: 11.3s\tremaining: 24.6s\n",
      "316:\tlearn: 0.7998076\ttest: 0.7832286\tbest: 0.7832286 (316)\ttotal: 11.4s\tremaining: 24.5s\n",
      "317:\tlearn: 0.7998076\ttest: 0.7830040\tbest: 0.7832286 (316)\ttotal: 11.4s\tremaining: 24.5s\n",
      "318:\tlearn: 0.8003608\ttest: 0.7830602\tbest: 0.7832286 (316)\ttotal: 11.4s\tremaining: 24.4s\n",
      "319:\tlearn: 0.8003127\ttest: 0.7833969\tbest: 0.7833969 (319)\ttotal: 11.5s\tremaining: 24.4s\n",
      "320:\tlearn: 0.8000722\ttest: 0.7834531\tbest: 0.7834531 (320)\ttotal: 11.5s\tremaining: 24.3s\n",
      "321:\tlearn: 0.8002165\ttest: 0.7830040\tbest: 0.7834531 (320)\ttotal: 11.5s\tremaining: 24.3s\n",
      "322:\tlearn: 0.7999759\ttest: 0.7831724\tbest: 0.7834531 (320)\ttotal: 11.6s\tremaining: 24.2s\n",
      "323:\tlearn: 0.8001684\ttest: 0.7831724\tbest: 0.7834531 (320)\ttotal: 11.6s\tremaining: 24.2s\n",
      "324:\tlearn: 0.8002646\ttest: 0.7834531\tbest: 0.7834531 (320)\ttotal: 11.6s\tremaining: 24.1s\n",
      "325:\tlearn: 0.8003127\ttest: 0.7834531\tbest: 0.7834531 (320)\ttotal: 11.7s\tremaining: 24.1s\n",
      "326:\tlearn: 0.8004811\ttest: 0.7831163\tbest: 0.7834531 (320)\ttotal: 11.7s\tremaining: 24s\n",
      "327:\tlearn: 0.8003848\ttest: 0.7827795\tbest: 0.7834531 (320)\ttotal: 11.7s\tremaining: 24s\n",
      "328:\tlearn: 0.8004811\ttest: 0.7826673\tbest: 0.7834531 (320)\ttotal: 11.7s\tremaining: 23.9s\n",
      "329:\tlearn: 0.8012026\ttest: 0.7830602\tbest: 0.7834531 (320)\ttotal: 11.8s\tremaining: 23.9s\n",
      "330:\tlearn: 0.8013470\ttest: 0.7830602\tbest: 0.7834531 (320)\ttotal: 11.8s\tremaining: 23.8s\n",
      "331:\tlearn: 0.8011786\ttest: 0.7833408\tbest: 0.7834531 (320)\ttotal: 11.8s\tremaining: 23.8s\n",
      "332:\tlearn: 0.8015153\ttest: 0.7832847\tbest: 0.7834531 (320)\ttotal: 11.9s\tremaining: 23.8s\n",
      "333:\tlearn: 0.8015634\ttest: 0.7826673\tbest: 0.7834531 (320)\ttotal: 11.9s\tremaining: 23.7s\n",
      "334:\tlearn: 0.8016356\ttest: 0.7826673\tbest: 0.7834531 (320)\ttotal: 11.9s\tremaining: 23.7s\n",
      "335:\tlearn: 0.8016115\ttest: 0.7827795\tbest: 0.7834531 (320)\ttotal: 12s\tremaining: 23.6s\n",
      "336:\tlearn: 0.8015875\ttest: 0.7828918\tbest: 0.7834531 (320)\ttotal: 12s\tremaining: 23.6s\n",
      "337:\tlearn: 0.8018521\ttest: 0.7830040\tbest: 0.7834531 (320)\ttotal: 12s\tremaining: 23.5s\n",
      "338:\tlearn: 0.8017318\ttest: 0.7828357\tbest: 0.7834531 (320)\ttotal: 12s\tremaining: 23.5s\n",
      "339:\tlearn: 0.8020686\ttest: 0.7826673\tbest: 0.7834531 (320)\ttotal: 12.1s\tremaining: 23.4s\n",
      "340:\tlearn: 0.8021167\ttest: 0.7830602\tbest: 0.7834531 (320)\ttotal: 12.1s\tremaining: 23.4s\n",
      "341:\tlearn: 0.8021888\ttest: 0.7827234\tbest: 0.7834531 (320)\ttotal: 12.1s\tremaining: 23.3s\n",
      "342:\tlearn: 0.8023572\ttest: 0.7826673\tbest: 0.7834531 (320)\ttotal: 12.2s\tremaining: 23.3s\n",
      "343:\tlearn: 0.8023572\ttest: 0.7825550\tbest: 0.7834531 (320)\ttotal: 12.2s\tremaining: 23.2s\n",
      "344:\tlearn: 0.8024534\ttest: 0.7826111\tbest: 0.7834531 (320)\ttotal: 12.2s\tremaining: 23.2s\n",
      "345:\tlearn: 0.8025496\ttest: 0.7826111\tbest: 0.7834531 (320)\ttotal: 12.2s\tremaining: 23.1s\n",
      "346:\tlearn: 0.8027661\ttest: 0.7832286\tbest: 0.7834531 (320)\ttotal: 12.3s\tremaining: 23.1s\n",
      "347:\tlearn: 0.8026699\ttest: 0.7828918\tbest: 0.7834531 (320)\ttotal: 12.3s\tremaining: 23.1s\n",
      "348:\tlearn: 0.8028382\ttest: 0.7833969\tbest: 0.7834531 (320)\ttotal: 12.3s\tremaining: 23s\n",
      "349:\tlearn: 0.8028382\ttest: 0.7831163\tbest: 0.7834531 (320)\ttotal: 12.4s\tremaining: 23s\n",
      "350:\tlearn: 0.8028623\ttest: 0.7831724\tbest: 0.7834531 (320)\ttotal: 12.4s\tremaining: 22.9s\n",
      "351:\tlearn: 0.8030547\ttest: 0.7828918\tbest: 0.7834531 (320)\ttotal: 12.4s\tremaining: 22.9s\n",
      "352:\tlearn: 0.8030547\ttest: 0.7828357\tbest: 0.7834531 (320)\ttotal: 12.5s\tremaining: 22.9s\n",
      "353:\tlearn: 0.8029345\ttest: 0.7835092\tbest: 0.7835092 (353)\ttotal: 12.5s\tremaining: 22.8s\n",
      "354:\tlearn: 0.8032231\ttest: 0.7834531\tbest: 0.7835092 (353)\ttotal: 12.5s\tremaining: 22.8s\n",
      "355:\tlearn: 0.8035839\ttest: 0.7837337\tbest: 0.7837337 (355)\ttotal: 12.6s\tremaining: 22.7s\n",
      "356:\tlearn: 0.8036320\ttest: 0.7839582\tbest: 0.7839582 (356)\ttotal: 12.6s\tremaining: 22.7s\n",
      "357:\tlearn: 0.8039687\ttest: 0.7831163\tbest: 0.7839582 (356)\ttotal: 12.6s\tremaining: 22.7s\n",
      "358:\tlearn: 0.8040649\ttest: 0.7832286\tbest: 0.7839582 (356)\ttotal: 12.7s\tremaining: 22.6s\n",
      "359:\tlearn: 0.8041371\ttest: 0.7833969\tbest: 0.7839582 (356)\ttotal: 12.7s\tremaining: 22.6s\n",
      "360:\tlearn: 0.8042574\ttest: 0.7835653\tbest: 0.7839582 (356)\ttotal: 12.7s\tremaining: 22.5s\n",
      "361:\tlearn: 0.8041852\ttest: 0.7836215\tbest: 0.7839582 (356)\ttotal: 12.8s\tremaining: 22.5s\n",
      "362:\tlearn: 0.8041130\ttest: 0.7839021\tbest: 0.7839582 (356)\ttotal: 12.8s\tremaining: 22.4s\n",
      "363:\tlearn: 0.8041130\ttest: 0.7840144\tbest: 0.7840144 (363)\ttotal: 12.8s\tremaining: 22.4s\n",
      "364:\tlearn: 0.8041612\ttest: 0.7840705\tbest: 0.7840705 (364)\ttotal: 12.9s\tremaining: 22.4s\n",
      "365:\tlearn: 0.8042093\ttest: 0.7841266\tbest: 0.7841266 (365)\ttotal: 12.9s\tremaining: 22.3s\n",
      "366:\tlearn: 0.8044257\ttest: 0.7843511\tbest: 0.7843511 (366)\ttotal: 12.9s\tremaining: 22.3s\n",
      "367:\tlearn: 0.8044738\ttest: 0.7846879\tbest: 0.7846879 (367)\ttotal: 12.9s\tremaining: 22.2s\n",
      "368:\tlearn: 0.8047144\ttest: 0.7844634\tbest: 0.7846879 (367)\ttotal: 13s\tremaining: 22.2s\n",
      "369:\tlearn: 0.8047865\ttest: 0.7847441\tbest: 0.7847441 (369)\ttotal: 13s\tremaining: 22.2s\n",
      "370:\tlearn: 0.8051233\ttest: 0.7849686\tbest: 0.7849686 (370)\ttotal: 13.1s\tremaining: 22.2s\n",
      "371:\tlearn: 0.8051714\ttest: 0.7849686\tbest: 0.7849686 (370)\ttotal: 13.1s\tremaining: 22.2s\n",
      "372:\tlearn: 0.8051233\ttest: 0.7849124\tbest: 0.7849686 (370)\ttotal: 13.2s\tremaining: 22.2s\n",
      "373:\tlearn: 0.8052435\ttest: 0.7849124\tbest: 0.7849686 (370)\ttotal: 13.2s\tremaining: 22.1s\n",
      "374:\tlearn: 0.8053638\ttest: 0.7845195\tbest: 0.7849686 (370)\ttotal: 13.3s\tremaining: 22.1s\n",
      "375:\tlearn: 0.8053879\ttest: 0.7839582\tbest: 0.7849686 (370)\ttotal: 13.3s\tremaining: 22.1s\n",
      "376:\tlearn: 0.8057005\ttest: 0.7844634\tbest: 0.7849686 (370)\ttotal: 13.3s\tremaining: 22.1s\n",
      "377:\tlearn: 0.8058449\ttest: 0.7846879\tbest: 0.7849686 (370)\ttotal: 13.4s\tremaining: 22s\n",
      "378:\tlearn: 0.8059651\ttest: 0.7842950\tbest: 0.7849686 (370)\ttotal: 13.4s\tremaining: 22s\n",
      "379:\tlearn: 0.8061575\ttest: 0.7846318\tbest: 0.7849686 (370)\ttotal: 13.5s\tremaining: 22s\n",
      "380:\tlearn: 0.8059892\ttest: 0.7849124\tbest: 0.7849686 (370)\ttotal: 13.5s\tremaining: 21.9s\n",
      "381:\tlearn: 0.8062297\ttest: 0.7847441\tbest: 0.7849686 (370)\ttotal: 13.5s\tremaining: 21.9s\n",
      "382:\tlearn: 0.8062538\ttest: 0.7846318\tbest: 0.7849686 (370)\ttotal: 13.6s\tremaining: 21.8s\n",
      "383:\tlearn: 0.8061094\ttest: 0.7849124\tbest: 0.7849686 (370)\ttotal: 13.6s\tremaining: 21.8s\n",
      "384:\tlearn: 0.8061575\ttest: 0.7847441\tbest: 0.7849686 (370)\ttotal: 13.6s\tremaining: 21.8s\n",
      "385:\tlearn: 0.8059892\ttest: 0.7849686\tbest: 0.7849686 (370)\ttotal: 13.6s\tremaining: 21.7s\n",
      "386:\tlearn: 0.8062538\ttest: 0.7846318\tbest: 0.7849686 (370)\ttotal: 13.7s\tremaining: 21.7s\n",
      "387:\tlearn: 0.8065905\ttest: 0.7847441\tbest: 0.7849686 (370)\ttotal: 13.7s\tremaining: 21.6s\n",
      "388:\tlearn: 0.8063500\ttest: 0.7848563\tbest: 0.7849686 (370)\ttotal: 13.8s\tremaining: 21.6s\n",
      "389:\tlearn: 0.8063740\ttest: 0.7850808\tbest: 0.7850808 (389)\ttotal: 13.8s\tremaining: 21.6s\n",
      "390:\tlearn: 0.8067108\ttest: 0.7849124\tbest: 0.7850808 (389)\ttotal: 13.9s\tremaining: 21.6s\n",
      "391:\tlearn: 0.8065905\ttest: 0.7848002\tbest: 0.7850808 (389)\ttotal: 13.9s\tremaining: 21.6s\n",
      "392:\tlearn: 0.8067589\ttest: 0.7846879\tbest: 0.7850808 (389)\ttotal: 14s\tremaining: 21.6s\n",
      "393:\tlearn: 0.8069513\ttest: 0.7845757\tbest: 0.7850808 (389)\ttotal: 14s\tremaining: 21.6s\n",
      "394:\tlearn: 0.8070956\ttest: 0.7845195\tbest: 0.7850808 (389)\ttotal: 14.1s\tremaining: 21.5s\n",
      "395:\tlearn: 0.8076007\ttest: 0.7848002\tbest: 0.7850808 (389)\ttotal: 14.1s\tremaining: 21.5s\n",
      "396:\tlearn: 0.8076007\ttest: 0.7846879\tbest: 0.7850808 (389)\ttotal: 14.1s\tremaining: 21.5s\n",
      "397:\tlearn: 0.8075526\ttest: 0.7848002\tbest: 0.7850808 (389)\ttotal: 14.2s\tremaining: 21.4s\n",
      "398:\tlearn: 0.8075767\ttest: 0.7846879\tbest: 0.7850808 (389)\ttotal: 14.2s\tremaining: 21.4s\n",
      "399:\tlearn: 0.8073361\ttest: 0.7846879\tbest: 0.7850808 (389)\ttotal: 14.3s\tremaining: 21.4s\n",
      "400:\tlearn: 0.8074083\ttest: 0.7845757\tbest: 0.7850808 (389)\ttotal: 14.3s\tremaining: 21.3s\n",
      "401:\tlearn: 0.8075767\ttest: 0.7844634\tbest: 0.7850808 (389)\ttotal: 14.3s\tremaining: 21.3s\n",
      "402:\tlearn: 0.8073121\ttest: 0.7842389\tbest: 0.7850808 (389)\ttotal: 14.4s\tremaining: 21.3s\n",
      "403:\tlearn: 0.8075526\ttest: 0.7845195\tbest: 0.7850808 (389)\ttotal: 14.4s\tremaining: 21.2s\n",
      "404:\tlearn: 0.8077691\ttest: 0.7845195\tbest: 0.7850808 (389)\ttotal: 14.4s\tremaining: 21.2s\n",
      "405:\tlearn: 0.8079615\ttest: 0.7847441\tbest: 0.7850808 (389)\ttotal: 14.5s\tremaining: 21.2s\n",
      "406:\tlearn: 0.8078653\ttest: 0.7845195\tbest: 0.7850808 (389)\ttotal: 14.5s\tremaining: 21.1s\n",
      "407:\tlearn: 0.8079375\ttest: 0.7846318\tbest: 0.7850808 (389)\ttotal: 14.5s\tremaining: 21.1s\n",
      "408:\tlearn: 0.8077691\ttest: 0.7848563\tbest: 0.7850808 (389)\ttotal: 14.5s\tremaining: 21s\n",
      "409:\tlearn: 0.8078172\ttest: 0.7848002\tbest: 0.7850808 (389)\ttotal: 14.6s\tremaining: 21s\n",
      "410:\tlearn: 0.8079134\ttest: 0.7849686\tbest: 0.7850808 (389)\ttotal: 14.6s\tremaining: 20.9s\n",
      "411:\tlearn: 0.8082020\ttest: 0.7849686\tbest: 0.7850808 (389)\ttotal: 14.6s\tremaining: 20.9s\n",
      "412:\tlearn: 0.8083464\ttest: 0.7850808\tbest: 0.7850808 (389)\ttotal: 14.7s\tremaining: 20.8s\n",
      "413:\tlearn: 0.8084666\ttest: 0.7850247\tbest: 0.7850808 (389)\ttotal: 14.7s\tremaining: 20.8s\n",
      "414:\tlearn: 0.8085147\ttest: 0.7849124\tbest: 0.7850808 (389)\ttotal: 14.7s\tremaining: 20.7s\n",
      "415:\tlearn: 0.8086831\ttest: 0.7849686\tbest: 0.7850808 (389)\ttotal: 14.8s\tremaining: 20.7s\n",
      "416:\tlearn: 0.8088034\ttest: 0.7853053\tbest: 0.7853053 (416)\ttotal: 14.8s\tremaining: 20.7s\n",
      "417:\tlearn: 0.8089717\ttest: 0.7854737\tbest: 0.7854737 (417)\ttotal: 14.9s\tremaining: 20.7s\n",
      "418:\tlearn: 0.8091161\ttest: 0.7855860\tbest: 0.7855860 (418)\ttotal: 14.9s\tremaining: 20.7s\n",
      "419:\tlearn: 0.8090198\ttest: 0.7855299\tbest: 0.7855860 (418)\ttotal: 15s\tremaining: 20.7s\n",
      "420:\tlearn: 0.8092123\ttest: 0.7859228\tbest: 0.7859228 (420)\ttotal: 15s\tremaining: 20.6s\n",
      "421:\tlearn: 0.8093325\ttest: 0.7855299\tbest: 0.7859228 (420)\ttotal: 15.1s\tremaining: 20.6s\n",
      "422:\tlearn: 0.8096693\ttest: 0.7855299\tbest: 0.7859228 (420)\ttotal: 15.1s\tremaining: 20.6s\n",
      "423:\tlearn: 0.8096693\ttest: 0.7851931\tbest: 0.7859228 (420)\ttotal: 15.1s\tremaining: 20.5s\n",
      "424:\tlearn: 0.8098857\ttest: 0.7851931\tbest: 0.7859228 (420)\ttotal: 15.1s\tremaining: 20.5s\n",
      "425:\tlearn: 0.8100060\ttest: 0.7850247\tbest: 0.7859228 (420)\ttotal: 15.2s\tremaining: 20.4s\n",
      "426:\tlearn: 0.8101984\ttest: 0.7850808\tbest: 0.7859228 (420)\ttotal: 15.2s\tremaining: 20.4s\n",
      "427:\tlearn: 0.8103668\ttest: 0.7856421\tbest: 0.7859228 (420)\ttotal: 15.2s\tremaining: 20.4s\n",
      "428:\tlearn: 0.8104149\ttest: 0.7854737\tbest: 0.7859228 (420)\ttotal: 15.3s\tremaining: 20.3s\n",
      "429:\tlearn: 0.8106073\ttest: 0.7854737\tbest: 0.7859228 (420)\ttotal: 15.3s\tremaining: 20.3s\n",
      "430:\tlearn: 0.8104871\ttest: 0.7855299\tbest: 0.7859228 (420)\ttotal: 15.3s\tremaining: 20.2s\n",
      "431:\tlearn: 0.8106554\ttest: 0.7853615\tbest: 0.7859228 (420)\ttotal: 15.4s\tremaining: 20.2s\n",
      "432:\tlearn: 0.8106314\ttest: 0.7858105\tbest: 0.7859228 (420)\ttotal: 15.4s\tremaining: 20.2s\n",
      "433:\tlearn: 0.8107757\ttest: 0.7860350\tbest: 0.7860350 (433)\ttotal: 15.4s\tremaining: 20.1s\n",
      "434:\tlearn: 0.8104149\ttest: 0.7860912\tbest: 0.7860912 (434)\ttotal: 15.4s\tremaining: 20.1s\n",
      "435:\tlearn: 0.8104630\ttest: 0.7858666\tbest: 0.7860912 (434)\ttotal: 15.5s\tremaining: 20s\n",
      "436:\tlearn: 0.8108960\ttest: 0.7859789\tbest: 0.7860912 (434)\ttotal: 15.5s\tremaining: 20s\n",
      "437:\tlearn: 0.8107998\ttest: 0.7864279\tbest: 0.7864279 (437)\ttotal: 15.6s\tremaining: 20s\n",
      "438:\tlearn: 0.8108479\ttest: 0.7865963\tbest: 0.7865963 (438)\ttotal: 15.6s\tremaining: 19.9s\n",
      "439:\tlearn: 0.8107276\ttest: 0.7865963\tbest: 0.7865963 (438)\ttotal: 15.6s\tremaining: 19.9s\n",
      "440:\tlearn: 0.8107998\ttest: 0.7866524\tbest: 0.7866524 (440)\ttotal: 15.6s\tremaining: 19.8s\n",
      "441:\tlearn: 0.8108719\ttest: 0.7865402\tbest: 0.7866524 (440)\ttotal: 15.7s\tremaining: 19.8s\n",
      "442:\tlearn: 0.8110162\ttest: 0.7864279\tbest: 0.7866524 (440)\ttotal: 15.7s\tremaining: 19.7s\n",
      "443:\tlearn: 0.8110884\ttest: 0.7864841\tbest: 0.7866524 (440)\ttotal: 15.7s\tremaining: 19.7s\n",
      "444:\tlearn: 0.8113049\ttest: 0.7863718\tbest: 0.7866524 (440)\ttotal: 15.8s\tremaining: 19.7s\n",
      "445:\tlearn: 0.8111606\ttest: 0.7865402\tbest: 0.7866524 (440)\ttotal: 15.8s\tremaining: 19.6s\n",
      "446:\tlearn: 0.8111846\ttest: 0.7867086\tbest: 0.7867086 (446)\ttotal: 15.8s\tremaining: 19.6s\n",
      "447:\tlearn: 0.8112808\ttest: 0.7868770\tbest: 0.7868770 (447)\ttotal: 15.9s\tremaining: 19.5s\n",
      "448:\tlearn: 0.8112808\ttest: 0.7868770\tbest: 0.7868770 (447)\ttotal: 15.9s\tremaining: 19.5s\n",
      "449:\tlearn: 0.8112327\ttest: 0.7868208\tbest: 0.7868770 (447)\ttotal: 15.9s\tremaining: 19.4s\n",
      "450:\tlearn: 0.8110884\ttest: 0.7867647\tbest: 0.7868770 (447)\ttotal: 15.9s\tremaining: 19.4s\n",
      "451:\tlearn: 0.8110643\ttest: 0.7863718\tbest: 0.7868770 (447)\ttotal: 16s\tremaining: 19.4s\n",
      "452:\tlearn: 0.8111606\ttest: 0.7858666\tbest: 0.7868770 (447)\ttotal: 16s\tremaining: 19.3s\n",
      "453:\tlearn: 0.8114732\ttest: 0.7862595\tbest: 0.7868770 (447)\ttotal: 16s\tremaining: 19.3s\n",
      "454:\tlearn: 0.8115935\ttest: 0.7860912\tbest: 0.7868770 (447)\ttotal: 16.1s\tremaining: 19.2s\n",
      "455:\tlearn: 0.8115935\ttest: 0.7862034\tbest: 0.7868770 (447)\ttotal: 16.1s\tremaining: 19.2s\n",
      "456:\tlearn: 0.8116416\ttest: 0.7862595\tbest: 0.7868770 (447)\ttotal: 16.1s\tremaining: 19.2s\n",
      "457:\tlearn: 0.8117859\ttest: 0.7858666\tbest: 0.7868770 (447)\ttotal: 16.2s\tremaining: 19.1s\n",
      "458:\tlearn: 0.8117138\ttest: 0.7859228\tbest: 0.7868770 (447)\ttotal: 16.2s\tremaining: 19.1s\n",
      "459:\tlearn: 0.8117619\ttest: 0.7859228\tbest: 0.7868770 (447)\ttotal: 16.2s\tremaining: 19.1s\n",
      "460:\tlearn: 0.8115695\ttest: 0.7859228\tbest: 0.7868770 (447)\ttotal: 16.3s\tremaining: 19s\n",
      "461:\tlearn: 0.8116897\ttest: 0.7859789\tbest: 0.7868770 (447)\ttotal: 16.3s\tremaining: 19s\n",
      "462:\tlearn: 0.8117859\ttest: 0.7859789\tbest: 0.7868770 (447)\ttotal: 16.3s\tremaining: 18.9s\n",
      "463:\tlearn: 0.8117619\ttest: 0.7862595\tbest: 0.7868770 (447)\ttotal: 16.4s\tremaining: 18.9s\n",
      "464:\tlearn: 0.8118581\ttest: 0.7861473\tbest: 0.7868770 (447)\ttotal: 16.4s\tremaining: 18.9s\n",
      "465:\tlearn: 0.8118581\ttest: 0.7860350\tbest: 0.7868770 (447)\ttotal: 16.4s\tremaining: 18.8s\n",
      "466:\tlearn: 0.8120265\ttest: 0.7861473\tbest: 0.7868770 (447)\ttotal: 16.5s\tremaining: 18.8s\n",
      "467:\tlearn: 0.8122670\ttest: 0.7862034\tbest: 0.7868770 (447)\ttotal: 16.5s\tremaining: 18.8s\n",
      "468:\tlearn: 0.8123873\ttest: 0.7860350\tbest: 0.7868770 (447)\ttotal: 16.5s\tremaining: 18.7s\n",
      "469:\tlearn: 0.8123632\ttest: 0.7860350\tbest: 0.7868770 (447)\ttotal: 16.6s\tremaining: 18.7s\n",
      "470:\tlearn: 0.8123391\ttest: 0.7861473\tbest: 0.7868770 (447)\ttotal: 16.6s\tremaining: 18.6s\n",
      "471:\tlearn: 0.8123873\ttest: 0.7861473\tbest: 0.7868770 (447)\ttotal: 16.6s\tremaining: 18.6s\n",
      "472:\tlearn: 0.8125797\ttest: 0.7863157\tbest: 0.7868770 (447)\ttotal: 16.7s\tremaining: 18.6s\n",
      "473:\tlearn: 0.8126037\ttest: 0.7863157\tbest: 0.7868770 (447)\ttotal: 16.7s\tremaining: 18.5s\n",
      "474:\tlearn: 0.8126278\ttest: 0.7863718\tbest: 0.7868770 (447)\ttotal: 16.7s\tremaining: 18.5s\n",
      "475:\tlearn: 0.8127721\ttest: 0.7862034\tbest: 0.7868770 (447)\ttotal: 16.7s\tremaining: 18.4s\n",
      "476:\tlearn: 0.8128443\ttest: 0.7867647\tbest: 0.7868770 (447)\ttotal: 16.8s\tremaining: 18.4s\n",
      "477:\tlearn: 0.8127721\ttest: 0.7865963\tbest: 0.7868770 (447)\ttotal: 16.8s\tremaining: 18.4s\n",
      "478:\tlearn: 0.8129164\ttest: 0.7871015\tbest: 0.7871015 (478)\ttotal: 16.9s\tremaining: 18.3s\n",
      "479:\tlearn: 0.8130126\ttest: 0.7865963\tbest: 0.7871015 (478)\ttotal: 16.9s\tremaining: 18.3s\n",
      "480:\tlearn: 0.8131329\ttest: 0.7867086\tbest: 0.7871015 (478)\ttotal: 16.9s\tremaining: 18.3s\n",
      "481:\tlearn: 0.8132051\ttest: 0.7867086\tbest: 0.7871015 (478)\ttotal: 17s\tremaining: 18.3s\n",
      "482:\tlearn: 0.8130848\ttest: 0.7865402\tbest: 0.7871015 (478)\ttotal: 17s\tremaining: 18.2s\n",
      "483:\tlearn: 0.8132051\ttest: 0.7868208\tbest: 0.7871015 (478)\ttotal: 17.1s\tremaining: 18.2s\n",
      "484:\tlearn: 0.8131088\ttest: 0.7868208\tbest: 0.7871015 (478)\ttotal: 17.1s\tremaining: 18.2s\n",
      "485:\tlearn: 0.8130848\ttest: 0.7871576\tbest: 0.7871576 (485)\ttotal: 17.1s\tremaining: 18.1s\n",
      "486:\tlearn: 0.8131810\ttest: 0.7876628\tbest: 0.7876628 (486)\ttotal: 17.2s\tremaining: 18.1s\n",
      "487:\tlearn: 0.8132772\ttest: 0.7874383\tbest: 0.7876628 (486)\ttotal: 17.2s\tremaining: 18.1s\n",
      "488:\tlearn: 0.8133734\ttest: 0.7872699\tbest: 0.7876628 (486)\ttotal: 17.3s\tremaining: 18.1s\n",
      "489:\tlearn: 0.8132291\ttest: 0.7873821\tbest: 0.7876628 (486)\ttotal: 17.3s\tremaining: 18s\n",
      "490:\tlearn: 0.8132291\ttest: 0.7873821\tbest: 0.7876628 (486)\ttotal: 17.4s\tremaining: 18s\n",
      "491:\tlearn: 0.8131329\ttest: 0.7876628\tbest: 0.7876628 (486)\ttotal: 17.4s\tremaining: 18s\n",
      "492:\tlearn: 0.8134215\ttest: 0.7873821\tbest: 0.7876628 (486)\ttotal: 17.4s\tremaining: 17.9s\n",
      "493:\tlearn: 0.8132532\ttest: 0.7873821\tbest: 0.7876628 (486)\ttotal: 17.4s\tremaining: 17.9s\n",
      "494:\tlearn: 0.8131329\ttest: 0.7874944\tbest: 0.7876628 (486)\ttotal: 17.5s\tremaining: 17.8s\n",
      "495:\tlearn: 0.8133734\ttest: 0.7872137\tbest: 0.7876628 (486)\ttotal: 17.5s\tremaining: 17.8s\n",
      "496:\tlearn: 0.8133975\ttest: 0.7872699\tbest: 0.7876628 (486)\ttotal: 17.6s\tremaining: 17.8s\n",
      "497:\tlearn: 0.8134696\ttest: 0.7876628\tbest: 0.7876628 (486)\ttotal: 17.6s\tremaining: 17.8s\n",
      "498:\tlearn: 0.8135177\ttest: 0.7876066\tbest: 0.7876628 (486)\ttotal: 17.7s\tremaining: 17.7s\n",
      "499:\tlearn: 0.8135418\ttest: 0.7874944\tbest: 0.7876628 (486)\ttotal: 17.7s\tremaining: 17.7s\n",
      "500:\tlearn: 0.8137823\ttest: 0.7876066\tbest: 0.7876628 (486)\ttotal: 17.8s\tremaining: 17.7s\n",
      "501:\tlearn: 0.8137102\ttest: 0.7876628\tbest: 0.7876628 (486)\ttotal: 17.8s\tremaining: 17.7s\n",
      "502:\tlearn: 0.8138064\ttest: 0.7875505\tbest: 0.7876628 (486)\ttotal: 17.8s\tremaining: 17.6s\n",
      "503:\tlearn: 0.8138064\ttest: 0.7875505\tbest: 0.7876628 (486)\ttotal: 17.9s\tremaining: 17.6s\n",
      "504:\tlearn: 0.8139026\ttest: 0.7875505\tbest: 0.7876628 (486)\ttotal: 17.9s\tremaining: 17.6s\n",
      "505:\tlearn: 0.8137823\ttest: 0.7874944\tbest: 0.7876628 (486)\ttotal: 18s\tremaining: 17.5s\n",
      "506:\tlearn: 0.8135899\ttest: 0.7876628\tbest: 0.7876628 (486)\ttotal: 18s\tremaining: 17.5s\n",
      "507:\tlearn: 0.8136621\ttest: 0.7876066\tbest: 0.7876628 (486)\ttotal: 18s\tremaining: 17.5s\n",
      "508:\tlearn: 0.8136621\ttest: 0.7874944\tbest: 0.7876628 (486)\ttotal: 18s\tremaining: 17.4s\n",
      "509:\tlearn: 0.8139026\ttest: 0.7879434\tbest: 0.7879434 (509)\ttotal: 18.1s\tremaining: 17.4s\n",
      "510:\tlearn: 0.8139747\ttest: 0.7878873\tbest: 0.7879434 (509)\ttotal: 18.1s\tremaining: 17.3s\n",
      "511:\tlearn: 0.8140950\ttest: 0.7877750\tbest: 0.7879434 (509)\ttotal: 18.1s\tremaining: 17.3s\n",
      "512:\tlearn: 0.8141672\ttest: 0.7876628\tbest: 0.7879434 (509)\ttotal: 18.2s\tremaining: 17.2s\n",
      "513:\tlearn: 0.8144317\ttest: 0.7876066\tbest: 0.7879434 (509)\ttotal: 18.2s\tremaining: 17.2s\n",
      "514:\tlearn: 0.8145039\ttest: 0.7874944\tbest: 0.7879434 (509)\ttotal: 18.2s\tremaining: 17.2s\n",
      "515:\tlearn: 0.8144799\ttest: 0.7874383\tbest: 0.7879434 (509)\ttotal: 18.3s\tremaining: 17.1s\n",
      "516:\tlearn: 0.8146723\ttest: 0.7874383\tbest: 0.7879434 (509)\ttotal: 18.3s\tremaining: 17.1s\n",
      "517:\tlearn: 0.8146482\ttest: 0.7876628\tbest: 0.7879434 (509)\ttotal: 18.4s\tremaining: 17.1s\n",
      "518:\tlearn: 0.8146723\ttest: 0.7877189\tbest: 0.7879434 (509)\ttotal: 18.4s\tremaining: 17.1s\n",
      "519:\tlearn: 0.8148406\ttest: 0.7878312\tbest: 0.7879434 (509)\ttotal: 18.5s\tremaining: 17.1s\n",
      "520:\tlearn: 0.8148888\ttest: 0.7878873\tbest: 0.7879434 (509)\ttotal: 18.5s\tremaining: 17s\n",
      "521:\tlearn: 0.8152736\ttest: 0.7882802\tbest: 0.7882802 (521)\ttotal: 18.6s\tremaining: 17s\n",
      "522:\tlearn: 0.8152014\ttest: 0.7877189\tbest: 0.7882802 (521)\ttotal: 18.6s\tremaining: 17s\n",
      "523:\tlearn: 0.8152977\ttest: 0.7876628\tbest: 0.7882802 (521)\ttotal: 18.7s\tremaining: 16.9s\n",
      "524:\tlearn: 0.8153217\ttest: 0.7877189\tbest: 0.7882802 (521)\ttotal: 18.7s\tremaining: 16.9s\n",
      "525:\tlearn: 0.8155141\ttest: 0.7879996\tbest: 0.7882802 (521)\ttotal: 18.7s\tremaining: 16.9s\n",
      "526:\tlearn: 0.8157306\ttest: 0.7879996\tbest: 0.7882802 (521)\ttotal: 18.8s\tremaining: 16.8s\n",
      "527:\tlearn: 0.8157547\ttest: 0.7881118\tbest: 0.7882802 (521)\ttotal: 18.8s\tremaining: 16.8s\n",
      "528:\tlearn: 0.8157306\ttest: 0.7879996\tbest: 0.7882802 (521)\ttotal: 18.9s\tremaining: 16.8s\n",
      "529:\tlearn: 0.8157306\ttest: 0.7879996\tbest: 0.7882802 (521)\ttotal: 18.9s\tremaining: 16.8s\n",
      "530:\tlearn: 0.8159471\ttest: 0.7882802\tbest: 0.7882802 (521)\ttotal: 18.9s\tremaining: 16.7s\n",
      "531:\tlearn: 0.8159952\ttest: 0.7886731\tbest: 0.7886731 (531)\ttotal: 19s\tremaining: 16.7s\n",
      "532:\tlearn: 0.8158749\ttest: 0.7883925\tbest: 0.7886731 (531)\ttotal: 19s\tremaining: 16.7s\n",
      "533:\tlearn: 0.8158990\ttest: 0.7885047\tbest: 0.7886731 (531)\ttotal: 19.1s\tremaining: 16.6s\n",
      "534:\tlearn: 0.8160433\ttest: 0.7885047\tbest: 0.7886731 (531)\ttotal: 19.1s\tremaining: 16.6s\n",
      "535:\tlearn: 0.8160192\ttest: 0.7882241\tbest: 0.7886731 (531)\ttotal: 19.1s\tremaining: 16.6s\n",
      "536:\tlearn: 0.8158268\ttest: 0.7882241\tbest: 0.7886731 (531)\ttotal: 19.2s\tremaining: 16.5s\n",
      "537:\tlearn: 0.8160673\ttest: 0.7881679\tbest: 0.7886731 (531)\ttotal: 19.2s\tremaining: 16.5s\n",
      "538:\tlearn: 0.8160673\ttest: 0.7884486\tbest: 0.7886731 (531)\ttotal: 19.2s\tremaining: 16.4s\n",
      "539:\tlearn: 0.8161155\ttest: 0.7884486\tbest: 0.7886731 (531)\ttotal: 19.3s\tremaining: 16.4s\n",
      "540:\tlearn: 0.8161395\ttest: 0.7882802\tbest: 0.7886731 (531)\ttotal: 19.3s\tremaining: 16.4s\n",
      "541:\tlearn: 0.8166687\ttest: 0.7883363\tbest: 0.7886731 (531)\ttotal: 19.3s\tremaining: 16.3s\n",
      "542:\tlearn: 0.8166446\ttest: 0.7880557\tbest: 0.7886731 (531)\ttotal: 19.3s\tremaining: 16.3s\n",
      "543:\tlearn: 0.8167408\ttest: 0.7880557\tbest: 0.7886731 (531)\ttotal: 19.4s\tremaining: 16.2s\n",
      "544:\tlearn: 0.8167649\ttest: 0.7884486\tbest: 0.7886731 (531)\ttotal: 19.4s\tremaining: 16.2s\n",
      "545:\tlearn: 0.8166927\ttest: 0.7884486\tbest: 0.7886731 (531)\ttotal: 19.4s\tremaining: 16.2s\n",
      "546:\tlearn: 0.8170054\ttest: 0.7885047\tbest: 0.7886731 (531)\ttotal: 19.5s\tremaining: 16.1s\n",
      "547:\tlearn: 0.8169814\ttest: 0.7882802\tbest: 0.7886731 (531)\ttotal: 19.5s\tremaining: 16.1s\n",
      "548:\tlearn: 0.8171738\ttest: 0.7886731\tbest: 0.7886731 (531)\ttotal: 19.5s\tremaining: 16s\n",
      "549:\tlearn: 0.8172459\ttest: 0.7885608\tbest: 0.7886731 (531)\ttotal: 19.6s\tremaining: 16s\n",
      "550:\tlearn: 0.8172219\ttest: 0.7885608\tbest: 0.7886731 (531)\ttotal: 19.6s\tremaining: 16s\n",
      "551:\tlearn: 0.8170535\ttest: 0.7883363\tbest: 0.7886731 (531)\ttotal: 19.6s\tremaining: 15.9s\n",
      "552:\tlearn: 0.8171016\ttest: 0.7882802\tbest: 0.7886731 (531)\ttotal: 19.7s\tremaining: 15.9s\n",
      "553:\tlearn: 0.8171738\ttest: 0.7882241\tbest: 0.7886731 (531)\ttotal: 19.7s\tremaining: 15.9s\n",
      "554:\tlearn: 0.8170295\ttest: 0.7883363\tbest: 0.7886731 (531)\ttotal: 19.7s\tremaining: 15.8s\n",
      "555:\tlearn: 0.8170776\ttest: 0.7881118\tbest: 0.7886731 (531)\ttotal: 19.8s\tremaining: 15.8s\n",
      "556:\tlearn: 0.8171257\ttest: 0.7881679\tbest: 0.7886731 (531)\ttotal: 19.8s\tremaining: 15.7s\n",
      "557:\tlearn: 0.8172459\ttest: 0.7883363\tbest: 0.7886731 (531)\ttotal: 19.8s\tremaining: 15.7s\n",
      "558:\tlearn: 0.8172700\ttest: 0.7885608\tbest: 0.7886731 (531)\ttotal: 19.9s\tremaining: 15.7s\n",
      "559:\tlearn: 0.8173422\ttest: 0.7887292\tbest: 0.7887292 (559)\ttotal: 19.9s\tremaining: 15.6s\n",
      "560:\tlearn: 0.8172219\ttest: 0.7886170\tbest: 0.7887292 (559)\ttotal: 19.9s\tremaining: 15.6s\n",
      "561:\tlearn: 0.8175827\ttest: 0.7884486\tbest: 0.7887292 (559)\ttotal: 19.9s\tremaining: 15.5s\n",
      "562:\tlearn: 0.8177751\ttest: 0.7883925\tbest: 0.7887292 (559)\ttotal: 20s\tremaining: 15.5s\n",
      "563:\tlearn: 0.8177029\ttest: 0.7886170\tbest: 0.7887292 (559)\ttotal: 20s\tremaining: 15.5s\n",
      "564:\tlearn: 0.8176548\ttest: 0.7886731\tbest: 0.7887292 (559)\ttotal: 20s\tremaining: 15.4s\n",
      "565:\tlearn: 0.8176308\ttest: 0.7884486\tbest: 0.7887292 (559)\ttotal: 20.1s\tremaining: 15.4s\n",
      "566:\tlearn: 0.8176548\ttest: 0.7885608\tbest: 0.7887292 (559)\ttotal: 20.1s\tremaining: 15.3s\n",
      "567:\tlearn: 0.8177511\ttest: 0.7883925\tbest: 0.7887292 (559)\ttotal: 20.1s\tremaining: 15.3s\n",
      "568:\tlearn: 0.8178473\ttest: 0.7887292\tbest: 0.7887292 (559)\ttotal: 20.1s\tremaining: 15.3s\n",
      "569:\tlearn: 0.8177029\ttest: 0.7886731\tbest: 0.7887292 (559)\ttotal: 20.2s\tremaining: 15.2s\n",
      "570:\tlearn: 0.8177751\ttest: 0.7885047\tbest: 0.7887292 (559)\ttotal: 20.2s\tremaining: 15.2s\n",
      "571:\tlearn: 0.8177992\ttest: 0.7886170\tbest: 0.7887292 (559)\ttotal: 20.2s\tremaining: 15.1s\n",
      "572:\tlearn: 0.8178232\ttest: 0.7886731\tbest: 0.7887292 (559)\ttotal: 20.3s\tremaining: 15.1s\n",
      "573:\tlearn: 0.8180637\ttest: 0.7883925\tbest: 0.7887292 (559)\ttotal: 20.3s\tremaining: 15.1s\n",
      "574:\tlearn: 0.8181118\ttest: 0.7883363\tbest: 0.7887292 (559)\ttotal: 20.3s\tremaining: 15s\n",
      "575:\tlearn: 0.8181118\ttest: 0.7885608\tbest: 0.7887292 (559)\ttotal: 20.4s\tremaining: 15s\n",
      "576:\tlearn: 0.8181840\ttest: 0.7881679\tbest: 0.7887292 (559)\ttotal: 20.4s\tremaining: 14.9s\n",
      "577:\tlearn: 0.8182321\ttest: 0.7884486\tbest: 0.7887292 (559)\ttotal: 20.4s\tremaining: 14.9s\n",
      "578:\tlearn: 0.8182562\ttest: 0.7882802\tbest: 0.7887292 (559)\ttotal: 20.5s\tremaining: 14.9s\n",
      "579:\tlearn: 0.8185207\ttest: 0.7883925\tbest: 0.7887292 (559)\ttotal: 20.5s\tremaining: 14.8s\n",
      "580:\tlearn: 0.8186651\ttest: 0.7882802\tbest: 0.7887292 (559)\ttotal: 20.6s\tremaining: 14.8s\n",
      "581:\tlearn: 0.8186170\ttest: 0.7884486\tbest: 0.7887292 (559)\ttotal: 20.6s\tremaining: 14.8s\n",
      "582:\tlearn: 0.8186170\ttest: 0.7884486\tbest: 0.7887292 (559)\ttotal: 20.7s\tremaining: 14.8s\n",
      "583:\tlearn: 0.8188815\ttest: 0.7881679\tbest: 0.7887292 (559)\ttotal: 20.7s\tremaining: 14.7s\n",
      "584:\tlearn: 0.8187853\ttest: 0.7881679\tbest: 0.7887292 (559)\ttotal: 20.8s\tremaining: 14.7s\n",
      "585:\tlearn: 0.8190018\ttest: 0.7880557\tbest: 0.7887292 (559)\ttotal: 20.8s\tremaining: 14.7s\n",
      "586:\tlearn: 0.8189537\ttest: 0.7883363\tbest: 0.7887292 (559)\ttotal: 20.9s\tremaining: 14.7s\n",
      "587:\tlearn: 0.8190018\ttest: 0.7885047\tbest: 0.7887292 (559)\ttotal: 20.9s\tremaining: 14.6s\n",
      "588:\tlearn: 0.8190018\ttest: 0.7885047\tbest: 0.7887292 (559)\ttotal: 20.9s\tremaining: 14.6s\n",
      "589:\tlearn: 0.8190018\ttest: 0.7886170\tbest: 0.7887292 (559)\ttotal: 21s\tremaining: 14.6s\n",
      "590:\tlearn: 0.8190018\ttest: 0.7886170\tbest: 0.7887292 (559)\ttotal: 21s\tremaining: 14.5s\n",
      "591:\tlearn: 0.8191221\ttest: 0.7886170\tbest: 0.7887292 (559)\ttotal: 21.1s\tremaining: 14.5s\n",
      "592:\tlearn: 0.8191942\ttest: 0.7886731\tbest: 0.7887292 (559)\ttotal: 21.1s\tremaining: 14.5s\n",
      "593:\tlearn: 0.8191461\ttest: 0.7888976\tbest: 0.7888976 (593)\ttotal: 21.1s\tremaining: 14.4s\n",
      "594:\tlearn: 0.8191942\ttest: 0.7887854\tbest: 0.7888976 (593)\ttotal: 21.2s\tremaining: 14.4s\n",
      "595:\tlearn: 0.8193145\ttest: 0.7887292\tbest: 0.7888976 (593)\ttotal: 21.2s\tremaining: 14.4s\n",
      "596:\tlearn: 0.8192904\ttest: 0.7883925\tbest: 0.7888976 (593)\ttotal: 21.2s\tremaining: 14.3s\n",
      "597:\tlearn: 0.8191942\ttest: 0.7885608\tbest: 0.7888976 (593)\ttotal: 21.3s\tremaining: 14.3s\n",
      "598:\tlearn: 0.8194348\ttest: 0.7885047\tbest: 0.7888976 (593)\ttotal: 21.3s\tremaining: 14.3s\n",
      "599:\tlearn: 0.8193145\ttest: 0.7886731\tbest: 0.7888976 (593)\ttotal: 21.3s\tremaining: 14.2s\n",
      "600:\tlearn: 0.8192664\ttest: 0.7886731\tbest: 0.7888976 (593)\ttotal: 21.4s\tremaining: 14.2s\n",
      "601:\tlearn: 0.8195550\ttest: 0.7887854\tbest: 0.7888976 (593)\ttotal: 21.4s\tremaining: 14.2s\n",
      "602:\tlearn: 0.8196753\ttest: 0.7885608\tbest: 0.7888976 (593)\ttotal: 21.4s\tremaining: 14.1s\n",
      "603:\tlearn: 0.8196753\ttest: 0.7885047\tbest: 0.7888976 (593)\ttotal: 21.5s\tremaining: 14.1s\n",
      "604:\tlearn: 0.8197234\ttest: 0.7886731\tbest: 0.7888976 (593)\ttotal: 21.5s\tremaining: 14s\n",
      "605:\tlearn: 0.8197715\ttest: 0.7887292\tbest: 0.7888976 (593)\ttotal: 21.5s\tremaining: 14s\n",
      "606:\tlearn: 0.8198918\ttest: 0.7886170\tbest: 0.7888976 (593)\ttotal: 21.6s\tremaining: 14s\n",
      "607:\tlearn: 0.8199158\ttest: 0.7885608\tbest: 0.7888976 (593)\ttotal: 21.6s\tremaining: 13.9s\n",
      "608:\tlearn: 0.8202044\ttest: 0.7887854\tbest: 0.7888976 (593)\ttotal: 21.6s\tremaining: 13.9s\n",
      "609:\tlearn: 0.8201323\ttest: 0.7886170\tbest: 0.7888976 (593)\ttotal: 21.6s\tremaining: 13.8s\n",
      "610:\tlearn: 0.8201323\ttest: 0.7887854\tbest: 0.7888976 (593)\ttotal: 21.7s\tremaining: 13.8s\n",
      "611:\tlearn: 0.8202285\ttest: 0.7888415\tbest: 0.7888976 (593)\ttotal: 21.7s\tremaining: 13.8s\n",
      "612:\tlearn: 0.8199158\ttest: 0.7888415\tbest: 0.7888976 (593)\ttotal: 21.7s\tremaining: 13.7s\n",
      "613:\tlearn: 0.8201082\ttest: 0.7889537\tbest: 0.7889537 (613)\ttotal: 21.8s\tremaining: 13.7s\n",
      "614:\tlearn: 0.8201323\ttest: 0.7891221\tbest: 0.7891221 (614)\ttotal: 21.8s\tremaining: 13.6s\n",
      "615:\tlearn: 0.8203007\ttest: 0.7889537\tbest: 0.7891221 (614)\ttotal: 21.8s\tremaining: 13.6s\n",
      "616:\tlearn: 0.8202285\ttest: 0.7889537\tbest: 0.7891221 (614)\ttotal: 21.8s\tremaining: 13.6s\n",
      "617:\tlearn: 0.8203247\ttest: 0.7888976\tbest: 0.7891221 (614)\ttotal: 21.9s\tremaining: 13.5s\n",
      "618:\tlearn: 0.8204931\ttest: 0.7892905\tbest: 0.7892905 (618)\ttotal: 21.9s\tremaining: 13.5s\n",
      "619:\tlearn: 0.8202285\ttest: 0.7892905\tbest: 0.7892905 (618)\ttotal: 21.9s\tremaining: 13.4s\n",
      "620:\tlearn: 0.8202285\ttest: 0.7893467\tbest: 0.7893467 (620)\ttotal: 22s\tremaining: 13.4s\n",
      "621:\tlearn: 0.8203728\ttest: 0.7894028\tbest: 0.7894028 (621)\ttotal: 22s\tremaining: 13.4s\n",
      "622:\tlearn: 0.8205412\ttest: 0.7892905\tbest: 0.7894028 (621)\ttotal: 22s\tremaining: 13.3s\n",
      "623:\tlearn: 0.8207817\ttest: 0.7892905\tbest: 0.7894028 (621)\ttotal: 22s\tremaining: 13.3s\n",
      "624:\tlearn: 0.8208539\ttest: 0.7891783\tbest: 0.7894028 (621)\ttotal: 22.1s\tremaining: 13.2s\n",
      "625:\tlearn: 0.8209020\ttest: 0.7892905\tbest: 0.7894028 (621)\ttotal: 22.1s\tremaining: 13.2s\n",
      "626:\tlearn: 0.8210463\ttest: 0.7891221\tbest: 0.7894028 (621)\ttotal: 22.1s\tremaining: 13.2s\n",
      "627:\tlearn: 0.8210944\ttest: 0.7891783\tbest: 0.7894028 (621)\ttotal: 22.2s\tremaining: 13.1s\n",
      "628:\tlearn: 0.8213590\ttest: 0.7890660\tbest: 0.7894028 (621)\ttotal: 22.2s\tremaining: 13.1s\n",
      "629:\tlearn: 0.8215514\ttest: 0.7891221\tbest: 0.7894028 (621)\ttotal: 22.2s\tremaining: 13.1s\n",
      "630:\tlearn: 0.8213830\ttest: 0.7895712\tbest: 0.7895712 (630)\ttotal: 22.3s\tremaining: 13s\n",
      "631:\tlearn: 0.8215514\ttest: 0.7895150\tbest: 0.7895712 (630)\ttotal: 22.3s\tremaining: 13s\n",
      "632:\tlearn: 0.8214793\ttest: 0.7895712\tbest: 0.7895712 (630)\ttotal: 22.3s\tremaining: 12.9s\n",
      "633:\tlearn: 0.8215514\ttest: 0.7894028\tbest: 0.7895712 (630)\ttotal: 22.4s\tremaining: 12.9s\n",
      "634:\tlearn: 0.8215274\ttest: 0.7894589\tbest: 0.7895712 (630)\ttotal: 22.4s\tremaining: 12.9s\n",
      "635:\tlearn: 0.8217438\ttest: 0.7897957\tbest: 0.7897957 (635)\ttotal: 22.4s\tremaining: 12.8s\n",
      "636:\tlearn: 0.8217438\ttest: 0.7896834\tbest: 0.7897957 (635)\ttotal: 22.4s\tremaining: 12.8s\n",
      "637:\tlearn: 0.8218641\ttest: 0.7900202\tbest: 0.7900202 (637)\ttotal: 22.5s\tremaining: 12.8s\n",
      "638:\tlearn: 0.8214552\ttest: 0.7900202\tbest: 0.7900202 (637)\ttotal: 22.5s\tremaining: 12.7s\n",
      "639:\tlearn: 0.8215995\ttest: 0.7898518\tbest: 0.7900202 (637)\ttotal: 22.6s\tremaining: 12.7s\n",
      "640:\tlearn: 0.8218641\ttest: 0.7903009\tbest: 0.7903009 (640)\ttotal: 22.6s\tremaining: 12.7s\n",
      "641:\tlearn: 0.8217198\ttest: 0.7903570\tbest: 0.7903570 (641)\ttotal: 22.6s\tremaining: 12.6s\n",
      "642:\tlearn: 0.8217438\ttest: 0.7901886\tbest: 0.7903570 (641)\ttotal: 22.7s\tremaining: 12.6s\n",
      "643:\tlearn: 0.8217438\ttest: 0.7900202\tbest: 0.7903570 (641)\ttotal: 22.7s\tremaining: 12.6s\n",
      "644:\tlearn: 0.8218160\ttest: 0.7903009\tbest: 0.7903570 (641)\ttotal: 22.8s\tremaining: 12.5s\n",
      "645:\tlearn: 0.8220806\ttest: 0.7899641\tbest: 0.7903570 (641)\ttotal: 22.8s\tremaining: 12.5s\n",
      "646:\tlearn: 0.8221287\ttest: 0.7897957\tbest: 0.7903570 (641)\ttotal: 22.9s\tremaining: 12.5s\n",
      "647:\tlearn: 0.8221527\ttest: 0.7899079\tbest: 0.7903570 (641)\ttotal: 22.9s\tremaining: 12.4s\n",
      "648:\tlearn: 0.8221046\ttest: 0.7900202\tbest: 0.7903570 (641)\ttotal: 22.9s\tremaining: 12.4s\n",
      "649:\tlearn: 0.8220325\ttest: 0.7898518\tbest: 0.7903570 (641)\ttotal: 23s\tremaining: 12.4s\n",
      "650:\tlearn: 0.8223452\ttest: 0.7900763\tbest: 0.7903570 (641)\ttotal: 23s\tremaining: 12.3s\n",
      "651:\tlearn: 0.8222730\ttest: 0.7901886\tbest: 0.7903570 (641)\ttotal: 23.1s\tremaining: 12.3s\n",
      "652:\tlearn: 0.8222971\ttest: 0.7902447\tbest: 0.7903570 (641)\ttotal: 23.1s\tremaining: 12.3s\n",
      "653:\tlearn: 0.8222730\ttest: 0.7900202\tbest: 0.7903570 (641)\ttotal: 23.2s\tremaining: 12.3s\n",
      "654:\tlearn: 0.8224895\ttest: 0.7900202\tbest: 0.7903570 (641)\ttotal: 23.2s\tremaining: 12.2s\n",
      "655:\tlearn: 0.8224654\ttest: 0.7900763\tbest: 0.7903570 (641)\ttotal: 23.3s\tremaining: 12.2s\n",
      "656:\tlearn: 0.8224895\ttest: 0.7901886\tbest: 0.7903570 (641)\ttotal: 23.3s\tremaining: 12.2s\n",
      "657:\tlearn: 0.8225857\ttest: 0.7901325\tbest: 0.7903570 (641)\ttotal: 23.4s\tremaining: 12.1s\n",
      "658:\tlearn: 0.8226338\ttest: 0.7899079\tbest: 0.7903570 (641)\ttotal: 23.4s\tremaining: 12.1s\n",
      "659:\tlearn: 0.8228743\ttest: 0.7897957\tbest: 0.7903570 (641)\ttotal: 23.4s\tremaining: 12.1s\n",
      "660:\tlearn: 0.8229224\ttest: 0.7896273\tbest: 0.7903570 (641)\ttotal: 23.5s\tremaining: 12s\n",
      "661:\tlearn: 0.8231149\ttest: 0.7896834\tbest: 0.7903570 (641)\ttotal: 23.5s\tremaining: 12s\n",
      "662:\tlearn: 0.8232351\ttest: 0.7899641\tbest: 0.7903570 (641)\ttotal: 23.6s\tremaining: 12s\n",
      "663:\tlearn: 0.8232592\ttest: 0.7899641\tbest: 0.7903570 (641)\ttotal: 23.6s\tremaining: 12s\n",
      "664:\tlearn: 0.8232832\ttest: 0.7902447\tbest: 0.7903570 (641)\ttotal: 23.7s\tremaining: 11.9s\n",
      "665:\tlearn: 0.8233313\ttest: 0.7903570\tbest: 0.7903570 (641)\ttotal: 23.7s\tremaining: 11.9s\n",
      "666:\tlearn: 0.8233313\ttest: 0.7901886\tbest: 0.7903570 (641)\ttotal: 23.8s\tremaining: 11.9s\n",
      "667:\tlearn: 0.8232351\ttest: 0.7901886\tbest: 0.7903570 (641)\ttotal: 23.8s\tremaining: 11.8s\n",
      "668:\tlearn: 0.8231630\ttest: 0.7901325\tbest: 0.7903570 (641)\ttotal: 23.9s\tremaining: 11.8s\n",
      "669:\tlearn: 0.8232832\ttest: 0.7902447\tbest: 0.7903570 (641)\ttotal: 23.9s\tremaining: 11.8s\n",
      "670:\tlearn: 0.8232832\ttest: 0.7904692\tbest: 0.7904692 (670)\ttotal: 23.9s\tremaining: 11.7s\n",
      "671:\tlearn: 0.8233794\ttest: 0.7905254\tbest: 0.7905254 (671)\ttotal: 24s\tremaining: 11.7s\n",
      "672:\tlearn: 0.8234997\ttest: 0.7905254\tbest: 0.7905254 (671)\ttotal: 24s\tremaining: 11.7s\n",
      "673:\tlearn: 0.8235238\ttest: 0.7905254\tbest: 0.7905254 (671)\ttotal: 24.1s\tremaining: 11.7s\n",
      "674:\tlearn: 0.8234756\ttest: 0.7904692\tbest: 0.7905254 (671)\ttotal: 24.1s\tremaining: 11.6s\n",
      "675:\tlearn: 0.8235719\ttest: 0.7905254\tbest: 0.7905254 (671)\ttotal: 24.2s\tremaining: 11.6s\n",
      "676:\tlearn: 0.8236200\ttest: 0.7898518\tbest: 0.7905254 (671)\ttotal: 24.2s\tremaining: 11.6s\n",
      "677:\tlearn: 0.8237643\ttest: 0.7900763\tbest: 0.7905254 (671)\ttotal: 24.3s\tremaining: 11.5s\n",
      "678:\tlearn: 0.8235959\ttest: 0.7901325\tbest: 0.7905254 (671)\ttotal: 24.3s\tremaining: 11.5s\n",
      "679:\tlearn: 0.8241251\ttest: 0.7905254\tbest: 0.7905254 (671)\ttotal: 24.4s\tremaining: 11.5s\n",
      "680:\tlearn: 0.8241732\ttest: 0.7906376\tbest: 0.7906376 (680)\ttotal: 24.4s\tremaining: 11.4s\n",
      "681:\tlearn: 0.8241491\ttest: 0.7905815\tbest: 0.7906376 (680)\ttotal: 24.4s\tremaining: 11.4s\n",
      "682:\tlearn: 0.8241251\ttest: 0.7910867\tbest: 0.7910867 (682)\ttotal: 24.5s\tremaining: 11.4s\n",
      "683:\tlearn: 0.8241251\ttest: 0.7908060\tbest: 0.7910867 (682)\ttotal: 24.5s\tremaining: 11.3s\n",
      "684:\tlearn: 0.8242934\ttest: 0.7905815\tbest: 0.7910867 (682)\ttotal: 24.6s\tremaining: 11.3s\n",
      "685:\tlearn: 0.8242934\ttest: 0.7907499\tbest: 0.7910867 (682)\ttotal: 24.6s\tremaining: 11.3s\n",
      "686:\tlearn: 0.8243175\ttest: 0.7906938\tbest: 0.7910867 (682)\ttotal: 24.6s\tremaining: 11.2s\n",
      "687:\tlearn: 0.8247023\ttest: 0.7904131\tbest: 0.7910867 (682)\ttotal: 24.7s\tremaining: 11.2s\n",
      "688:\tlearn: 0.8246783\ttest: 0.7901325\tbest: 0.7910867 (682)\ttotal: 24.7s\tremaining: 11.2s\n",
      "689:\tlearn: 0.8245821\ttest: 0.7901886\tbest: 0.7910867 (682)\ttotal: 24.8s\tremaining: 11.1s\n",
      "690:\tlearn: 0.8245340\ttest: 0.7901325\tbest: 0.7910867 (682)\ttotal: 24.8s\tremaining: 11.1s\n",
      "691:\tlearn: 0.8247505\ttest: 0.7904692\tbest: 0.7910867 (682)\ttotal: 24.9s\tremaining: 11.1s\n",
      "692:\tlearn: 0.8247745\ttest: 0.7905254\tbest: 0.7910867 (682)\ttotal: 24.9s\tremaining: 11s\n",
      "693:\tlearn: 0.8247986\ttest: 0.7905254\tbest: 0.7910867 (682)\ttotal: 24.9s\tremaining: 11s\n",
      "694:\tlearn: 0.8247264\ttest: 0.7904692\tbest: 0.7910867 (682)\ttotal: 25s\tremaining: 10.9s\n",
      "695:\tlearn: 0.8247505\ttest: 0.7905254\tbest: 0.7910867 (682)\ttotal: 25s\tremaining: 10.9s\n",
      "696:\tlearn: 0.8247264\ttest: 0.7906376\tbest: 0.7910867 (682)\ttotal: 25s\tremaining: 10.9s\n",
      "697:\tlearn: 0.8247745\ttest: 0.7906376\tbest: 0.7910867 (682)\ttotal: 25.1s\tremaining: 10.8s\n",
      "698:\tlearn: 0.8246783\ttest: 0.7904692\tbest: 0.7910867 (682)\ttotal: 25.1s\tremaining: 10.8s\n",
      "699:\tlearn: 0.8247023\ttest: 0.7906376\tbest: 0.7910867 (682)\ttotal: 25.1s\tremaining: 10.8s\n",
      "700:\tlearn: 0.8244618\ttest: 0.7903570\tbest: 0.7910867 (682)\ttotal: 25.2s\tremaining: 10.7s\n",
      "701:\tlearn: 0.8244137\ttest: 0.7908060\tbest: 0.7910867 (682)\ttotal: 25.2s\tremaining: 10.7s\n",
      "702:\tlearn: 0.8246061\ttest: 0.7904131\tbest: 0.7910867 (682)\ttotal: 25.2s\tremaining: 10.7s\n",
      "703:\tlearn: 0.8247023\ttest: 0.7904692\tbest: 0.7910867 (682)\ttotal: 25.3s\tremaining: 10.6s\n",
      "704:\tlearn: 0.8246783\ttest: 0.7903570\tbest: 0.7910867 (682)\ttotal: 25.3s\tremaining: 10.6s\n",
      "705:\tlearn: 0.8251834\ttest: 0.7907499\tbest: 0.7910867 (682)\ttotal: 25.3s\tremaining: 10.5s\n",
      "706:\tlearn: 0.8250150\ttest: 0.7906938\tbest: 0.7910867 (682)\ttotal: 25.3s\tremaining: 10.5s\n",
      "707:\tlearn: 0.8248707\ttest: 0.7904692\tbest: 0.7910867 (682)\ttotal: 25.4s\tremaining: 10.5s\n",
      "708:\tlearn: 0.8249910\ttest: 0.7904692\tbest: 0.7910867 (682)\ttotal: 25.4s\tremaining: 10.4s\n",
      "709:\tlearn: 0.8248707\ttest: 0.7906938\tbest: 0.7910867 (682)\ttotal: 25.4s\tremaining: 10.4s\n",
      "710:\tlearn: 0.8251112\ttest: 0.7901886\tbest: 0.7910867 (682)\ttotal: 25.5s\tremaining: 10.4s\n",
      "711:\tlearn: 0.8249910\ttest: 0.7901886\tbest: 0.7910867 (682)\ttotal: 25.5s\tremaining: 10.3s\n",
      "712:\tlearn: 0.8251112\ttest: 0.7903009\tbest: 0.7910867 (682)\ttotal: 25.5s\tremaining: 10.3s\n",
      "713:\tlearn: 0.8252556\ttest: 0.7909744\tbest: 0.7910867 (682)\ttotal: 25.6s\tremaining: 10.2s\n",
      "714:\tlearn: 0.8253277\ttest: 0.7911428\tbest: 0.7911428 (714)\ttotal: 25.6s\tremaining: 10.2s\n",
      "715:\tlearn: 0.8255923\ttest: 0.7911428\tbest: 0.7911428 (714)\ttotal: 25.6s\tremaining: 10.2s\n",
      "716:\tlearn: 0.8258088\ttest: 0.7908060\tbest: 0.7911428 (714)\ttotal: 25.7s\tremaining: 10.1s\n",
      "717:\tlearn: 0.8258569\ttest: 0.7909183\tbest: 0.7911428 (714)\ttotal: 25.7s\tremaining: 10.1s\n",
      "718:\tlearn: 0.8257607\ttest: 0.7906938\tbest: 0.7911428 (714)\ttotal: 25.7s\tremaining: 10.1s\n",
      "719:\tlearn: 0.8259050\ttest: 0.7903570\tbest: 0.7911428 (714)\ttotal: 25.8s\tremaining: 10s\n",
      "720:\tlearn: 0.8259771\ttest: 0.7906376\tbest: 0.7911428 (714)\ttotal: 25.8s\tremaining: 9.98s\n",
      "721:\tlearn: 0.8257847\ttest: 0.7908621\tbest: 0.7911428 (714)\ttotal: 25.8s\tremaining: 9.94s\n",
      "722:\tlearn: 0.8258328\ttest: 0.7906938\tbest: 0.7911428 (714)\ttotal: 25.9s\tremaining: 9.9s\n",
      "723:\tlearn: 0.8260012\ttest: 0.7907499\tbest: 0.7911428 (714)\ttotal: 25.9s\tremaining: 9.87s\n",
      "724:\tlearn: 0.8261936\ttest: 0.7908621\tbest: 0.7911428 (714)\ttotal: 25.9s\tremaining: 9.83s\n",
      "725:\tlearn: 0.8261455\ttest: 0.7906376\tbest: 0.7911428 (714)\ttotal: 25.9s\tremaining: 9.79s\n",
      "726:\tlearn: 0.8260974\ttest: 0.7904131\tbest: 0.7911428 (714)\ttotal: 26s\tremaining: 9.76s\n",
      "727:\tlearn: 0.8261455\ttest: 0.7904692\tbest: 0.7911428 (714)\ttotal: 26s\tremaining: 9.72s\n",
      "728:\tlearn: 0.8260734\ttest: 0.7905815\tbest: 0.7911428 (714)\ttotal: 26s\tremaining: 9.68s\n",
      "729:\tlearn: 0.8263379\ttest: 0.7909744\tbest: 0.7911428 (714)\ttotal: 26.1s\tremaining: 9.64s\n",
      "730:\tlearn: 0.8262898\ttest: 0.7908060\tbest: 0.7911428 (714)\ttotal: 26.1s\tremaining: 9.6s\n",
      "731:\tlearn: 0.8263379\ttest: 0.7908621\tbest: 0.7911428 (714)\ttotal: 26.1s\tremaining: 9.56s\n",
      "732:\tlearn: 0.8265785\ttest: 0.7909183\tbest: 0.7911428 (714)\ttotal: 26.2s\tremaining: 9.53s\n",
      "733:\tlearn: 0.8266025\ttest: 0.7910305\tbest: 0.7911428 (714)\ttotal: 26.2s\tremaining: 9.49s\n",
      "734:\tlearn: 0.8266987\ttest: 0.7909744\tbest: 0.7911428 (714)\ttotal: 26.2s\tremaining: 9.45s\n",
      "735:\tlearn: 0.8266266\ttest: 0.7909183\tbest: 0.7911428 (714)\ttotal: 26.2s\tremaining: 9.41s\n",
      "736:\tlearn: 0.8266025\ttest: 0.7909183\tbest: 0.7911428 (714)\ttotal: 26.3s\tremaining: 9.37s\n",
      "737:\tlearn: 0.8266266\ttest: 0.7911428\tbest: 0.7911428 (714)\ttotal: 26.3s\tremaining: 9.34s\n",
      "738:\tlearn: 0.8265785\ttest: 0.7913112\tbest: 0.7913112 (738)\ttotal: 26.3s\tremaining: 9.3s\n",
      "739:\tlearn: 0.8266747\ttest: 0.7911428\tbest: 0.7913112 (738)\ttotal: 26.4s\tremaining: 9.27s\n",
      "740:\tlearn: 0.8268671\ttest: 0.7913112\tbest: 0.7913112 (738)\ttotal: 26.4s\tremaining: 9.23s\n",
      "741:\tlearn: 0.8268190\ttest: 0.7913112\tbest: 0.7913112 (738)\ttotal: 26.5s\tremaining: 9.2s\n",
      "742:\tlearn: 0.8271557\ttest: 0.7916480\tbest: 0.7916480 (742)\ttotal: 26.5s\tremaining: 9.17s\n",
      "743:\tlearn: 0.8273001\ttest: 0.7917041\tbest: 0.7917041 (743)\ttotal: 26.6s\tremaining: 9.14s\n",
      "744:\tlearn: 0.8273482\ttest: 0.7915918\tbest: 0.7917041 (743)\ttotal: 26.6s\tremaining: 9.1s\n",
      "745:\tlearn: 0.8274925\ttest: 0.7915357\tbest: 0.7917041 (743)\ttotal: 26.6s\tremaining: 9.07s\n",
      "746:\tlearn: 0.8276127\ttest: 0.7917041\tbest: 0.7917041 (743)\ttotal: 26.7s\tremaining: 9.03s\n",
      "747:\tlearn: 0.8273963\ttest: 0.7915357\tbest: 0.7917041 (743)\ttotal: 26.7s\tremaining: 9s\n",
      "748:\tlearn: 0.8275165\ttest: 0.7914796\tbest: 0.7917041 (743)\ttotal: 26.7s\tremaining: 8.96s\n",
      "749:\tlearn: 0.8274444\ttest: 0.7913673\tbest: 0.7917041 (743)\ttotal: 26.8s\tremaining: 8.93s\n",
      "750:\tlearn: 0.8275406\ttest: 0.7912551\tbest: 0.7917041 (743)\ttotal: 26.8s\tremaining: 8.89s\n",
      "751:\tlearn: 0.8276609\ttest: 0.7911428\tbest: 0.7917041 (743)\ttotal: 26.9s\tremaining: 8.86s\n",
      "752:\tlearn: 0.8274684\ttest: 0.7915918\tbest: 0.7917041 (743)\ttotal: 26.9s\tremaining: 8.82s\n",
      "753:\tlearn: 0.8273963\ttest: 0.7915918\tbest: 0.7917041 (743)\ttotal: 26.9s\tremaining: 8.79s\n",
      "754:\tlearn: 0.8275887\ttest: 0.7916480\tbest: 0.7917041 (743)\ttotal: 27s\tremaining: 8.75s\n",
      "755:\tlearn: 0.8276368\ttest: 0.7915357\tbest: 0.7917041 (743)\ttotal: 27s\tremaining: 8.72s\n",
      "756:\tlearn: 0.8276849\ttest: 0.7914796\tbest: 0.7917041 (743)\ttotal: 27s\tremaining: 8.68s\n",
      "757:\tlearn: 0.8276849\ttest: 0.7918163\tbest: 0.7918163 (757)\ttotal: 27.1s\tremaining: 8.64s\n",
      "758:\tlearn: 0.8276609\ttest: 0.7919847\tbest: 0.7919847 (758)\ttotal: 27.1s\tremaining: 8.61s\n",
      "759:\tlearn: 0.8277571\ttest: 0.7917041\tbest: 0.7919847 (758)\ttotal: 27.1s\tremaining: 8.57s\n",
      "760:\tlearn: 0.8277811\ttest: 0.7920409\tbest: 0.7920409 (760)\ttotal: 27.2s\tremaining: 8.53s\n",
      "761:\tlearn: 0.8276368\ttest: 0.7922654\tbest: 0.7922654 (761)\ttotal: 27.2s\tremaining: 8.49s\n",
      "762:\tlearn: 0.8277090\ttest: 0.7923776\tbest: 0.7923776 (762)\ttotal: 27.2s\tremaining: 8.46s\n",
      "763:\tlearn: 0.8277811\ttest: 0.7923776\tbest: 0.7923776 (762)\ttotal: 27.3s\tremaining: 8.42s\n",
      "764:\tlearn: 0.8279254\ttest: 0.7925460\tbest: 0.7925460 (764)\ttotal: 27.3s\tremaining: 8.38s\n",
      "765:\tlearn: 0.8279254\ttest: 0.7924899\tbest: 0.7925460 (764)\ttotal: 27.3s\tremaining: 8.34s\n",
      "766:\tlearn: 0.8279735\ttest: 0.7925460\tbest: 0.7925460 (764)\ttotal: 27.3s\tremaining: 8.3s\n",
      "767:\tlearn: 0.8278533\ttest: 0.7927144\tbest: 0.7927144 (767)\ttotal: 27.4s\tremaining: 8.27s\n",
      "768:\tlearn: 0.8279976\ttest: 0.7925460\tbest: 0.7927144 (767)\ttotal: 27.4s\tremaining: 8.23s\n",
      "769:\tlearn: 0.8279014\ttest: 0.7926022\tbest: 0.7927144 (767)\ttotal: 27.4s\tremaining: 8.19s\n",
      "770:\tlearn: 0.8280216\ttest: 0.7924899\tbest: 0.7927144 (767)\ttotal: 27.5s\tremaining: 8.16s\n",
      "771:\tlearn: 0.8281900\ttest: 0.7924899\tbest: 0.7927144 (767)\ttotal: 27.5s\tremaining: 8.12s\n",
      "772:\tlearn: 0.8280938\ttest: 0.7923776\tbest: 0.7927144 (767)\ttotal: 27.5s\tremaining: 8.09s\n",
      "773:\tlearn: 0.8280457\ttest: 0.7924338\tbest: 0.7927144 (767)\ttotal: 27.6s\tremaining: 8.05s\n",
      "774:\tlearn: 0.8283343\ttest: 0.7928267\tbest: 0.7928267 (774)\ttotal: 27.6s\tremaining: 8.01s\n",
      "775:\tlearn: 0.8282381\ttest: 0.7926583\tbest: 0.7928267 (774)\ttotal: 27.6s\tremaining: 7.97s\n",
      "776:\tlearn: 0.8281660\ttest: 0.7927705\tbest: 0.7928267 (774)\ttotal: 27.7s\tremaining: 7.94s\n",
      "777:\tlearn: 0.8282622\ttest: 0.7927705\tbest: 0.7928267 (774)\ttotal: 27.7s\tremaining: 7.9s\n",
      "778:\tlearn: 0.8280938\ttest: 0.7927705\tbest: 0.7928267 (774)\ttotal: 27.7s\tremaining: 7.86s\n",
      "779:\tlearn: 0.8281179\ttest: 0.7928267\tbest: 0.7928267 (774)\ttotal: 27.8s\tremaining: 7.83s\n",
      "780:\tlearn: 0.8282622\ttest: 0.7925460\tbest: 0.7928267 (774)\ttotal: 27.8s\tremaining: 7.79s\n",
      "781:\tlearn: 0.8284787\ttest: 0.7924338\tbest: 0.7928267 (774)\ttotal: 27.8s\tremaining: 7.75s\n",
      "782:\tlearn: 0.8289597\ttest: 0.7923215\tbest: 0.7928267 (774)\ttotal: 27.8s\tremaining: 7.71s\n",
      "783:\tlearn: 0.8290319\ttest: 0.7923215\tbest: 0.7928267 (774)\ttotal: 27.9s\tremaining: 7.68s\n",
      "784:\tlearn: 0.8288876\ttest: 0.7925460\tbest: 0.7928267 (774)\ttotal: 27.9s\tremaining: 7.65s\n",
      "785:\tlearn: 0.8289597\ttest: 0.7926022\tbest: 0.7928267 (774)\ttotal: 28s\tremaining: 7.62s\n",
      "786:\tlearn: 0.8290319\ttest: 0.7926583\tbest: 0.7928267 (774)\ttotal: 28s\tremaining: 7.58s\n",
      "787:\tlearn: 0.8289597\ttest: 0.7924338\tbest: 0.7928267 (774)\ttotal: 28s\tremaining: 7.54s\n",
      "788:\tlearn: 0.8288394\ttest: 0.7927144\tbest: 0.7928267 (774)\ttotal: 28.1s\tremaining: 7.51s\n",
      "789:\tlearn: 0.8287673\ttest: 0.7928828\tbest: 0.7928828 (789)\ttotal: 28.1s\tremaining: 7.47s\n",
      "790:\tlearn: 0.8290078\ttest: 0.7928267\tbest: 0.7928828 (789)\ttotal: 28.1s\tremaining: 7.43s\n",
      "791:\tlearn: 0.8290078\ttest: 0.7928267\tbest: 0.7928828 (789)\ttotal: 28.2s\tremaining: 7.39s\n",
      "792:\tlearn: 0.8289357\ttest: 0.7925460\tbest: 0.7928828 (789)\ttotal: 28.2s\tremaining: 7.36s\n",
      "793:\tlearn: 0.8290559\ttest: 0.7926022\tbest: 0.7928828 (789)\ttotal: 28.2s\tremaining: 7.33s\n",
      "794:\tlearn: 0.8290078\ttest: 0.7925460\tbest: 0.7928828 (789)\ttotal: 28.3s\tremaining: 7.3s\n",
      "795:\tlearn: 0.8288876\ttest: 0.7926583\tbest: 0.7928828 (789)\ttotal: 28.4s\tremaining: 7.26s\n",
      "796:\tlearn: 0.8288635\ttest: 0.7924899\tbest: 0.7928828 (789)\ttotal: 28.4s\tremaining: 7.23s\n",
      "797:\tlearn: 0.8288635\ttest: 0.7926022\tbest: 0.7928828 (789)\ttotal: 28.4s\tremaining: 7.2s\n",
      "798:\tlearn: 0.8290319\ttest: 0.7926583\tbest: 0.7928828 (789)\ttotal: 28.5s\tremaining: 7.16s\n",
      "799:\tlearn: 0.8290559\ttest: 0.7924899\tbest: 0.7928828 (789)\ttotal: 28.5s\tremaining: 7.13s\n",
      "800:\tlearn: 0.8290319\ttest: 0.7929389\tbest: 0.7929389 (800)\ttotal: 28.5s\tremaining: 7.09s\n",
      "801:\tlearn: 0.8292002\ttest: 0.7927144\tbest: 0.7929389 (800)\ttotal: 28.6s\tremaining: 7.05s\n",
      "802:\tlearn: 0.8291040\ttest: 0.7926022\tbest: 0.7929389 (800)\ttotal: 28.6s\tremaining: 7.01s\n",
      "803:\tlearn: 0.8292724\ttest: 0.7926583\tbest: 0.7929389 (800)\ttotal: 28.6s\tremaining: 6.98s\n",
      "804:\tlearn: 0.8293927\ttest: 0.7927144\tbest: 0.7929389 (800)\ttotal: 28.7s\tremaining: 6.94s\n",
      "805:\tlearn: 0.8292965\ttest: 0.7927144\tbest: 0.7929389 (800)\ttotal: 28.7s\tremaining: 6.9s\n",
      "806:\tlearn: 0.8293205\ttest: 0.7926022\tbest: 0.7929389 (800)\ttotal: 28.7s\tremaining: 6.87s\n",
      "807:\tlearn: 0.8294889\ttest: 0.7926583\tbest: 0.7929389 (800)\ttotal: 28.7s\tremaining: 6.83s\n",
      "808:\tlearn: 0.8294167\ttest: 0.7922654\tbest: 0.7929389 (800)\ttotal: 28.8s\tremaining: 6.79s\n",
      "809:\tlearn: 0.8297294\ttest: 0.7928267\tbest: 0.7929389 (800)\ttotal: 28.8s\tremaining: 6.75s\n",
      "810:\tlearn: 0.8298497\ttest: 0.7929951\tbest: 0.7929951 (810)\ttotal: 28.8s\tremaining: 6.72s\n",
      "811:\tlearn: 0.8298497\ttest: 0.7930512\tbest: 0.7930512 (811)\ttotal: 28.9s\tremaining: 6.68s\n",
      "812:\tlearn: 0.8299459\ttest: 0.7932196\tbest: 0.7932196 (812)\ttotal: 28.9s\tremaining: 6.64s\n",
      "813:\tlearn: 0.8297535\ttest: 0.7931073\tbest: 0.7932196 (812)\ttotal: 28.9s\tremaining: 6.61s\n",
      "814:\tlearn: 0.8298737\ttest: 0.7930512\tbest: 0.7932196 (812)\ttotal: 28.9s\tremaining: 6.57s\n",
      "815:\tlearn: 0.8298256\ttest: 0.7929389\tbest: 0.7932196 (812)\ttotal: 29s\tremaining: 6.53s\n",
      "816:\tlearn: 0.8300180\ttest: 0.7930512\tbest: 0.7932196 (812)\ttotal: 29s\tremaining: 6.5s\n",
      "817:\tlearn: 0.8300661\ttest: 0.7929951\tbest: 0.7932196 (812)\ttotal: 29s\tremaining: 6.46s\n",
      "818:\tlearn: 0.8298978\ttest: 0.7928828\tbest: 0.7932196 (812)\ttotal: 29.1s\tremaining: 6.42s\n",
      "819:\tlearn: 0.8299459\ttest: 0.7929389\tbest: 0.7932196 (812)\ttotal: 29.1s\tremaining: 6.38s\n",
      "820:\tlearn: 0.8299699\ttest: 0.7931073\tbest: 0.7932196 (812)\ttotal: 29.1s\tremaining: 6.35s\n",
      "821:\tlearn: 0.8301864\ttest: 0.7931073\tbest: 0.7932196 (812)\ttotal: 29.2s\tremaining: 6.31s\n",
      "822:\tlearn: 0.8300902\ttest: 0.7928828\tbest: 0.7932196 (812)\ttotal: 29.2s\tremaining: 6.28s\n",
      "823:\tlearn: 0.8300421\ttest: 0.7928828\tbest: 0.7932196 (812)\ttotal: 29.2s\tremaining: 6.24s\n",
      "824:\tlearn: 0.8300421\ttest: 0.7929389\tbest: 0.7932196 (812)\ttotal: 29.2s\tremaining: 6.2s\n",
      "825:\tlearn: 0.8301864\ttest: 0.7931634\tbest: 0.7932196 (812)\ttotal: 29.3s\tremaining: 6.17s\n",
      "826:\tlearn: 0.8302105\ttest: 0.7931634\tbest: 0.7932196 (812)\ttotal: 29.3s\tremaining: 6.13s\n",
      "827:\tlearn: 0.8303548\ttest: 0.7929951\tbest: 0.7932196 (812)\ttotal: 29.3s\tremaining: 6.09s\n",
      "828:\tlearn: 0.8301864\ttest: 0.7927144\tbest: 0.7932196 (812)\ttotal: 29.4s\tremaining: 6.05s\n",
      "829:\tlearn: 0.8301383\ttest: 0.7928267\tbest: 0.7932196 (812)\ttotal: 29.4s\tremaining: 6.02s\n",
      "830:\tlearn: 0.8300421\ttest: 0.7927144\tbest: 0.7932196 (812)\ttotal: 29.4s\tremaining: 5.98s\n",
      "831:\tlearn: 0.8301383\ttest: 0.7925460\tbest: 0.7932196 (812)\ttotal: 29.5s\tremaining: 5.95s\n",
      "832:\tlearn: 0.8301383\ttest: 0.7926022\tbest: 0.7932196 (812)\ttotal: 29.5s\tremaining: 5.91s\n",
      "833:\tlearn: 0.8301624\ttest: 0.7924899\tbest: 0.7932196 (812)\ttotal: 29.6s\tremaining: 5.88s\n",
      "834:\tlearn: 0.8302105\ttest: 0.7924899\tbest: 0.7932196 (812)\ttotal: 29.6s\tremaining: 5.85s\n",
      "835:\tlearn: 0.8303067\ttest: 0.7926583\tbest: 0.7932196 (812)\ttotal: 29.6s\tremaining: 5.82s\n",
      "836:\tlearn: 0.8302826\ttest: 0.7926583\tbest: 0.7932196 (812)\ttotal: 29.7s\tremaining: 5.78s\n",
      "837:\tlearn: 0.8302586\ttest: 0.7926583\tbest: 0.7932196 (812)\ttotal: 29.7s\tremaining: 5.75s\n",
      "838:\tlearn: 0.8302826\ttest: 0.7927144\tbest: 0.7932196 (812)\ttotal: 29.8s\tremaining: 5.71s\n",
      "839:\tlearn: 0.8303307\ttest: 0.7929389\tbest: 0.7932196 (812)\ttotal: 29.8s\tremaining: 5.68s\n",
      "840:\tlearn: 0.8304269\ttest: 0.7927144\tbest: 0.7932196 (812)\ttotal: 29.8s\tremaining: 5.64s\n",
      "841:\tlearn: 0.8305232\ttest: 0.7923776\tbest: 0.7932196 (812)\ttotal: 29.9s\tremaining: 5.61s\n",
      "842:\tlearn: 0.8304029\ttest: 0.7923215\tbest: 0.7932196 (812)\ttotal: 29.9s\tremaining: 5.57s\n",
      "843:\tlearn: 0.8303788\ttest: 0.7924899\tbest: 0.7932196 (812)\ttotal: 29.9s\tremaining: 5.54s\n",
      "844:\tlearn: 0.8303788\ttest: 0.7924899\tbest: 0.7932196 (812)\ttotal: 30s\tremaining: 5.5s\n",
      "845:\tlearn: 0.8305953\ttest: 0.7925460\tbest: 0.7932196 (812)\ttotal: 30s\tremaining: 5.46s\n",
      "846:\tlearn: 0.8308118\ttest: 0.7926022\tbest: 0.7932196 (812)\ttotal: 30s\tremaining: 5.42s\n",
      "847:\tlearn: 0.8308118\ttest: 0.7923215\tbest: 0.7932196 (812)\ttotal: 30.1s\tremaining: 5.39s\n",
      "848:\tlearn: 0.8309321\ttest: 0.7923776\tbest: 0.7932196 (812)\ttotal: 30.1s\tremaining: 5.35s\n",
      "849:\tlearn: 0.8306915\ttest: 0.7924338\tbest: 0.7932196 (812)\ttotal: 30.1s\tremaining: 5.32s\n",
      "850:\tlearn: 0.8308599\ttest: 0.7925460\tbest: 0.7932196 (812)\ttotal: 30.1s\tremaining: 5.28s\n",
      "851:\tlearn: 0.8309321\ttest: 0.7926022\tbest: 0.7932196 (812)\ttotal: 30.2s\tremaining: 5.24s\n",
      "852:\tlearn: 0.8308599\ttest: 0.7923776\tbest: 0.7932196 (812)\ttotal: 30.2s\tremaining: 5.21s\n",
      "853:\tlearn: 0.8309802\ttest: 0.7922654\tbest: 0.7932196 (812)\ttotal: 30.2s\tremaining: 5.17s\n",
      "854:\tlearn: 0.8311726\ttest: 0.7923215\tbest: 0.7932196 (812)\ttotal: 30.3s\tremaining: 5.13s\n",
      "855:\tlearn: 0.8312688\ttest: 0.7923215\tbest: 0.7932196 (812)\ttotal: 30.3s\tremaining: 5.09s\n",
      "856:\tlearn: 0.8313891\ttest: 0.7921531\tbest: 0.7932196 (812)\ttotal: 30.3s\tremaining: 5.06s\n",
      "857:\tlearn: 0.8312928\ttest: 0.7923215\tbest: 0.7932196 (812)\ttotal: 30.4s\tremaining: 5.03s\n",
      "858:\tlearn: 0.8313650\ttest: 0.7921531\tbest: 0.7932196 (812)\ttotal: 30.4s\tremaining: 4.99s\n",
      "859:\tlearn: 0.8315093\ttest: 0.7922654\tbest: 0.7932196 (812)\ttotal: 30.5s\tremaining: 4.96s\n",
      "860:\tlearn: 0.8315093\ttest: 0.7922093\tbest: 0.7932196 (812)\ttotal: 30.5s\tremaining: 4.93s\n",
      "861:\tlearn: 0.8315815\ttest: 0.7922093\tbest: 0.7932196 (812)\ttotal: 30.6s\tremaining: 4.9s\n",
      "862:\tlearn: 0.8315815\ttest: 0.7923215\tbest: 0.7932196 (812)\ttotal: 30.6s\tremaining: 4.86s\n",
      "863:\tlearn: 0.8315093\ttest: 0.7923215\tbest: 0.7932196 (812)\ttotal: 30.7s\tremaining: 4.83s\n",
      "864:\tlearn: 0.8316055\ttest: 0.7923776\tbest: 0.7932196 (812)\ttotal: 30.7s\tremaining: 4.8s\n",
      "865:\tlearn: 0.8316777\ttest: 0.7923776\tbest: 0.7932196 (812)\ttotal: 30.8s\tremaining: 4.76s\n",
      "866:\tlearn: 0.8318220\ttest: 0.7929389\tbest: 0.7932196 (812)\ttotal: 30.8s\tremaining: 4.73s\n",
      "867:\tlearn: 0.8318701\ttest: 0.7928828\tbest: 0.7932196 (812)\ttotal: 30.9s\tremaining: 4.7s\n",
      "868:\tlearn: 0.8319663\ttest: 0.7930512\tbest: 0.7932196 (812)\ttotal: 30.9s\tremaining: 4.66s\n",
      "869:\tlearn: 0.8319663\ttest: 0.7930512\tbest: 0.7932196 (812)\ttotal: 31s\tremaining: 4.63s\n",
      "870:\tlearn: 0.8320625\ttest: 0.7930512\tbest: 0.7932196 (812)\ttotal: 31s\tremaining: 4.59s\n",
      "871:\tlearn: 0.8320144\ttest: 0.7930512\tbest: 0.7932196 (812)\ttotal: 31s\tremaining: 4.56s\n",
      "872:\tlearn: 0.8320625\ttest: 0.7931634\tbest: 0.7932196 (812)\ttotal: 31.1s\tremaining: 4.52s\n",
      "873:\tlearn: 0.8320385\ttest: 0.7931634\tbest: 0.7932196 (812)\ttotal: 31.1s\tremaining: 4.49s\n",
      "874:\tlearn: 0.8321106\ttest: 0.7927705\tbest: 0.7932196 (812)\ttotal: 31.1s\tremaining: 4.45s\n",
      "875:\tlearn: 0.8321828\ttest: 0.7925460\tbest: 0.7932196 (812)\ttotal: 31.2s\tremaining: 4.41s\n",
      "876:\tlearn: 0.8321828\ttest: 0.7925460\tbest: 0.7932196 (812)\ttotal: 31.2s\tremaining: 4.38s\n",
      "877:\tlearn: 0.8322790\ttest: 0.7926583\tbest: 0.7932196 (812)\ttotal: 31.2s\tremaining: 4.34s\n",
      "878:\tlearn: 0.8321347\ttest: 0.7930512\tbest: 0.7932196 (812)\ttotal: 31.3s\tremaining: 4.3s\n",
      "879:\tlearn: 0.8324233\ttest: 0.7933318\tbest: 0.7933318 (879)\ttotal: 31.3s\tremaining: 4.27s\n",
      "880:\tlearn: 0.8324474\ttest: 0.7933880\tbest: 0.7933880 (880)\ttotal: 31.3s\tremaining: 4.23s\n",
      "881:\tlearn: 0.8323512\ttest: 0.7933880\tbest: 0.7933880 (880)\ttotal: 31.4s\tremaining: 4.2s\n",
      "882:\tlearn: 0.8325436\ttest: 0.7934441\tbest: 0.7934441 (882)\ttotal: 31.4s\tremaining: 4.16s\n",
      "883:\tlearn: 0.8327120\ttest: 0.7933318\tbest: 0.7934441 (882)\ttotal: 31.4s\tremaining: 4.12s\n",
      "884:\tlearn: 0.8326879\ttest: 0.7933880\tbest: 0.7934441 (882)\ttotal: 31.4s\tremaining: 4.09s\n",
      "885:\tlearn: 0.8326879\ttest: 0.7938370\tbest: 0.7938370 (885)\ttotal: 31.5s\tremaining: 4.05s\n",
      "886:\tlearn: 0.8326398\ttest: 0.7935002\tbest: 0.7938370 (885)\ttotal: 31.5s\tremaining: 4.01s\n",
      "887:\tlearn: 0.8327601\ttest: 0.7935002\tbest: 0.7938370 (885)\ttotal: 31.5s\tremaining: 3.98s\n",
      "888:\tlearn: 0.8328803\ttest: 0.7935564\tbest: 0.7938370 (885)\ttotal: 31.6s\tremaining: 3.94s\n",
      "889:\tlearn: 0.8328803\ttest: 0.7935002\tbest: 0.7938370 (885)\ttotal: 31.6s\tremaining: 3.9s\n",
      "890:\tlearn: 0.8329765\ttest: 0.7935002\tbest: 0.7938370 (885)\ttotal: 31.6s\tremaining: 3.87s\n",
      "891:\tlearn: 0.8330487\ttest: 0.7933318\tbest: 0.7938370 (885)\ttotal: 31.7s\tremaining: 3.83s\n",
      "892:\tlearn: 0.8330006\ttest: 0.7931634\tbest: 0.7938370 (885)\ttotal: 31.7s\tremaining: 3.8s\n",
      "893:\tlearn: 0.8331209\ttest: 0.7934441\tbest: 0.7938370 (885)\ttotal: 31.7s\tremaining: 3.76s\n",
      "894:\tlearn: 0.8331690\ttest: 0.7941176\tbest: 0.7941176 (894)\ttotal: 31.7s\tremaining: 3.72s\n",
      "895:\tlearn: 0.8332892\ttest: 0.7936686\tbest: 0.7941176 (894)\ttotal: 31.8s\tremaining: 3.69s\n",
      "896:\tlearn: 0.8335779\ttest: 0.7935002\tbest: 0.7941176 (894)\ttotal: 31.8s\tremaining: 3.65s\n",
      "897:\tlearn: 0.8335298\ttest: 0.7934441\tbest: 0.7941176 (894)\ttotal: 31.8s\tremaining: 3.62s\n",
      "898:\tlearn: 0.8336981\ttest: 0.7935564\tbest: 0.7941176 (894)\ttotal: 31.9s\tremaining: 3.58s\n",
      "899:\tlearn: 0.8339146\ttest: 0.7939493\tbest: 0.7941176 (894)\ttotal: 31.9s\tremaining: 3.54s\n",
      "900:\tlearn: 0.8338184\ttest: 0.7935002\tbest: 0.7941176 (894)\ttotal: 31.9s\tremaining: 3.51s\n",
      "901:\tlearn: 0.8337222\ttest: 0.7933318\tbest: 0.7941176 (894)\ttotal: 32s\tremaining: 3.47s\n",
      "902:\tlearn: 0.8339387\ttest: 0.7930512\tbest: 0.7941176 (894)\ttotal: 32s\tremaining: 3.44s\n",
      "903:\tlearn: 0.8337703\ttest: 0.7932757\tbest: 0.7941176 (894)\ttotal: 32s\tremaining: 3.4s\n",
      "904:\tlearn: 0.8340830\ttest: 0.7929389\tbest: 0.7941176 (894)\ttotal: 32s\tremaining: 3.36s\n",
      "905:\tlearn: 0.8340108\ttest: 0.7929951\tbest: 0.7941176 (894)\ttotal: 32.1s\tremaining: 3.33s\n",
      "906:\tlearn: 0.8341070\ttest: 0.7929951\tbest: 0.7941176 (894)\ttotal: 32.1s\tremaining: 3.29s\n",
      "907:\tlearn: 0.8341311\ttest: 0.7931073\tbest: 0.7941176 (894)\ttotal: 32.2s\tremaining: 3.26s\n",
      "908:\tlearn: 0.8341792\ttest: 0.7933318\tbest: 0.7941176 (894)\ttotal: 32.2s\tremaining: 3.23s\n",
      "909:\tlearn: 0.8342032\ttest: 0.7933880\tbest: 0.7941176 (894)\ttotal: 32.3s\tremaining: 3.19s\n",
      "910:\tlearn: 0.8338906\ttest: 0.7936125\tbest: 0.7941176 (894)\ttotal: 32.3s\tremaining: 3.15s\n",
      "911:\tlearn: 0.8339627\ttest: 0.7933880\tbest: 0.7941176 (894)\ttotal: 32.3s\tremaining: 3.12s\n",
      "912:\tlearn: 0.8339627\ttest: 0.7933318\tbest: 0.7941176 (894)\ttotal: 32.4s\tremaining: 3.08s\n",
      "913:\tlearn: 0.8340349\ttest: 0.7933318\tbest: 0.7941176 (894)\ttotal: 32.4s\tremaining: 3.05s\n",
      "914:\tlearn: 0.8341551\ttest: 0.7935002\tbest: 0.7941176 (894)\ttotal: 32.5s\tremaining: 3.01s\n",
      "915:\tlearn: 0.8343235\ttest: 0.7935564\tbest: 0.7941176 (894)\ttotal: 32.5s\tremaining: 2.98s\n",
      "916:\tlearn: 0.8344919\ttest: 0.7932757\tbest: 0.7941176 (894)\ttotal: 32.5s\tremaining: 2.94s\n",
      "917:\tlearn: 0.8345400\ttest: 0.7934441\tbest: 0.7941176 (894)\ttotal: 32.6s\tremaining: 2.91s\n",
      "918:\tlearn: 0.8346362\ttest: 0.7935564\tbest: 0.7941176 (894)\ttotal: 32.6s\tremaining: 2.87s\n",
      "919:\tlearn: 0.8347805\ttest: 0.7937809\tbest: 0.7941176 (894)\ttotal: 32.6s\tremaining: 2.84s\n",
      "920:\tlearn: 0.8347805\ttest: 0.7935564\tbest: 0.7941176 (894)\ttotal: 32.6s\tremaining: 2.8s\n",
      "921:\tlearn: 0.8349008\ttest: 0.7935002\tbest: 0.7941176 (894)\ttotal: 32.7s\tremaining: 2.76s\n",
      "922:\tlearn: 0.8348767\ttest: 0.7936125\tbest: 0.7941176 (894)\ttotal: 32.7s\tremaining: 2.73s\n",
      "923:\tlearn: 0.8349729\ttest: 0.7938370\tbest: 0.7941176 (894)\ttotal: 32.7s\tremaining: 2.69s\n",
      "924:\tlearn: 0.8348767\ttest: 0.7936125\tbest: 0.7941176 (894)\ttotal: 32.8s\tremaining: 2.66s\n",
      "925:\tlearn: 0.8349489\ttest: 0.7933318\tbest: 0.7941176 (894)\ttotal: 32.8s\tremaining: 2.62s\n",
      "926:\tlearn: 0.8349008\ttest: 0.7932196\tbest: 0.7941176 (894)\ttotal: 32.8s\tremaining: 2.58s\n",
      "927:\tlearn: 0.8348527\ttest: 0.7933318\tbest: 0.7941176 (894)\ttotal: 32.9s\tremaining: 2.55s\n",
      "928:\tlearn: 0.8348286\ttest: 0.7933318\tbest: 0.7941176 (894)\ttotal: 32.9s\tremaining: 2.51s\n",
      "929:\tlearn: 0.8349248\ttest: 0.7930512\tbest: 0.7941176 (894)\ttotal: 32.9s\tremaining: 2.48s\n",
      "930:\tlearn: 0.8349008\ttest: 0.7932196\tbest: 0.7941176 (894)\ttotal: 33s\tremaining: 2.44s\n",
      "931:\tlearn: 0.8349729\ttest: 0.7933318\tbest: 0.7941176 (894)\ttotal: 33s\tremaining: 2.41s\n",
      "932:\tlearn: 0.8347805\ttest: 0.7932757\tbest: 0.7941176 (894)\ttotal: 33.1s\tremaining: 2.38s\n",
      "933:\tlearn: 0.8349008\ttest: 0.7934441\tbest: 0.7941176 (894)\ttotal: 33.2s\tremaining: 2.34s\n",
      "934:\tlearn: 0.8349729\ttest: 0.7933880\tbest: 0.7941176 (894)\ttotal: 33.2s\tremaining: 2.31s\n",
      "935:\tlearn: 0.8350932\ttest: 0.7935002\tbest: 0.7941176 (894)\ttotal: 33.2s\tremaining: 2.27s\n",
      "936:\tlearn: 0.8351654\ttest: 0.7935002\tbest: 0.7941176 (894)\ttotal: 33.3s\tremaining: 2.24s\n",
      "937:\tlearn: 0.8353337\ttest: 0.7936125\tbest: 0.7941176 (894)\ttotal: 33.3s\tremaining: 2.2s\n",
      "938:\tlearn: 0.8352135\ttest: 0.7936125\tbest: 0.7941176 (894)\ttotal: 33.3s\tremaining: 2.17s\n",
      "939:\tlearn: 0.8352856\ttest: 0.7935564\tbest: 0.7941176 (894)\ttotal: 33.4s\tremaining: 2.13s\n",
      "940:\tlearn: 0.8350692\ttest: 0.7935002\tbest: 0.7941176 (894)\ttotal: 33.4s\tremaining: 2.09s\n",
      "941:\tlearn: 0.8350451\ttest: 0.7935002\tbest: 0.7941176 (894)\ttotal: 33.4s\tremaining: 2.06s\n",
      "942:\tlearn: 0.8352135\ttest: 0.7931073\tbest: 0.7941176 (894)\ttotal: 33.5s\tremaining: 2.02s\n",
      "943:\tlearn: 0.8350932\ttest: 0.7931634\tbest: 0.7941176 (894)\ttotal: 33.5s\tremaining: 1.99s\n",
      "944:\tlearn: 0.8351413\ttest: 0.7931634\tbest: 0.7941176 (894)\ttotal: 33.5s\tremaining: 1.95s\n",
      "945:\tlearn: 0.8352856\ttest: 0.7932196\tbest: 0.7941176 (894)\ttotal: 33.6s\tremaining: 1.92s\n",
      "946:\tlearn: 0.8354299\ttest: 0.7932196\tbest: 0.7941176 (894)\ttotal: 33.6s\tremaining: 1.88s\n",
      "947:\tlearn: 0.8351894\ttest: 0.7932757\tbest: 0.7941176 (894)\ttotal: 33.7s\tremaining: 1.85s\n",
      "948:\tlearn: 0.8354781\ttest: 0.7933318\tbest: 0.7941176 (894)\ttotal: 33.7s\tremaining: 1.81s\n",
      "949:\tlearn: 0.8353818\ttest: 0.7935002\tbest: 0.7941176 (894)\ttotal: 33.7s\tremaining: 1.78s\n",
      "950:\tlearn: 0.8355262\ttest: 0.7936125\tbest: 0.7941176 (894)\ttotal: 33.8s\tremaining: 1.74s\n",
      "951:\tlearn: 0.8356705\ttest: 0.7935564\tbest: 0.7941176 (894)\ttotal: 33.8s\tremaining: 1.7s\n",
      "952:\tlearn: 0.8355502\ttest: 0.7935002\tbest: 0.7941176 (894)\ttotal: 33.8s\tremaining: 1.67s\n",
      "953:\tlearn: 0.8355983\ttest: 0.7936125\tbest: 0.7941176 (894)\ttotal: 33.9s\tremaining: 1.63s\n",
      "954:\tlearn: 0.8355743\ttest: 0.7936125\tbest: 0.7941176 (894)\ttotal: 33.9s\tremaining: 1.6s\n",
      "955:\tlearn: 0.8355743\ttest: 0.7936125\tbest: 0.7941176 (894)\ttotal: 33.9s\tremaining: 1.56s\n",
      "956:\tlearn: 0.8356945\ttest: 0.7934441\tbest: 0.7941176 (894)\ttotal: 34s\tremaining: 1.52s\n",
      "957:\tlearn: 0.8357667\ttest: 0.7937247\tbest: 0.7941176 (894)\ttotal: 34s\tremaining: 1.49s\n",
      "958:\tlearn: 0.8359351\ttest: 0.7935564\tbest: 0.7941176 (894)\ttotal: 34s\tremaining: 1.45s\n",
      "959:\tlearn: 0.8358870\ttest: 0.7935564\tbest: 0.7941176 (894)\ttotal: 34.1s\tremaining: 1.42s\n",
      "960:\tlearn: 0.8360313\ttest: 0.7934441\tbest: 0.7941176 (894)\ttotal: 34.1s\tremaining: 1.38s\n",
      "961:\tlearn: 0.8360553\ttest: 0.7934441\tbest: 0.7941176 (894)\ttotal: 34.1s\tremaining: 1.35s\n",
      "962:\tlearn: 0.8360313\ttest: 0.7936125\tbest: 0.7941176 (894)\ttotal: 34.1s\tremaining: 1.31s\n",
      "963:\tlearn: 0.8361515\ttest: 0.7938931\tbest: 0.7941176 (894)\ttotal: 34.2s\tremaining: 1.28s\n",
      "964:\tlearn: 0.8361756\ttest: 0.7940054\tbest: 0.7941176 (894)\ttotal: 34.2s\tremaining: 1.24s\n",
      "965:\tlearn: 0.8361756\ttest: 0.7939493\tbest: 0.7941176 (894)\ttotal: 34.3s\tremaining: 1.21s\n",
      "966:\tlearn: 0.8363199\ttest: 0.7937809\tbest: 0.7941176 (894)\ttotal: 34.3s\tremaining: 1.17s\n",
      "967:\tlearn: 0.8364642\ttest: 0.7938370\tbest: 0.7941176 (894)\ttotal: 34.4s\tremaining: 1.14s\n",
      "968:\tlearn: 0.8366085\ttest: 0.7937247\tbest: 0.7941176 (894)\ttotal: 34.4s\tremaining: 1.1s\n",
      "969:\tlearn: 0.8365604\ttest: 0.7939493\tbest: 0.7941176 (894)\ttotal: 34.5s\tremaining: 1.07s\n",
      "970:\tlearn: 0.8365845\ttest: 0.7940615\tbest: 0.7941176 (894)\ttotal: 34.5s\tremaining: 1.03s\n",
      "971:\tlearn: 0.8366326\ttest: 0.7938370\tbest: 0.7941176 (894)\ttotal: 34.6s\tremaining: 996ms\n",
      "972:\tlearn: 0.8368010\ttest: 0.7939493\tbest: 0.7941176 (894)\ttotal: 34.6s\tremaining: 960ms\n",
      "973:\tlearn: 0.8368010\ttest: 0.7940615\tbest: 0.7941176 (894)\ttotal: 34.6s\tremaining: 924ms\n",
      "974:\tlearn: 0.8367288\ttest: 0.7940054\tbest: 0.7941176 (894)\ttotal: 34.6s\tremaining: 888ms\n",
      "975:\tlearn: 0.8368731\ttest: 0.7938931\tbest: 0.7941176 (894)\ttotal: 34.7s\tremaining: 853ms\n",
      "976:\tlearn: 0.8369212\ttest: 0.7939493\tbest: 0.7941176 (894)\ttotal: 34.7s\tremaining: 817ms\n",
      "977:\tlearn: 0.8367769\ttest: 0.7937809\tbest: 0.7941176 (894)\ttotal: 34.7s\tremaining: 782ms\n",
      "978:\tlearn: 0.8368731\ttest: 0.7940615\tbest: 0.7941176 (894)\ttotal: 34.8s\tremaining: 746ms\n",
      "979:\tlearn: 0.8368731\ttest: 0.7940615\tbest: 0.7941176 (894)\ttotal: 34.8s\tremaining: 710ms\n",
      "980:\tlearn: 0.8369453\ttest: 0.7940054\tbest: 0.7941176 (894)\ttotal: 34.8s\tremaining: 675ms\n",
      "981:\tlearn: 0.8370415\ttest: 0.7938370\tbest: 0.7941176 (894)\ttotal: 34.9s\tremaining: 639ms\n",
      "982:\tlearn: 0.8371137\ttest: 0.7937247\tbest: 0.7941176 (894)\ttotal: 34.9s\tremaining: 604ms\n",
      "983:\tlearn: 0.8370174\ttest: 0.7938370\tbest: 0.7941176 (894)\ttotal: 35s\tremaining: 568ms\n",
      "984:\tlearn: 0.8371618\ttest: 0.7941176\tbest: 0.7941176 (894)\ttotal: 35s\tremaining: 533ms\n",
      "985:\tlearn: 0.8370896\ttest: 0.7941738\tbest: 0.7941738 (985)\ttotal: 35s\tremaining: 497ms\n",
      "986:\tlearn: 0.8371618\ttest: 0.7942860\tbest: 0.7942860 (986)\ttotal: 35.1s\tremaining: 462ms\n",
      "987:\tlearn: 0.8372339\ttest: 0.7941738\tbest: 0.7942860 (986)\ttotal: 35.1s\tremaining: 426ms\n",
      "988:\tlearn: 0.8371137\ttest: 0.7942860\tbest: 0.7942860 (986)\ttotal: 35.1s\tremaining: 391ms\n",
      "989:\tlearn: 0.8369453\ttest: 0.7941738\tbest: 0.7942860 (986)\ttotal: 35.2s\tremaining: 355ms\n",
      "990:\tlearn: 0.8369934\ttest: 0.7939493\tbest: 0.7942860 (986)\ttotal: 35.2s\tremaining: 320ms\n",
      "991:\tlearn: 0.8369934\ttest: 0.7938931\tbest: 0.7942860 (986)\ttotal: 35.3s\tremaining: 284ms\n",
      "992:\tlearn: 0.8370174\ttest: 0.7942299\tbest: 0.7942860 (986)\ttotal: 35.3s\tremaining: 249ms\n",
      "993:\tlearn: 0.8370655\ttest: 0.7945106\tbest: 0.7945106 (993)\ttotal: 35.3s\tremaining: 213ms\n",
      "994:\tlearn: 0.8371858\ttest: 0.7943983\tbest: 0.7945106 (993)\ttotal: 35.3s\tremaining: 178ms\n",
      "995:\tlearn: 0.8372580\ttest: 0.7942860\tbest: 0.7945106 (993)\ttotal: 35.4s\tremaining: 142ms\n",
      "996:\tlearn: 0.8374985\ttest: 0.7942860\tbest: 0.7945106 (993)\ttotal: 35.4s\tremaining: 107ms\n",
      "997:\tlearn: 0.8375225\ttest: 0.7941738\tbest: 0.7945106 (993)\ttotal: 35.4s\tremaining: 71ms\n",
      "998:\tlearn: 0.8376909\ttest: 0.7942860\tbest: 0.7945106 (993)\ttotal: 35.5s\tremaining: 35.5ms\n",
      "999:\tlearn: 0.8376188\ttest: 0.7941738\tbest: 0.7945106 (993)\ttotal: 35.5s\tremaining: 0us\n",
      "bestTest = 0.7945105523\n",
      "bestIteration = 993\n",
      "Shrink model to first 994 iterations.\n"
     ]
    },
    {
     "name": "stdout",
     "output_type": "stream",
     "text": [
      "[1] \"2021-05-19 00:12:39 IST\"\n"
     ]
    }
   ],
   "source": [
    "print(Sys.time())\n",
    "model <- catboost.train(train_pool, test_pool=test_pool,params = list(\n",
    "task_type = \"GPU\" ,\n",
    "loss_function = \"MultiClass\",\n",
    "eval_metric=\"Accuracy\",\n",
    "random_seed = 10,\n",
    "use_best_model = TRUE\n",
    "))\n",
    "print(Sys.time())"
   ]
  },
  {
   "cell_type": "code",
   "execution_count": 100,
   "metadata": {},
   "outputs": [
    {
     "name": "stdout",
     "output_type": "stream",
     "text": [
      "CatBoost model (994 trees)\n",
      "Loss function: MultiClass\n",
      "Fit to 16 features\n"
     ]
    }
   ],
   "source": [
    "print(model)"
   ]
  },
  {
   "cell_type": "code",
   "execution_count": 101,
   "metadata": {},
   "outputs": [
    {
     "name": "stdout",
     "output_type": "stream",
     "text": [
      "                           [,1]\n",
      "amount_tsh             2.142860\n",
      "funder                10.917798\n",
      "gps_height             5.341195\n",
      "longitude              9.588181\n",
      "latitude               9.827019\n",
      "basin                  4.138758\n",
      "population             5.003162\n",
      "scheme_management      2.855447\n",
      "extraction_type_class  7.481851\n",
      "management             2.753674\n",
      "payment                6.359920\n",
      "quality_group          1.111670\n",
      "quantity_group        15.423340\n",
      "source                 6.855155\n",
      "waterpoint_type_group  4.058728\n",
      "age                    6.141242\n"
     ]
    }
   ],
   "source": [
    "print(catboost.get_feature_importance(model,pool = train_pool))"
   ]
  },
  {
   "cell_type": "code",
   "execution_count": 102,
   "metadata": {},
   "outputs": [],
   "source": [
    "catboost_pred <- catboost.predict(model,test_pool,prediction_type=\"Class\")"
   ]
  },
  {
   "cell_type": "code",
   "execution_count": 103,
   "metadata": {},
   "outputs": [
    {
     "name": "stdout",
     "output_type": "stream",
     "text": [
      "[1] \"Accuracy\"\n",
      "[1] 79.45106\n"
     ]
    }
   ],
   "source": [
    "print(\"Accuracy\")\n",
    "print(sum(ifelse(catboost_pred==test_data_label,1,0))/nrow(test_data_catboost)*100)"
   ]
  },
  {
   "cell_type": "code",
   "execution_count": 104,
   "metadata": {},
   "outputs": [],
   "source": [
    "confusion_matrix_catboost <-table(test_data_label,catboost_pred)"
   ]
  },
  {
   "cell_type": "code",
   "execution_count": 105,
   "metadata": {},
   "outputs": [
    {
     "name": "stdout",
     "output_type": "stream",
     "text": [
      "[1] \"Recall Per Class - CatBoost\"\n",
      "[1] 90.49194 25.94595 73.96640\n"
     ]
    }
   ],
   "source": [
    "print(\"Recall Per Class - CatBoost\")\n",
    "recall_catboost <- calc_recall(confusion_matrix_catboost)\n",
    "print(recall_catboost)\n"
   ]
  },
  {
   "cell_type": "code",
   "execution_count": 106,
   "metadata": {},
   "outputs": [
    {
     "name": "stdout",
     "output_type": "stream",
     "text": [
      "[1] \"Precision Per Class - CatBoost\"\n",
      "[1] 77.94890 60.75949 83.96352\n"
     ]
    }
   ],
   "source": [
    "print(\"Precision Per Class - CatBoost\")\n",
    "precision_catboost <- calc_precision(confusion_matrix_catboost)\n",
    "print(precision_catboost)"
   ]
  },
  {
   "cell_type": "code",
   "execution_count": 107,
   "metadata": {},
   "outputs": [
    {
     "name": "stdout",
     "output_type": "stream",
     "text": [
      "[1] \"F1 - SCore - CatBoost\"\n",
      "[1] 83.75341 36.36364 78.64854\n"
     ]
    }
   ],
   "source": [
    "print(\"F1 - SCore - CatBoost\")\n",
    "f1_catboost <- calc_f1(precision_catboost,recall_catboost)\n",
    "print(f1_catboost)"
   ]
  },
  {
   "cell_type": "markdown",
   "metadata": {},
   "source": [
    "## Task 4 - Predicting the outputs for the test file"
   ]
  },
  {
   "cell_type": "markdown",
   "metadata": {},
   "source": [
    "### Preprocessing the test data set as the same as the training dataset above"
   ]
  },
  {
   "cell_type": "code",
   "execution_count": 108,
   "metadata": {},
   "outputs": [],
   "source": [
    "testing_data_complete <- data.frame(testing_data_x)\n",
    "testing_data_x <- subset(testing_data_x,select=-num_private)\n",
    "testing_data_x <- subset(testing_data_x,select=-scheme_name)\n",
    "testing_data_x$scheme_management[testing_data_x$scheme_management==NA]<-'Other'\n",
    "testing_data_x$funder[testing_data_x$funder==NA]<-'Others'\n",
    "testing_data_x <- subset(testing_data_x,select = -c(water_quality,payment_type,waterpoint_type,source_type,extraction_type,installer,quantity))\n",
    "date_recorded_in_years <- as.numeric(format(as.Date(testing_data_x$\"date_recorded\"),\"%Y\"))\n",
    "testing_data_x[\"age\"] <-   date_recorded_in_years - testing_data_x[\"construction_year\"]\n",
    "testing_data_x$age[testing_data_x[\"age\"]==as.numeric(format(as.Date(testing_data_x$\"date_recorded\"),\"%Y\"))] <- median(testing_data_x$age)\n",
    "testing_data_x <- subset(testing_data_x,select=-c(date_recorded,construction_year))\n",
    "testing_data_x[\"scheme_management\"][is.na(testing_data_x[\"scheme_management\"])]<- \"Other\"\n",
    "testing_data_x <- subset(testing_data_x,select=-c(permit,public_meeting))\n",
    "testing_data_x <- subset(testing_data_x, select = -c(wpt_name,subvillage,region_code,district_code,lga,ward,region))\n",
    "testing_data_x[\"amount_tsh\"] <- lapply((testing_data_x[\"amount_tsh\"]),as.numeric)\n",
    "testing_data_x[\"amount_tsh\"][is.na(testing_data_x[\"amount_tsh\"])]<- mean((testing_data_x$amount_tsh))\n",
    "testing_data_x[\"gps_height\"][is.na(testing_data_x[\"gps_height\"])]<- mean(as.numeric(testing_data_x$gps_height))\n",
    "testing_data_x[\"latitude\"][is.na(testing_data_x[\"latitude\"])]<- mean(as.numeric(testing_data_x$latitude))\n",
    "testing_data_x[\"longitude\"][is.na(testing_data_x[\"longitude\"])]<- mean(as.numeric(testing_data_x$longitude))\n",
    "testing_data_x$longitude[testing_data_x$longitude==0]<-median(testing_data_x$longitude)\n",
    "testing_data_x[\"funder\"][is.na(testing_data_x[\"funder\"])] <- \"Other\"\n",
    "testing_data_x <- subset(testing_data_x,select=-c(id))\n"
   ]
  },
  {
   "cell_type": "markdown",
   "metadata": {},
   "source": [
    "### Predicting the functionality of water pump using the Random Forest model. We used Random Forest for our final selection as it gave the best accuracy."
   ]
  },
  {
   "cell_type": "code",
   "execution_count": 109,
   "metadata": {},
   "outputs": [],
   "source": [
    "predict_test <- predict(model_final_rf,testing_data_x)\n",
    "predict_final_dataframe <- data.frame(\"id\"=testing_data_complete$id,\"status_group\"=predict_test)"
   ]
  },
  {
   "cell_type": "code",
   "execution_count": 110,
   "metadata": {},
   "outputs": [],
   "source": [
    "write.csv(predict_final_dataframe,\"Submission.csv\")"
   ]
  },
  {
   "cell_type": "markdown",
   "metadata": {},
   "source": [
    "# Conclusions"
   ]
  },
  {
   "cell_type": "markdown",
   "metadata": {},
   "source": [
    "After running all the models, a summarised view of their accuracies is described below. "
   ]
  },
  {
   "cell_type": "markdown",
   "metadata": {},
   "source": [
    "| Model | Accuracy   |\n",
    "|------|------|\n",
    "|   Random Forest | 81.23%|\n",
    "|  KNN | 77.03%|\n",
    "|  Decision Tree | 77.07%|\n",
    "|  CatBoost | 79.63%|"
   ]
  },
  {
   "cell_type": "markdown",
   "metadata": {},
   "source": [
    "Class-wise Precision Recall and F1 at the time of code execution"
   ]
  },
  {
   "cell_type": "markdown",
   "metadata": {},
   "source": [
    "| Model |Class| Precision   |Recall|F1-Score|\n",
    "|------|------|-----|-----|-----|\n",
    "|   Random Forest |Functional|80.88|89.68|85.06|\n",
    "|  Random Forest |Functional Needs Repair|56.76|33.70|42.29|\n",
    "|  Random Forest |Non Functional|84.81|78.29|81.42|\n"
   ]
  },
  {
   "cell_type": "markdown",
   "metadata": {},
   "source": [
    "| Model |Class| Precision   |Recall|F1-Score|\n",
    "|------|------|-----|-----|-----|\n",
    "|   KNN |Functional|78.42|85.49|85.06|\n",
    "|  KNN |Functional Needs Repair|63.52|40.89|49.76|\n",
    "|  KNN |Non Functional|76.98|78.39|74.61|\n"
   ]
  },
  {
   "cell_type": "markdown",
   "metadata": {},
   "source": [
    "| Model |Class| Precision   |Recall|F1-Score|\n",
    "|------|------|-----|-----|-----|\n",
    "|   Decision Tree |Functional|66.72|93.46|77.86|\n",
    "|  Decision Tree|Functional Needs Repair|NaN|0|NaN|\n",
    "|  Decision Tree |Non Functional|81.98|51.96|63.60|\n"
   ]
  },
  {
   "cell_type": "markdown",
   "metadata": {},
   "source": [
    "| Model |Class| Precision   |Recall|F1-Score|\n",
    "|------|------|-----|-----|-----|\n",
    "|  CatBoost |Functional|77.85|90.62|83.75|\n",
    "|  CatBoost|Functional Needs Repair|57.95|25.32|35.24|\n",
    "|  CatBoost |Non Functional|84.31|73.74|78.67|\n"
   ]
  },
  {
   "cell_type": "markdown",
   "metadata": {},
   "source": [
    "----\n",
    "F1 Scores take into account both precision and recall. Random Forest and CatBoost are proving to be good for Functional and Non Functional. They produce a low F1 Score for Functional Needs Repair. Therefore we can say that they are a bit biased. Same for KNN. But KNN gives a better F1 Score for Functional Needs Repair. Decision Trees are unable to predict any Functional Needs Repair"
   ]
  },
  {
   "cell_type": "markdown",
   "metadata": {},
   "source": [
    "### Notes -\n",
    "1. After the recording of the presentation we realised that the Lasso model gave us an accuracy of 68% and not 54% as mentioned in the video. \n",
    "\n",
    "2. The PDF report has been generated in A2 layout mode to prevent trimming of the code and comments leading to small number of pages."
   ]
  }
 ],
 "metadata": {
  "kernelspec": {
   "display_name": "R",
   "language": "R",
   "name": "ir"
  },
  "language_info": {
   "codemirror_mode": "r",
   "file_extension": ".r",
   "mimetype": "text/x-r-source",
   "name": "R",
   "pygments_lexer": "r",
   "version": "4.0.5"
  }
 },
 "nbformat": 4,
 "nbformat_minor": 4
}
